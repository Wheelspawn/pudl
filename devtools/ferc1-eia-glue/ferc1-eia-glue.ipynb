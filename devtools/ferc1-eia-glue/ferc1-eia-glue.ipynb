{
 "cells": [
  {
   "cell_type": "markdown",
   "metadata": {},
   "source": [
    "# Integrating New FERC Form 1 and EIA Data Releases\n",
    "This notebook generates lists of new plants and utilities that need to be assigned PUDL IDs. It helps with the process of integrating new data each fall when the agencies make their new annual release for the previous year.\n",
    "\n",
    "## Prerequisites:\n",
    "* All available EIA 860/923 years must be loaded into your PUDL DB.\n",
    "* This includes the **new** year of data to be integrated.\n",
    "* This means the spreadsheet tab maps need to be updated.\n",
    "* Some minor EIA data wrangling may also be required.\n",
    "* All years of FERC Form 1 data must be loaded into your FERC 1 DB.\n",
    "* This includes the **new** year of data to be integrated.\n",
    "\n",
    "## Outputs:\n",
    "* `unmapped_utilities_ferc1.csv`: Respondent IDs and respondent names of utilities which appear in the FERC Form 1 DB, but which do **not** appear in the PUDL ID mapping spreadsheet.\n",
    "* `unmapped_plants_ferc1.csv`: Plant names, respondent names, and respondent IDs associated with plants that appear in the FERC Form 1 DB, but which do **not** appear in the PUDL ID Mapping spreadsheet.\n",
    "* `unmapped_utilities_eia.csv`: EIA Utility IDs and names of utilities which appear in the PUDL DB, but which do **not** appear in the PUDL ID mapping spreadsheet.\n",
    "* `unmapped_plants_eia.csv`: EIA Plant IDs and Plant Names of plants which appear in the PUDL DB, but which do **not** appear in the PUDL ID mapping spreadsheet.  The Utility ID and Name for the primary plant operator, as well as the aggregate plant capacity and the state the plant is located in are also proved to aid in PUDL ID mapping.\n",
    "* `lost_utilities_eia.csv`: The Utility IDs and Names of utilities which appear in the PUDL ID mapping spreadsheet but which do **not** appear in the PUDL DB. Likely because EIA revised previous years of data, and removed those utilities, after we had mapped them.\n",
    "* `lost_plants_eia.csv`: The Plant IDs and Names of plants which appear in the PUDL ID mapping spreadsheet but which do **not** appear in the PUDL DB. Likely because EIA revised previous years of data, and removed those plants, after we had mapped them."
   ]
  },
  {
   "cell_type": "code",
   "execution_count": 1,
   "metadata": {},
   "outputs": [
    {
     "data": {
      "text/plain": [
       "{'pudl_in': '/Users/aesharpe/Desktop/Work/Catalyst_Coop/PUDL_DIR',\n",
       " 'data_dir': '/Users/aesharpe/Desktop/Work/Catalyst_Coop/PUDL_DIR/data',\n",
       " 'settings_dir': '/Users/aesharpe/Desktop/Work/Catalyst_Coop/PUDL_DIR/settings',\n",
       " 'pudl_out': '/Users/aesharpe/Desktop/Work/Catalyst_Coop/PUDL_DIR',\n",
       " 'sqlite_dir': '/Users/aesharpe/Desktop/Work/Catalyst_Coop/PUDL_DIR/sqlite',\n",
       " 'parquet_dir': '/Users/aesharpe/Desktop/Work/Catalyst_Coop/PUDL_DIR/parquet',\n",
       " 'datapkg_dir': '/Users/aesharpe/Desktop/Work/Catalyst_Coop/PUDL_DIR/datapkg',\n",
       " 'ferc1_db': 'sqlite:////Users/aesharpe/Desktop/Work/Catalyst_Coop/PUDL_DIR/sqlite/ferc1.sqlite',\n",
       " 'pudl_db': 'sqlite:////Users/aesharpe/Desktop/Work/Catalyst_Coop/PUDL_DIR/sqlite/pudl.sqlite',\n",
       " 'censusdp1tract_db': 'sqlite:////Users/aesharpe/Desktop/Work/Catalyst_Coop/PUDL_DIR/sqlite/censusdp1tract.sqlite'}"
      ]
     },
     "execution_count": 1,
     "metadata": {},
     "output_type": "execute_result"
    }
   ],
   "source": [
    "%load_ext autoreload\n",
    "%autoreload 2\n",
    "import sqlalchemy as sa\n",
    "import pandas as pd\n",
    "import pudl\n",
    "import re\n",
    "from pathlib import Path\n",
    "pudl_settings = pudl.workspace.setup.get_defaults()\n",
    "pudl_settings"
   ]
  },
  {
   "cell_type": "markdown",
   "metadata": {},
   "source": [
    "## Setup:\n",
    "* Create FERC1/PUDL database connections\n",
    "* Set the scope of the FERC Form 1 search (which years to check)"
   ]
  },
  {
   "cell_type": "code",
   "execution_count": 9,
   "metadata": {},
   "outputs": [
    {
     "name": "stdout",
     "output_type": "stream",
     "text": [
      "Searching for new FERC 1 plants, utilities and strings in the following years:\n",
      "(1994, 1995, 1996, 1997, 1998, 1999, 2000, 2001, 2002, 2003, 2004, 2005, 2006, 2007, 2008, 2009, 2010, 2011, 2012, 2013, 2014, 2015, 2016, 2017, 2018, 2019)\n"
     ]
    }
   ],
   "source": [
    "ferc1_engine = sa.create_engine(pudl_settings[\"ferc1_db\"])\n",
    "pudl_engine = sa.create_engine(pudl_settings[\"pudl_db\"])\n",
    "ferc1_years = pudl.constants.DATA_YEARS[\"ferc1\"]\n",
    "print(\"Searching for new FERC 1 plants, utilities and strings in the following years:\")\n",
    "print(ferc1_years)"
   ]
  },
  {
   "cell_type": "code",
   "execution_count": 10,
   "metadata": {
    "collapsed": true,
    "jupyter": {
     "outputs_hidden": true
    },
    "tags": []
   },
   "outputs": [
    {
     "name": "stdout",
     "output_type": "stream",
     "text": [
      "EIA Years in db:    report_date\n",
      "0   2019-01-01\n",
      "1   2018-01-01\n",
      "2   2017-01-01\n",
      "3   2016-01-01\n",
      "4   2015-01-01\n",
      "5   2014-01-01\n",
      "6   2013-01-01\n",
      "7   2012-01-01\n",
      "8   2011-01-01\n",
      "9   2010-01-01\n",
      "10  2009-01-01\n",
      "11  2008-01-01\n",
      "12  2007-01-01\n",
      "13  2006-01-01\n",
      "14  2005-01-01\n",
      "15  2004-01-01\n",
      "16  2003-01-01\n",
      "17  2002-01-01\n",
      "18  2001-01-01\n"
     ]
    }
   ],
   "source": [
    "with pudl_engine.connect() as conn:\n",
    "    eia_years = pd.read_sql(\"select distinct(report_date) from plants_eia860\", conn)\n",
    "\n",
    "print(f\"EIA Years in db: {(eia_years)}\")"
   ]
  },
  {
   "cell_type": "markdown",
   "metadata": {},
   "source": [
    "## Unmapped FERC Form 1 Plants"
   ]
  },
  {
   "cell_type": "code",
   "execution_count": 11,
   "metadata": {
    "tags": []
   },
   "outputs": [
    {
     "name": "stdout",
     "output_type": "stream",
     "text": [
      "0 unmapped FERC 1 plants found in 1994-2019.\n",
      "Writing 0 out to unmapped_plants_ferc1.csv\n"
     ]
    },
    {
     "data": {
      "text/html": [
       "<div>\n",
       "<style scoped>\n",
       "    .dataframe tbody tr th:only-of-type {\n",
       "        vertical-align: middle;\n",
       "    }\n",
       "\n",
       "    .dataframe tbody tr th {\n",
       "        vertical-align: top;\n",
       "    }\n",
       "\n",
       "    .dataframe thead th {\n",
       "        text-align: right;\n",
       "    }\n",
       "</style>\n",
       "<table border=\"1\" class=\"dataframe\">\n",
       "  <thead>\n",
       "    <tr style=\"text-align: right;\">\n",
       "      <th></th>\n",
       "      <th>utility_id_ferc1</th>\n",
       "      <th>plant_name_ferc1</th>\n",
       "      <th>utility_name_ferc1</th>\n",
       "      <th>capacity_mw</th>\n",
       "      <th>plant_table</th>\n",
       "    </tr>\n",
       "  </thead>\n",
       "  <tbody>\n",
       "  </tbody>\n",
       "</table>\n",
       "</div>"
      ],
      "text/plain": [
       "Empty DataFrame\n",
       "Columns: [utility_id_ferc1, plant_name_ferc1, utility_name_ferc1, capacity_mw, plant_table]\n",
       "Index: []"
      ]
     },
     "execution_count": 11,
     "metadata": {},
     "output_type": "execute_result"
    }
   ],
   "source": [
    "unmapped_plants_ferc1 = pudl.glue.ferc1_eia.get_unmapped_plants_ferc1(pudl_settings, years=ferc1_years)\n",
    "n_ferc1_unmapped_plants = len(unmapped_plants_ferc1)\n",
    "print(f\"{n_ferc1_unmapped_plants} unmapped FERC 1 plants found in {min(ferc1_years)}-{max(ferc1_years)}.\")\n",
    "outfile = Path(\"unmapped_plants_ferc1.csv\")\n",
    "print(f\"Writing {n_ferc1_unmapped_plants} out to {outfile}\")\n",
    "unmapped_plants_ferc1.to_csv(outfile, index=False)\n",
    "unmapped_plants_ferc1"
   ]
  },
  {
   "cell_type": "markdown",
   "metadata": {},
   "source": [
    "## Unmapped FERC Form 1 Utilities / Respondents\n",
    "* **Note:** Frequently there are zero of these."
   ]
  },
  {
   "cell_type": "code",
   "execution_count": 7,
   "metadata": {},
   "outputs": [
    {
     "name": "stdout",
     "output_type": "stream",
     "text": [
      "0 unmapped FERC 1 utilities found in 1994-2019.\n",
      "Writing 0 out to unmapped_utilities_ferc1.csv\n"
     ]
    },
    {
     "data": {
      "text/html": [
       "<div>\n",
       "<style scoped>\n",
       "    .dataframe tbody tr th:only-of-type {\n",
       "        vertical-align: middle;\n",
       "    }\n",
       "\n",
       "    .dataframe tbody tr th {\n",
       "        vertical-align: top;\n",
       "    }\n",
       "\n",
       "    .dataframe thead th {\n",
       "        text-align: right;\n",
       "    }\n",
       "</style>\n",
       "<table border=\"1\" class=\"dataframe\">\n",
       "  <thead>\n",
       "    <tr style=\"text-align: right;\">\n",
       "      <th></th>\n",
       "      <th>utility_id_ferc1</th>\n",
       "      <th>utility_name_ferc1</th>\n",
       "    </tr>\n",
       "  </thead>\n",
       "  <tbody>\n",
       "  </tbody>\n",
       "</table>\n",
       "</div>"
      ],
      "text/plain": [
       "Empty DataFrame\n",
       "Columns: [utility_id_ferc1, utility_name_ferc1]\n",
       "Index: []"
      ]
     },
     "execution_count": 7,
     "metadata": {},
     "output_type": "execute_result"
    }
   ],
   "source": [
    "unmapped_utils_ferc1 = pudl.glue.ferc1_eia.get_unmapped_utils_ferc1(ferc1_engine)\n",
    "n_ferc1_unmapped_utils = len(unmapped_utils_ferc1)\n",
    "print(f\"{n_ferc1_unmapped_utils} unmapped FERC 1 utilities found in {min(ferc1_years)}-{max(ferc1_years)}.\")\n",
    "outfile = Path(\"unmapped_utilities_ferc1.csv\")\n",
    "print(f\"Writing {n_ferc1_unmapped_utils} out to {outfile}\")\n",
    "unmapped_utils_ferc1.to_csv(outfile, index=False)\n",
    "unmapped_utils_ferc1"
   ]
  },
  {
   "cell_type": "markdown",
   "metadata": {},
   "source": [
    "## Unmapped EIA Plants\n",
    "* **Note:** Some unmapped EIA plants do not have Utilities associated with them.\n",
    "* Many of these plants are too small to warrant mapping, and so capacity is included as a potential filter.\n",
    "* Also note that the first and last few plants in the output dataframe have a bunch of NA values... which can be confusing."
   ]
  },
  {
   "cell_type": "code",
   "execution_count": 13,
   "metadata": {},
   "outputs": [
    {
     "name": "stdout",
     "output_type": "stream",
     "text": [
      "Found 253 unmapped EIA plants.\n"
     ]
    },
    {
     "data": {
      "text/html": [
       "<div>\n",
       "<style scoped>\n",
       "    .dataframe tbody tr th:only-of-type {\n",
       "        vertical-align: middle;\n",
       "    }\n",
       "\n",
       "    .dataframe tbody tr th {\n",
       "        vertical-align: top;\n",
       "    }\n",
       "\n",
       "    .dataframe thead th {\n",
       "        text-align: right;\n",
       "    }\n",
       "</style>\n",
       "<table border=\"1\" class=\"dataframe\">\n",
       "  <thead>\n",
       "    <tr style=\"text-align: right;\">\n",
       "      <th></th>\n",
       "      <th>plant_id_eia</th>\n",
       "      <th>plant_name_eia</th>\n",
       "      <th>utility_id_eia</th>\n",
       "      <th>utility_name_eia</th>\n",
       "      <th>state</th>\n",
       "      <th>capacity_mw</th>\n",
       "    </tr>\n",
       "  </thead>\n",
       "  <tbody>\n",
       "    <tr>\n",
       "      <th>0</th>\n",
       "      <td>230</td>\n",
       "      <td>None</td>\n",
       "      <td>&lt;NA&gt;</td>\n",
       "      <td>None</td>\n",
       "      <td>None</td>\n",
       "      <td>NaN</td>\n",
       "    </tr>\n",
       "    <tr>\n",
       "      <th>1</th>\n",
       "      <td>234</td>\n",
       "      <td>None</td>\n",
       "      <td>&lt;NA&gt;</td>\n",
       "      <td>None</td>\n",
       "      <td>None</td>\n",
       "      <td>NaN</td>\n",
       "    </tr>\n",
       "    <tr>\n",
       "      <th>2</th>\n",
       "      <td>278</td>\n",
       "      <td>None</td>\n",
       "      <td>&lt;NA&gt;</td>\n",
       "      <td>None</td>\n",
       "      <td>None</td>\n",
       "      <td>NaN</td>\n",
       "    </tr>\n",
       "    <tr>\n",
       "      <th>3</th>\n",
       "      <td>343</td>\n",
       "      <td>None</td>\n",
       "      <td>&lt;NA&gt;</td>\n",
       "      <td>None</td>\n",
       "      <td>None</td>\n",
       "      <td>NaN</td>\n",
       "    </tr>\n",
       "    <tr>\n",
       "      <th>4</th>\n",
       "      <td>346</td>\n",
       "      <td>None</td>\n",
       "      <td>&lt;NA&gt;</td>\n",
       "      <td>None</td>\n",
       "      <td>None</td>\n",
       "      <td>NaN</td>\n",
       "    </tr>\n",
       "    <tr>\n",
       "      <th>...</th>\n",
       "      <td>...</td>\n",
       "      <td>...</td>\n",
       "      <td>...</td>\n",
       "      <td>...</td>\n",
       "      <td>...</td>\n",
       "      <td>...</td>\n",
       "    </tr>\n",
       "    <tr>\n",
       "      <th>248</th>\n",
       "      <td>55948</td>\n",
       "      <td>liberty generating</td>\n",
       "      <td>14046</td>\n",
       "      <td>orion power operating services</td>\n",
       "      <td>PA</td>\n",
       "      <td>1583.0</td>\n",
       "    </tr>\n",
       "    <tr>\n",
       "      <th>249</th>\n",
       "      <td>55971</td>\n",
       "      <td>washington county</td>\n",
       "      <td>15381</td>\n",
       "      <td>progress genco ventures llc</td>\n",
       "      <td>GA</td>\n",
       "      <td>797.6</td>\n",
       "    </tr>\n",
       "    <tr>\n",
       "      <th>250</th>\n",
       "      <td>55978</td>\n",
       "      <td>montfort wind farm</td>\n",
       "      <td>6354</td>\n",
       "      <td>fpl energy upton wind lp</td>\n",
       "      <td>WI</td>\n",
       "      <td>30.0</td>\n",
       "    </tr>\n",
       "    <tr>\n",
       "      <th>251</th>\n",
       "      <td>55979</td>\n",
       "      <td>fenner wind</td>\n",
       "      <td>38002</td>\n",
       "      <td>chi energy inc</td>\n",
       "      <td>NY</td>\n",
       "      <td>NaN</td>\n",
       "    </tr>\n",
       "    <tr>\n",
       "      <th>252</th>\n",
       "      <td>56168</td>\n",
       "      <td>None</td>\n",
       "      <td>&lt;NA&gt;</td>\n",
       "      <td>NaN</td>\n",
       "      <td>None</td>\n",
       "      <td>NaN</td>\n",
       "    </tr>\n",
       "  </tbody>\n",
       "</table>\n",
       "<p>253 rows × 6 columns</p>\n",
       "</div>"
      ],
      "text/plain": [
       "     plant_id_eia      plant_name_eia  utility_id_eia  \\\n",
       "0             230                None            <NA>   \n",
       "1             234                None            <NA>   \n",
       "2             278                None            <NA>   \n",
       "3             343                None            <NA>   \n",
       "4             346                None            <NA>   \n",
       "..            ...                 ...             ...   \n",
       "248         55948  liberty generating           14046   \n",
       "249         55971   washington county           15381   \n",
       "250         55978  montfort wind farm            6354   \n",
       "251         55979         fenner wind           38002   \n",
       "252         56168                None            <NA>   \n",
       "\n",
       "                   utility_name_eia state  capacity_mw  \n",
       "0                              None  None          NaN  \n",
       "1                              None  None          NaN  \n",
       "2                              None  None          NaN  \n",
       "3                              None  None          NaN  \n",
       "4                              None  None          NaN  \n",
       "..                              ...   ...          ...  \n",
       "248  orion power operating services    PA       1583.0  \n",
       "249     progress genco ventures llc    GA        797.6  \n",
       "250        fpl energy upton wind lp    WI         30.0  \n",
       "251                  chi energy inc    NY          NaN  \n",
       "252                             NaN  None          NaN  \n",
       "\n",
       "[253 rows x 6 columns]"
      ]
     },
     "execution_count": 13,
     "metadata": {},
     "output_type": "execute_result"
    }
   ],
   "source": [
    "unmapped_plants_eia = pudl.glue.ferc1_eia.get_unmapped_plants_eia(pudl_engine)\n",
    "print(f\"Found {len(unmapped_plants_eia)} unmapped EIA plants.\")\n",
    "outfile = Path(\"unmapped_plants_eia.csv\")\n",
    "unmapped_plants_eia.to_csv(outfile)\n",
    "unmapped_plants_eia"
   ]
  },
  {
   "cell_type": "markdown",
   "metadata": {},
   "source": [
    "## Lost EIA Plants\n",
    "* There shouldn't be very many of these... if it's more than a few hundred (out of the ~10,000 EIA plants) then something may be wrong."
   ]
  },
  {
   "cell_type": "code",
   "execution_count": 14,
   "metadata": {},
   "outputs": [
    {
     "name": "stdout",
     "output_type": "stream",
     "text": [
      "Found 3 lost EIA plants.\n"
     ]
    },
    {
     "data": {
      "text/html": [
       "<div>\n",
       "<style scoped>\n",
       "    .dataframe tbody tr th:only-of-type {\n",
       "        vertical-align: middle;\n",
       "    }\n",
       "\n",
       "    .dataframe tbody tr th {\n",
       "        vertical-align: top;\n",
       "    }\n",
       "\n",
       "    .dataframe thead th {\n",
       "        text-align: right;\n",
       "    }\n",
       "</style>\n",
       "<table border=\"1\" class=\"dataframe\">\n",
       "  <thead>\n",
       "    <tr style=\"text-align: right;\">\n",
       "      <th></th>\n",
       "      <th>plant_name_eia</th>\n",
       "    </tr>\n",
       "    <tr>\n",
       "      <th>plant_id_eia</th>\n",
       "      <th></th>\n",
       "    </tr>\n",
       "  </thead>\n",
       "  <tbody>\n",
       "    <tr>\n",
       "      <th>99999</th>\n",
       "      <td>state-fuel level increment</td>\n",
       "    </tr>\n",
       "    <tr>\n",
       "      <th>60812</th>\n",
       "      <td>gruber solar center</td>\n",
       "    </tr>\n",
       "    <tr>\n",
       "      <th>60767</th>\n",
       "      <td>seashore solar</td>\n",
       "    </tr>\n",
       "  </tbody>\n",
       "</table>\n",
       "</div>"
      ],
      "text/plain": [
       "                          plant_name_eia\n",
       "plant_id_eia                            \n",
       "99999         state-fuel level increment\n",
       "60812                gruber solar center\n",
       "60767                     seashore solar"
      ]
     },
     "execution_count": 14,
     "metadata": {},
     "output_type": "execute_result"
    }
   ],
   "source": [
    "lost_plants_eia = pudl.glue.ferc1_eia.get_lost_plants_eia(pudl_engine)\n",
    "print(f\"Found {len(lost_plants_eia)} lost EIA plants.\")\n",
    "outfile = Path(\"lost_plants_eia.csv\")\n",
    "outfile.unlink(missing_ok=True)\n",
    "outfile.touch()\n",
    "lost_plants_eia.to_csv(outfile)\n",
    "lost_plants_eia.sample(min([10, len(lost_plants_eia)]))"
   ]
  },
  {
   "cell_type": "markdown",
   "metadata": {},
   "source": [
    "## Unmapped EIA Utilities\n",
    "* Especially with the advent of many small distributed generators, there are often just as many new utilities as there are new plants."
   ]
  },
  {
   "cell_type": "code",
   "execution_count": 80,
   "metadata": {},
   "outputs": [
    {
     "name": "stdout",
     "output_type": "stream",
     "text": [
      "Found 6491 unmapped EIA utilities.\n",
      "Found 2594 unmapped utilities with plants/ownership.\n"
     ]
    },
    {
     "data": {
      "text/html": [
       "<div>\n",
       "<style scoped>\n",
       "    .dataframe tbody tr th:only-of-type {\n",
       "        vertical-align: middle;\n",
       "    }\n",
       "\n",
       "    .dataframe tbody tr th {\n",
       "        vertical-align: top;\n",
       "    }\n",
       "\n",
       "    .dataframe thead th {\n",
       "        text-align: right;\n",
       "    }\n",
       "</style>\n",
       "<table border=\"1\" class=\"dataframe\">\n",
       "  <thead>\n",
       "    <tr style=\"text-align: right;\">\n",
       "      <th></th>\n",
       "      <th>utility_name_eia</th>\n",
       "      <th>most_recent_total_capacity_mw</th>\n",
       "    </tr>\n",
       "    <tr>\n",
       "      <th>utility_id_eia</th>\n",
       "      <th></th>\n",
       "      <th></th>\n",
       "    </tr>\n",
       "  </thead>\n",
       "  <tbody>\n",
       "    <tr>\n",
       "      <th>8901</th>\n",
       "      <td>reliant energy hl&amp;p</td>\n",
       "      <td>14266.8</td>\n",
       "    </tr>\n",
       "    <tr>\n",
       "      <th>50023</th>\n",
       "      <td>texas genco ii, lp</td>\n",
       "      <td>14158.6</td>\n",
       "    </tr>\n",
       "    <tr>\n",
       "      <th>6083</th>\n",
       "      <td>exelon gen co llc</td>\n",
       "      <td>10636.0</td>\n",
       "    </tr>\n",
       "    <tr>\n",
       "      <th>829</th>\n",
       "      <td>american electric power co inc</td>\n",
       "      <td>5765.2</td>\n",
       "    </tr>\n",
       "    <tr>\n",
       "      <th>5886</th>\n",
       "      <td>energy developement group</td>\n",
       "      <td>5028.5</td>\n",
       "    </tr>\n",
       "    <tr>\n",
       "      <th>5507</th>\n",
       "      <td>duke energy north america llc</td>\n",
       "      <td>4810.6</td>\n",
       "    </tr>\n",
       "    <tr>\n",
       "      <th>14716</th>\n",
       "      <td>pennsylvania power co</td>\n",
       "      <td>4587.9</td>\n",
       "    </tr>\n",
       "    <tr>\n",
       "      <th>26751</th>\n",
       "      <td>national grid generation, llc</td>\n",
       "      <td>4389.4</td>\n",
       "    </tr>\n",
       "    <tr>\n",
       "      <th>13998</th>\n",
       "      <td>ohio edison co</td>\n",
       "      <td>3970.2</td>\n",
       "    </tr>\n",
       "    <tr>\n",
       "      <th>9162</th>\n",
       "      <td>interstate power and light</td>\n",
       "      <td>3961.2</td>\n",
       "    </tr>\n",
       "  </tbody>\n",
       "</table>\n",
       "</div>"
      ],
      "text/plain": [
       "                              utility_name_eia  most_recent_total_capacity_mw\n",
       "utility_id_eia                                                               \n",
       "8901                       reliant energy hl&p                        14266.8\n",
       "50023                       texas genco ii, lp                        14158.6\n",
       "6083                         exelon gen co llc                        10636.0\n",
       "829             american electric power co inc                         5765.2\n",
       "5886                 energy developement group                         5028.5\n",
       "5507             duke energy north america llc                         4810.6\n",
       "14716                    pennsylvania power co                         4587.9\n",
       "26751            national grid generation, llc                         4389.4\n",
       "13998                           ohio edison co                         3970.2\n",
       "9162                interstate power and light                         3961.2"
      ]
     },
     "execution_count": 80,
     "metadata": {},
     "output_type": "execute_result"
    }
   ],
   "source": [
    "unmapped_utils_eia = pudl.glue.ferc1_eia.get_unmapped_utils_eia(pudl_engine)\n",
    "print(f\"Found {len(unmapped_utils_eia)} unmapped EIA utilities.\")\n",
    "outfile = Path(\"all_unmapped_utilities_eia.csv\")\n",
    "unmapped_utils_eia.to_csv(outfile)\n",
    "\n",
    "miss_utils = pudl.glue.ferc1_eia.get_unmapped_utils_with_plants_eia(pudl_engine)\n",
    "print(f\"Found {len(miss_utils)} unmapped utilities with plants/ownership.\")\n",
    "outfile = Path(\"planted_unmapped_utilities_eia.csv\")\n",
    "miss_utils.to_csv(outfile)\n",
    "\n",
    "unmapped_utils_eia.head(10)"
   ]
  },
  {
   "cell_type": "code",
   "execution_count": 81,
   "metadata": {},
   "outputs": [
    {
     "data": {
      "text/html": [
       "<div>\n",
       "<style scoped>\n",
       "    .dataframe tbody tr th:only-of-type {\n",
       "        vertical-align: middle;\n",
       "    }\n",
       "\n",
       "    .dataframe tbody tr th {\n",
       "        vertical-align: top;\n",
       "    }\n",
       "\n",
       "    .dataframe thead th {\n",
       "        text-align: right;\n",
       "    }\n",
       "</style>\n",
       "<table border=\"1\" class=\"dataframe\">\n",
       "  <thead>\n",
       "    <tr style=\"text-align: right;\">\n",
       "      <th></th>\n",
       "      <th>utility_name_eia</th>\n",
       "      <th>most_recent_total_capacity_mw</th>\n",
       "    </tr>\n",
       "    <tr>\n",
       "      <th>utility_id_eia</th>\n",
       "      <th></th>\n",
       "      <th></th>\n",
       "    </tr>\n",
       "  </thead>\n",
       "  <tbody>\n",
       "    <tr>\n",
       "      <th>8901</th>\n",
       "      <td>Reliant Energy HL&amp;P</td>\n",
       "      <td>14266.8</td>\n",
       "    </tr>\n",
       "    <tr>\n",
       "      <th>50023</th>\n",
       "      <td>Texas Genco II, LP</td>\n",
       "      <td>14158.6</td>\n",
       "    </tr>\n",
       "    <tr>\n",
       "      <th>6083</th>\n",
       "      <td>Exelon Gen Co LLC</td>\n",
       "      <td>10636.0</td>\n",
       "    </tr>\n",
       "    <tr>\n",
       "      <th>829</th>\n",
       "      <td>American Electric Power Co Inc</td>\n",
       "      <td>5765.2</td>\n",
       "    </tr>\n",
       "    <tr>\n",
       "      <th>5886</th>\n",
       "      <td>Energy Developement Group</td>\n",
       "      <td>5028.5</td>\n",
       "    </tr>\n",
       "    <tr>\n",
       "      <th>5507</th>\n",
       "      <td>Duke Energy North America LLC</td>\n",
       "      <td>4810.6</td>\n",
       "    </tr>\n",
       "    <tr>\n",
       "      <th>14716</th>\n",
       "      <td>Pennsylvania Power Co</td>\n",
       "      <td>4587.9</td>\n",
       "    </tr>\n",
       "    <tr>\n",
       "      <th>26751</th>\n",
       "      <td>National Grid Generation, LLC</td>\n",
       "      <td>4389.4</td>\n",
       "    </tr>\n",
       "    <tr>\n",
       "      <th>13998</th>\n",
       "      <td>Ohio Edison Co</td>\n",
       "      <td>3970.2</td>\n",
       "    </tr>\n",
       "    <tr>\n",
       "      <th>9162</th>\n",
       "      <td>Interstate Power and Light</td>\n",
       "      <td>3961.2</td>\n",
       "    </tr>\n",
       "  </tbody>\n",
       "</table>\n",
       "</div>"
      ],
      "text/plain": [
       "                              utility_name_eia  most_recent_total_capacity_mw\n",
       "utility_id_eia                                                               \n",
       "8901                       Reliant Energy HL&P                        14266.8\n",
       "50023                       Texas Genco II, LP                        14158.6\n",
       "6083                         Exelon Gen Co LLC                        10636.0\n",
       "829             American Electric Power Co Inc                         5765.2\n",
       "5886                 Energy Developement Group                         5028.5\n",
       "5507             Duke Energy North America LLC                         4810.6\n",
       "14716                    Pennsylvania Power Co                         4587.9\n",
       "26751            National Grid Generation, LLC                         4389.4\n",
       "13998                           Ohio Edison Co                         3970.2\n",
       "9162                Interstate Power and Light                         3961.2"
      ]
     },
     "execution_count": 81,
     "metadata": {},
     "output_type": "execute_result"
    }
   ],
   "source": [
    "miss_utils.head(10)"
   ]
  },
  {
   "cell_type": "markdown",
   "metadata": {},
   "source": [
    "## Another Kind of Unmapped EIA Utilities\n",
    "* This cell looks *only* for the EIA utilities that show up somewhere in the EIA 923 data, but still don't have a `utility_id_pudl` value assigned to them."
   ]
  },
  {
   "cell_type": "code",
   "execution_count": 16,
   "metadata": {
    "collapsed": true,
    "jupyter": {
     "outputs_hidden": true
    },
    "tags": []
   },
   "outputs": [
    {
     "ename": "KeyboardInterrupt",
     "evalue": "",
     "output_type": "error",
     "traceback": [
      "\u001b[0;31m---------------------------------------------------------------------------\u001b[0m",
      "\u001b[0;31mKeyboardInterrupt\u001b[0m                         Traceback (most recent call last)",
      "\u001b[0;32m~/opt/miniconda3/envs/pudl-dev/lib/python3.9/site-packages/sqlalchemy/engine/result.py\u001b[0m in \u001b[0;36m_fetchall_impl\u001b[0;34m(self)\u001b[0m\n\u001b[1;32m   1229\u001b[0m         \u001b[0;32mtry\u001b[0m\u001b[0;34m:\u001b[0m\u001b[0;34m\u001b[0m\u001b[0;34m\u001b[0m\u001b[0m\n\u001b[0;32m-> 1230\u001b[0;31m             \u001b[0;32mreturn\u001b[0m \u001b[0mself\u001b[0m\u001b[0;34m.\u001b[0m\u001b[0mcursor\u001b[0m\u001b[0;34m.\u001b[0m\u001b[0mfetchall\u001b[0m\u001b[0;34m(\u001b[0m\u001b[0;34m)\u001b[0m\u001b[0;34m\u001b[0m\u001b[0;34m\u001b[0m\u001b[0m\n\u001b[0m\u001b[1;32m   1231\u001b[0m         \u001b[0;32mexcept\u001b[0m \u001b[0mAttributeError\u001b[0m \u001b[0;32mas\u001b[0m \u001b[0merr\u001b[0m\u001b[0;34m:\u001b[0m\u001b[0;34m\u001b[0m\u001b[0;34m\u001b[0m\u001b[0m\n",
      "\u001b[0;31mKeyboardInterrupt\u001b[0m: ",
      "\nDuring handling of the above exception, another exception occurred:\n",
      "\u001b[0;31mKeyboardInterrupt\u001b[0m                         Traceback (most recent call last)",
      "\u001b[0;32m/var/folders/ff/4xqnnhjx54sdb6vd8g7s0zq80000gn/T/ipykernel_85304/2345053320.py\u001b[0m in \u001b[0;36m<module>\u001b[0;34m\u001b[0m\n\u001b[1;32m      3\u001b[0m \u001b[0mgf_eia923\u001b[0m \u001b[0;34m=\u001b[0m \u001b[0mpudl_raw\u001b[0m\u001b[0;34m.\u001b[0m\u001b[0mgf_eia923\u001b[0m\u001b[0;34m(\u001b[0m\u001b[0;34m)\u001b[0m\u001b[0;34m\u001b[0m\u001b[0;34m\u001b[0m\u001b[0m\n\u001b[1;32m      4\u001b[0m \u001b[0mgen_eia923\u001b[0m \u001b[0;34m=\u001b[0m \u001b[0mpudl_raw\u001b[0m\u001b[0;34m.\u001b[0m\u001b[0mgen_eia923\u001b[0m\u001b[0;34m(\u001b[0m\u001b[0;34m)\u001b[0m\u001b[0;34m\u001b[0m\u001b[0;34m\u001b[0m\u001b[0m\n\u001b[0;32m----> 5\u001b[0;31m \u001b[0mbf_eia923\u001b[0m \u001b[0;34m=\u001b[0m \u001b[0mpudl_raw\u001b[0m\u001b[0;34m.\u001b[0m\u001b[0mbf_eia923\u001b[0m\u001b[0;34m(\u001b[0m\u001b[0;34m)\u001b[0m\u001b[0;34m\u001b[0m\u001b[0;34m\u001b[0m\u001b[0m\n\u001b[0m\u001b[1;32m      6\u001b[0m \u001b[0;34m\u001b[0m\u001b[0m\n\u001b[1;32m      7\u001b[0m \u001b[0mmissing_frc\u001b[0m \u001b[0;34m=\u001b[0m \u001b[0mfrc_eia923\u001b[0m\u001b[0;34m[\u001b[0m\u001b[0mfrc_eia923\u001b[0m\u001b[0;34m.\u001b[0m\u001b[0mutility_id_pudl\u001b[0m\u001b[0;34m.\u001b[0m\u001b[0misna\u001b[0m\u001b[0;34m(\u001b[0m\u001b[0;34m)\u001b[0m\u001b[0;34m]\u001b[0m\u001b[0;34m[\u001b[0m\u001b[0;34m[\u001b[0m\u001b[0;34m\"utility_id_eia\"\u001b[0m\u001b[0;34m,\u001b[0m \u001b[0;34m\"utility_name_eia\"\u001b[0m\u001b[0;34m]\u001b[0m\u001b[0;34m]\u001b[0m\u001b[0;34m\u001b[0m\u001b[0;34m\u001b[0m\u001b[0m\n",
      "\u001b[0;32m~/Desktop/catalyst/pudl/src/pudl/output/pudltabl.py\u001b[0m in \u001b[0;36mbf_eia923\u001b[0;34m(self, update)\u001b[0m\n\u001b[1;32m    607\u001b[0m         \"\"\"\n\u001b[1;32m    608\u001b[0m         \u001b[0;32mif\u001b[0m \u001b[0mupdate\u001b[0m \u001b[0;32mor\u001b[0m \u001b[0mself\u001b[0m\u001b[0;34m.\u001b[0m\u001b[0m_dfs\u001b[0m\u001b[0;34m[\u001b[0m\u001b[0;34m'bf_eia923'\u001b[0m\u001b[0;34m]\u001b[0m \u001b[0;32mis\u001b[0m \u001b[0;32mNone\u001b[0m\u001b[0;34m:\u001b[0m\u001b[0;34m\u001b[0m\u001b[0;34m\u001b[0m\u001b[0m\n\u001b[0;32m--> 609\u001b[0;31m             self._dfs['bf_eia923'] = pudl.output.eia923.boiler_fuel_eia923(\n\u001b[0m\u001b[1;32m    610\u001b[0m                 \u001b[0mself\u001b[0m\u001b[0;34m.\u001b[0m\u001b[0mpudl_engine\u001b[0m\u001b[0;34m,\u001b[0m\u001b[0;34m\u001b[0m\u001b[0;34m\u001b[0m\u001b[0m\n\u001b[1;32m    611\u001b[0m                 \u001b[0mfreq\u001b[0m\u001b[0;34m=\u001b[0m\u001b[0mself\u001b[0m\u001b[0;34m.\u001b[0m\u001b[0mfreq\u001b[0m\u001b[0;34m,\u001b[0m\u001b[0;34m\u001b[0m\u001b[0;34m\u001b[0m\u001b[0m\n",
      "\u001b[0;32m~/Desktop/catalyst/pudl/src/pudl/output/eia923.py\u001b[0m in \u001b[0;36mboiler_fuel_eia923\u001b[0;34m(pudl_engine, freq, start_date, end_date)\u001b[0m\n\u001b[1;32m    504\u001b[0m     \u001b[0;31m# Pull the BGA table and make it unit-boiler only:\u001b[0m\u001b[0;34m\u001b[0m\u001b[0;34m\u001b[0m\u001b[0;34m\u001b[0m\u001b[0m\n\u001b[1;32m    505\u001b[0m     bga_boilers = (\n\u001b[0;32m--> 506\u001b[0;31m         pudl.output.eia860.boiler_generator_assn_eia860(\n\u001b[0m\u001b[1;32m    507\u001b[0m             \u001b[0mpudl_engine\u001b[0m\u001b[0;34m,\u001b[0m\u001b[0;34m\u001b[0m\u001b[0;34m\u001b[0m\u001b[0m\n\u001b[1;32m    508\u001b[0m             \u001b[0mstart_date\u001b[0m\u001b[0;34m=\u001b[0m\u001b[0mstart_date\u001b[0m\u001b[0;34m,\u001b[0m\u001b[0;34m\u001b[0m\u001b[0;34m\u001b[0m\u001b[0m\n",
      "\u001b[0;32m~/Desktop/catalyst/pudl/src/pudl/output/eia860.py\u001b[0m in \u001b[0;36mboiler_generator_assn_eia860\u001b[0;34m(pudl_engine, start_date, end_date)\u001b[0m\n\u001b[1;32m    406\u001b[0m         )\n\u001b[1;32m    407\u001b[0m     out_df = (\n\u001b[0;32m--> 408\u001b[0;31m         \u001b[0mpd\u001b[0m\u001b[0;34m.\u001b[0m\u001b[0mread_sql\u001b[0m\u001b[0;34m(\u001b[0m\u001b[0mbga_eia860_select\u001b[0m\u001b[0;34m,\u001b[0m \u001b[0mpudl_engine\u001b[0m\u001b[0;34m)\u001b[0m\u001b[0;34m\u001b[0m\u001b[0;34m\u001b[0m\u001b[0m\n\u001b[0m\u001b[1;32m    409\u001b[0m         \u001b[0;34m.\u001b[0m\u001b[0massign\u001b[0m\u001b[0;34m(\u001b[0m\u001b[0mreport_date\u001b[0m\u001b[0;34m=\u001b[0m\u001b[0;32mlambda\u001b[0m \u001b[0mx\u001b[0m\u001b[0;34m:\u001b[0m \u001b[0mpd\u001b[0m\u001b[0;34m.\u001b[0m\u001b[0mto_datetime\u001b[0m\u001b[0;34m(\u001b[0m\u001b[0mx\u001b[0m\u001b[0;34m.\u001b[0m\u001b[0mreport_date\u001b[0m\u001b[0;34m)\u001b[0m\u001b[0;34m)\u001b[0m\u001b[0;34m\u001b[0m\u001b[0;34m\u001b[0m\u001b[0m\n\u001b[1;32m    410\u001b[0m         \u001b[0;34m.\u001b[0m\u001b[0mdrop\u001b[0m\u001b[0;34m(\u001b[0m\u001b[0;34m[\u001b[0m\u001b[0;34m'id'\u001b[0m\u001b[0;34m]\u001b[0m\u001b[0;34m,\u001b[0m \u001b[0maxis\u001b[0m\u001b[0;34m=\u001b[0m\u001b[0;34m'columns'\u001b[0m\u001b[0;34m)\u001b[0m\u001b[0;34m\u001b[0m\u001b[0;34m\u001b[0m\u001b[0m\n",
      "\u001b[0;32m~/opt/miniconda3/envs/pudl-dev/lib/python3.9/site-packages/pandas/io/sql.py\u001b[0m in \u001b[0;36mread_sql\u001b[0;34m(sql, con, index_col, coerce_float, params, parse_dates, columns, chunksize)\u001b[0m\n\u001b[1;32m    519\u001b[0m         )\n\u001b[1;32m    520\u001b[0m     \u001b[0;32melse\u001b[0m\u001b[0;34m:\u001b[0m\u001b[0;34m\u001b[0m\u001b[0;34m\u001b[0m\u001b[0m\n\u001b[0;32m--> 521\u001b[0;31m         return pandas_sql.read_query(\n\u001b[0m\u001b[1;32m    522\u001b[0m             \u001b[0msql\u001b[0m\u001b[0;34m,\u001b[0m\u001b[0;34m\u001b[0m\u001b[0;34m\u001b[0m\u001b[0m\n\u001b[1;32m    523\u001b[0m             \u001b[0mindex_col\u001b[0m\u001b[0;34m=\u001b[0m\u001b[0mindex_col\u001b[0m\u001b[0;34m,\u001b[0m\u001b[0;34m\u001b[0m\u001b[0;34m\u001b[0m\u001b[0m\n",
      "\u001b[0;32m~/opt/miniconda3/envs/pudl-dev/lib/python3.9/site-packages/pandas/io/sql.py\u001b[0m in \u001b[0;36mread_query\u001b[0;34m(self, sql, index_col, coerce_float, parse_dates, params, chunksize)\u001b[0m\n\u001b[1;32m   1319\u001b[0m             )\n\u001b[1;32m   1320\u001b[0m         \u001b[0;32melse\u001b[0m\u001b[0;34m:\u001b[0m\u001b[0;34m\u001b[0m\u001b[0;34m\u001b[0m\u001b[0m\n\u001b[0;32m-> 1321\u001b[0;31m             \u001b[0mdata\u001b[0m \u001b[0;34m=\u001b[0m \u001b[0mresult\u001b[0m\u001b[0;34m.\u001b[0m\u001b[0mfetchall\u001b[0m\u001b[0;34m(\u001b[0m\u001b[0;34m)\u001b[0m\u001b[0;34m\u001b[0m\u001b[0;34m\u001b[0m\u001b[0m\n\u001b[0m\u001b[1;32m   1322\u001b[0m             frame = _wrap_result(\n\u001b[1;32m   1323\u001b[0m                 \u001b[0mdata\u001b[0m\u001b[0;34m,\u001b[0m\u001b[0;34m\u001b[0m\u001b[0;34m\u001b[0m\u001b[0m\n",
      "\u001b[0;32m~/opt/miniconda3/envs/pudl-dev/lib/python3.9/site-packages/sqlalchemy/engine/result.py\u001b[0m in \u001b[0;36mfetchall\u001b[0;34m(self)\u001b[0m\n\u001b[1;32m   1286\u001b[0m             \u001b[0;32mreturn\u001b[0m \u001b[0ml\u001b[0m\u001b[0;34m\u001b[0m\u001b[0;34m\u001b[0m\u001b[0m\n\u001b[1;32m   1287\u001b[0m         \u001b[0;32mexcept\u001b[0m \u001b[0mBaseException\u001b[0m \u001b[0;32mas\u001b[0m \u001b[0me\u001b[0m\u001b[0;34m:\u001b[0m\u001b[0;34m\u001b[0m\u001b[0;34m\u001b[0m\u001b[0m\n\u001b[0;32m-> 1288\u001b[0;31m             self.connection._handle_dbapi_exception(\n\u001b[0m\u001b[1;32m   1289\u001b[0m                 \u001b[0me\u001b[0m\u001b[0;34m,\u001b[0m \u001b[0;32mNone\u001b[0m\u001b[0;34m,\u001b[0m \u001b[0;32mNone\u001b[0m\u001b[0;34m,\u001b[0m \u001b[0mself\u001b[0m\u001b[0;34m.\u001b[0m\u001b[0mcursor\u001b[0m\u001b[0;34m,\u001b[0m \u001b[0mself\u001b[0m\u001b[0;34m.\u001b[0m\u001b[0mcontext\u001b[0m\u001b[0;34m\u001b[0m\u001b[0;34m\u001b[0m\u001b[0m\n\u001b[1;32m   1290\u001b[0m             )\n",
      "\u001b[0;32m~/opt/miniconda3/envs/pudl-dev/lib/python3.9/site-packages/sqlalchemy/engine/base.py\u001b[0m in \u001b[0;36m_handle_dbapi_exception\u001b[0;34m(self, e, statement, parameters, cursor, context)\u001b[0m\n\u001b[1;32m   1512\u001b[0m                 )\n\u001b[1;32m   1513\u001b[0m             \u001b[0;32melse\u001b[0m\u001b[0;34m:\u001b[0m\u001b[0;34m\u001b[0m\u001b[0;34m\u001b[0m\u001b[0m\n\u001b[0;32m-> 1514\u001b[0;31m                 \u001b[0mutil\u001b[0m\u001b[0;34m.\u001b[0m\u001b[0mraise_\u001b[0m\u001b[0;34m(\u001b[0m\u001b[0mexc_info\u001b[0m\u001b[0;34m[\u001b[0m\u001b[0;36m1\u001b[0m\u001b[0;34m]\u001b[0m\u001b[0;34m,\u001b[0m \u001b[0mwith_traceback\u001b[0m\u001b[0;34m=\u001b[0m\u001b[0mexc_info\u001b[0m\u001b[0;34m[\u001b[0m\u001b[0;36m2\u001b[0m\u001b[0;34m]\u001b[0m\u001b[0;34m)\u001b[0m\u001b[0;34m\u001b[0m\u001b[0;34m\u001b[0m\u001b[0m\n\u001b[0m\u001b[1;32m   1515\u001b[0m \u001b[0;34m\u001b[0m\u001b[0m\n\u001b[1;32m   1516\u001b[0m         \u001b[0;32mfinally\u001b[0m\u001b[0;34m:\u001b[0m\u001b[0;34m\u001b[0m\u001b[0;34m\u001b[0m\u001b[0m\n",
      "\u001b[0;32m~/opt/miniconda3/envs/pudl-dev/lib/python3.9/site-packages/sqlalchemy/util/compat.py\u001b[0m in \u001b[0;36mraise_\u001b[0;34m(***failed resolving arguments***)\u001b[0m\n\u001b[1;32m    180\u001b[0m \u001b[0;34m\u001b[0m\u001b[0m\n\u001b[1;32m    181\u001b[0m         \u001b[0;32mtry\u001b[0m\u001b[0;34m:\u001b[0m\u001b[0;34m\u001b[0m\u001b[0;34m\u001b[0m\u001b[0m\n\u001b[0;32m--> 182\u001b[0;31m             \u001b[0;32mraise\u001b[0m \u001b[0mexception\u001b[0m\u001b[0;34m\u001b[0m\u001b[0;34m\u001b[0m\u001b[0m\n\u001b[0m\u001b[1;32m    183\u001b[0m         \u001b[0;32mfinally\u001b[0m\u001b[0;34m:\u001b[0m\u001b[0;34m\u001b[0m\u001b[0;34m\u001b[0m\u001b[0m\n\u001b[1;32m    184\u001b[0m             \u001b[0;31m# credit to\u001b[0m\u001b[0;34m\u001b[0m\u001b[0;34m\u001b[0m\u001b[0;34m\u001b[0m\u001b[0m\n",
      "\u001b[0;32m~/opt/miniconda3/envs/pudl-dev/lib/python3.9/site-packages/sqlalchemy/engine/result.py\u001b[0m in \u001b[0;36mfetchall\u001b[0;34m(self)\u001b[0m\n\u001b[1;32m   1282\u001b[0m \u001b[0;34m\u001b[0m\u001b[0m\n\u001b[1;32m   1283\u001b[0m         \u001b[0;32mtry\u001b[0m\u001b[0;34m:\u001b[0m\u001b[0;34m\u001b[0m\u001b[0;34m\u001b[0m\u001b[0m\n\u001b[0;32m-> 1284\u001b[0;31m             \u001b[0ml\u001b[0m \u001b[0;34m=\u001b[0m \u001b[0mself\u001b[0m\u001b[0;34m.\u001b[0m\u001b[0mprocess_rows\u001b[0m\u001b[0;34m(\u001b[0m\u001b[0mself\u001b[0m\u001b[0;34m.\u001b[0m\u001b[0m_fetchall_impl\u001b[0m\u001b[0;34m(\u001b[0m\u001b[0;34m)\u001b[0m\u001b[0;34m)\u001b[0m\u001b[0;34m\u001b[0m\u001b[0;34m\u001b[0m\u001b[0m\n\u001b[0m\u001b[1;32m   1285\u001b[0m             \u001b[0mself\u001b[0m\u001b[0;34m.\u001b[0m\u001b[0m_soft_close\u001b[0m\u001b[0;34m(\u001b[0m\u001b[0;34m)\u001b[0m\u001b[0;34m\u001b[0m\u001b[0;34m\u001b[0m\u001b[0m\n\u001b[1;32m   1286\u001b[0m             \u001b[0;32mreturn\u001b[0m \u001b[0ml\u001b[0m\u001b[0;34m\u001b[0m\u001b[0;34m\u001b[0m\u001b[0m\n",
      "\u001b[0;32m~/opt/miniconda3/envs/pudl-dev/lib/python3.9/site-packages/sqlalchemy/engine/result.py\u001b[0m in \u001b[0;36m_fetchall_impl\u001b[0;34m(self)\u001b[0m\n\u001b[1;32m   1228\u001b[0m     \u001b[0;32mdef\u001b[0m \u001b[0m_fetchall_impl\u001b[0m\u001b[0;34m(\u001b[0m\u001b[0mself\u001b[0m\u001b[0;34m)\u001b[0m\u001b[0;34m:\u001b[0m\u001b[0;34m\u001b[0m\u001b[0;34m\u001b[0m\u001b[0m\n\u001b[1;32m   1229\u001b[0m         \u001b[0;32mtry\u001b[0m\u001b[0;34m:\u001b[0m\u001b[0;34m\u001b[0m\u001b[0;34m\u001b[0m\u001b[0m\n\u001b[0;32m-> 1230\u001b[0;31m             \u001b[0;32mreturn\u001b[0m \u001b[0mself\u001b[0m\u001b[0;34m.\u001b[0m\u001b[0mcursor\u001b[0m\u001b[0;34m.\u001b[0m\u001b[0mfetchall\u001b[0m\u001b[0;34m(\u001b[0m\u001b[0;34m)\u001b[0m\u001b[0;34m\u001b[0m\u001b[0;34m\u001b[0m\u001b[0m\n\u001b[0m\u001b[1;32m   1231\u001b[0m         \u001b[0;32mexcept\u001b[0m \u001b[0mAttributeError\u001b[0m \u001b[0;32mas\u001b[0m \u001b[0merr\u001b[0m\u001b[0;34m:\u001b[0m\u001b[0;34m\u001b[0m\u001b[0;34m\u001b[0m\u001b[0m\n\u001b[1;32m   1232\u001b[0m             \u001b[0;32mreturn\u001b[0m \u001b[0mself\u001b[0m\u001b[0;34m.\u001b[0m\u001b[0m_non_result\u001b[0m\u001b[0;34m(\u001b[0m\u001b[0;34m[\u001b[0m\u001b[0;34m]\u001b[0m\u001b[0;34m,\u001b[0m \u001b[0merr\u001b[0m\u001b[0;34m)\u001b[0m\u001b[0;34m\u001b[0m\u001b[0;34m\u001b[0m\u001b[0m\n",
      "\u001b[0;31mKeyboardInterrupt\u001b[0m: "
     ]
    }
   ],
   "source": [
    "pudl_raw = pudl.output.pudltabl.PudlTabl(pudl_engine, freq=None)\n",
    "frc_eia923 = pudl_raw.frc_eia923()\n",
    "gf_eia923 = pudl_raw.gf_eia923()\n",
    "gen_eia923 = pudl_raw.gen_eia923()\n",
    "bf_eia923 = pudl_raw.bf_eia923()\n",
    "\n",
    "missing_frc = frc_eia923[frc_eia923.utility_id_pudl.isna()][[\"utility_id_eia\", \"utility_name_eia\"]]\n",
    "missing_gf = gf_eia923[gf_eia923.utility_id_pudl.isna()][[\"utility_id_eia\", \"utility_name_eia\"]]\n",
    "missing_bf = bf_eia923[bf_eia923.utility_id_pudl.isna()][[\"utility_id_eia\", \"utility_name_eia\"]]\n",
    "missing_gens = gen_eia923[gen_eia923.utility_id_pudl.isna()][[\"utility_id_eia\", \"utility_name_eia\"]]\n",
    "\n",
    "missing_utils = (\n",
    "    pd.concat([missing_frc, missing_bf, missing_gf, missing_gens])\n",
    "    .drop_duplicates(subset=\"utility_id_eia\")\n",
    "    .set_index(\"utility_id_eia\")\n",
    ")\n",
    "\n",
    "print(f\"Found {len(missing_utils)} utilities with EIA 923 data but no PUDL Utility ID.\")\n",
    "outfile = Path(\"dataful_unmapped_utilities_eia.csv\")\n",
    "missing_utils.to_csv(outfile)\n",
    "missing_utils.sample(min(len(missing_utils), 10))"
   ]
  },
  {
   "cell_type": "code",
   "execution_count": null,
   "metadata": {},
   "outputs": [],
   "source": [
    "missing_utils.iloc[50:100]"
   ]
  },
  {
   "cell_type": "markdown",
   "metadata": {},
   "source": [
    "## Lost EIA Utilities\n",
    "* Again, there shouldn't be **too** many of these. If it's thousands, not hundreds, dig deeper."
   ]
  },
  {
   "cell_type": "code",
   "execution_count": null,
   "metadata": {},
   "outputs": [],
   "source": [
    "lost_utils_eia = pudl.glue.ferc1_eia.get_lost_utils_eia(pudl_engine)\n",
    "print(f\"Found {len(lost_utils_eia)} lost EIA utilities.\")\n",
    "outfile = Path(\"lost_utilities_eia.csv\")\n",
    "lost_utils_eia.to_csv(outfile)"
   ]
  },
  {
   "cell_type": "markdown",
   "metadata": {},
   "source": [
    "## Cleaning other FERC Form 1 Plant Tables\n",
    "* There are several additional FERC Form 1 tables which contain plant data.\n",
    "* These include small plants, hydro, and pumped storage.\n",
    "* Thus far we have not done much concerted work cleaning up / categorizing these plants, though they do get PUDL IDs.\n",
    "* The following cell pulls the small plants (`f1_gnrt_plant`) table with some fields that would be useful for categorization.\n",
    "* This is just a prototype/outline/suggestion..."
   ]
  },
  {
   "cell_type": "code",
   "execution_count": null,
   "metadata": {},
   "outputs": [],
   "source": [
    "small_plants_ferc1 = (\n",
    "    pd.read_sql(\n",
    "        f\"\"\"SELECT f1_gnrt_plant.report_year,\\\n",
    "                   f1_gnrt_plant.respondent_id,\\\n",
    "                   f1_gnrt_plant.row_number,\\\n",
    "                   f1_gnrt_plant.spplmnt_num,\\\n",
    "                   f1_gnrt_plant.plant_name,\\\n",
    "                   f1_gnrt_plant.capacity_rating,\\\n",
    "                   f1_gnrt_plant.kind_of_fuel, \\\n",
    "                   f1_respondent_id.respondent_name\\\n",
    "            FROM f1_gnrt_plant, f1_respondent_id \\\n",
    "            WHERE report_year>={min(ferc1_years)}\n",
    "            AND report_year<={max(ferc1_years)}\n",
    "            AND f1_respondent_id.respondent_id=f1_gnrt_plant.respondent_id;\"\"\", ferc1_engine).\n",
    "    assign(record_number=lambda x: x[\"row_number\"] + 46*x[\"spplmnt_num\"]).\n",
    "    drop([\"row_number\", \"spplmnt_num\"], axis=\"columns\").\n",
    "    pipe(pudl.helpers.simplify_strings, columns=[\"plant_name\", \"kind_of_fuel\", \"respondent_name\"]).\n",
    "    rename(columns={\"capacity_rating\": \"capacity_mw\"}).\n",
    "    loc[:,[\"report_year\", \"respondent_id\", \"respondent_name\", \"record_number\", \"plant_name\", \"capacity_mw\", \"kind_of_fuel\"]].\n",
    "    sort_values([\"report_year\", \"respondent_id\", \"record_number\"])\n",
    ")\n",
    "n_small_plants_ferc1 = len(small_plants_ferc1)\n",
    "outfile = Path(\"f1_gnrt_plant.csv\")\n",
    "print(f\"Writing {n_small_plants_ferc1} small plant records out to {outfile}\")\n",
    "small_plants_ferc1.to_csv(outfile, index=False)\n",
    "small_plants_ferc1"
   ]
  },
  {
   "cell_type": "code",
   "execution_count": null,
   "metadata": {},
   "outputs": [],
   "source": []
  }
 ],
 "metadata": {
  "kernelspec": {
   "display_name": "Python 3 (ipykernel)",
   "language": "python",
   "name": "python3"
  },
  "language_info": {
   "codemirror_mode": {
    "name": "ipython",
    "version": 3
   },
   "file_extension": ".py",
   "mimetype": "text/x-python",
   "name": "python",
   "nbconvert_exporter": "python",
   "pygments_lexer": "ipython3",
   "version": "3.9.7"
  }
 },
 "nbformat": 4,
 "nbformat_minor": 4
}

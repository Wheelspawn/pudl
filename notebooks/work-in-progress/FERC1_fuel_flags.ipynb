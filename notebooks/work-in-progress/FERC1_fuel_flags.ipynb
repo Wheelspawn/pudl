{
 "cells": [
  {
   "cell_type": "markdown",
   "id": "explicit-moldova",
   "metadata": {},
   "source": [
    "# Clean FERC Form 1"
   ]
  },
  {
   "cell_type": "markdown",
   "id": "economic-valve",
   "metadata": {},
   "source": [
    "#### Setup"
   ]
  },
  {
   "cell_type": "code",
   "execution_count": 2,
   "id": "proved-september",
   "metadata": {},
   "outputs": [],
   "source": [
    "%load_ext autoreload\n",
    "%autoreload 2"
   ]
  },
  {
   "cell_type": "code",
   "execution_count": 3,
   "id": "abroad-riverside",
   "metadata": {},
   "outputs": [],
   "source": [
    "# Standard libraries\n",
    "import logging\n",
    "import sys\n",
    "import os\n",
    "import pathlib\n",
    "\n",
    "# 3rd party libraries\n",
    "import geopandas as gpd\n",
    "import dask.dataframe as dd\n",
    "from dask.distributed import Client\n",
    "import matplotlib.pyplot as plt\n",
    "import matplotlib as mpl\n",
    "import numpy as np\n",
    "import pandas as pd\n",
    "import seaborn as sns\n",
    "import sqlalchemy as sa\n",
    "import pickle\n",
    "\n",
    "# Local libraries\n",
    "import pudl\n",
    "from pudl.analysis.fill_ferc1_fuel_gaps import *"
   ]
  },
  {
   "cell_type": "code",
   "execution_count": 4,
   "id": "improved-theology",
   "metadata": {},
   "outputs": [],
   "source": [
    "# Enable viewing of logging outputs\n",
    "logger=logging.getLogger()\n",
    "logger.setLevel(logging.INFO)\n",
    "handler = logging.StreamHandler(stream=sys.stdout)\n",
    "formatter = logging.Formatter('%(message)s')\n",
    "handler.setFormatter(formatter)\n",
    "logger.handlers = [handler]"
   ]
  },
  {
   "cell_type": "code",
   "execution_count": 5,
   "id": "given-description",
   "metadata": {},
   "outputs": [],
   "source": [
    "# Display settings\n",
    "sns.set()\n",
    "%matplotlib inline\n",
    "mpl.rcParams['figure.dpi'] = 75\n",
    "pd.options.display.max_columns = 100\n",
    "pd.options.display.max_rows = 100"
   ]
  },
  {
   "cell_type": "code",
   "execution_count": 6,
   "id": "reduced-editor",
   "metadata": {},
   "outputs": [],
   "source": [
    "# Establish connection to pudl database\n",
    "pudl_settings = pudl.workspace.setup.get_defaults()\n",
    "pudl_engine = sa.create_engine(pudl_settings['pudl_db'])\n",
    "pudl_out = pudl.output.pudltabl.PudlTabl(\n",
    "    pudl_engine=pudl_engine,\n",
    "    freq='AS'\n",
    ")"
   ]
  },
  {
   "cell_type": "markdown",
   "id": "third-florida",
   "metadata": {},
   "source": [
    "**Don't touch these for now -- loading them takes FOREVER. Use pickle instead**"
   ]
  },
  {
   "cell_type": "code",
   "execution_count": 7,
   "id": "short-trunk",
   "metadata": {
    "collapsed": true,
    "jupyter": {
     "outputs_hidden": true,
     "source_hidden": true
    }
   },
   "outputs": [
    {
     "name": "stdout",
     "output_type": "stream",
     "text": [
      "Converting extracted FERC Form 1 table fuel_ferc1 into a pandas DataFrame.\n",
      "Converting extracted FERC Form 1 table plants_steam_ferc1 into a pandas DataFrame.\n"
     ]
    }
   ],
   "source": [
    "ferc1_years = pudl.constants.working_partitions['ferc1']['years']\n",
    "ferc1_tables = ['fuel_ferc1','plants_steam_ferc1'] \n",
    "ferc1_raw_dfs = pudl.extract.ferc1.extract(\n",
    "        ferc1_tables=ferc1_tables,\n",
    "        ferc1_years=ferc1_years,\n",
    "        pudl_settings=pudl_settings)"
   ]
  },
  {
   "cell_type": "code",
   "execution_count": 8,
   "id": "pediatric-stack",
   "metadata": {
    "collapsed": true,
    "jupyter": {
     "outputs_hidden": true,
     "source_hidden": true
    }
   },
   "outputs": [
    {
     "name": "stdout",
     "output_type": "stream",
     "text": [
      "Transforming raw FERC Form 1 dataframe for loading into fuel_ferc1\n",
      "Transforming raw FERC Form 1 dataframe for loading into plants_steam_ferc1\n",
      "Identifying distinct large FERC plants for ID assignment.\n",
      "slimming fuel table\n",
      "running fbp table\n",
      "merging fractions with steam\n",
      "traning classifier with default weights\n",
      "generating groups of similar records\n",
      "Successfully associated 22138 of 29270 (75.63%) FERC Form 1 plant records with multi-year plant entities.\n",
      "Assigning IDs to multi-year FERC plant entities.\n",
      "Identified 4695 orphaned FERC plant records. Adding orphans to list of plant entities.\n",
      "Successfully Identified 2074 multi-year plant entities.\n",
      "Found report_year=1994 3 times in plant_id_ferc1=93\n",
      "Found report_year=1994 2 times in plant_id_ferc1=316\n",
      "Found report_year=1995 2 times in plant_id_ferc1=316\n",
      "Found report_year=1996 2 times in plant_id_ferc1=316\n",
      "Found report_year=1997 2 times in plant_id_ferc1=316\n",
      "Found report_year=1998 2 times in plant_id_ferc1=316\n",
      "Found report_year=1999 2 times in plant_id_ferc1=316\n",
      "Found report_year=2000 2 times in plant_id_ferc1=316\n",
      "Found report_year=2001 2 times in plant_id_ferc1=316\n",
      "Found report_year=2002 2 times in plant_id_ferc1=316\n",
      "Found report_year=2003 2 times in plant_id_ferc1=316\n",
      "Found report_year=2004 2 times in plant_id_ferc1=316\n",
      "Found report_year=2005 2 times in plant_id_ferc1=316\n",
      "Found report_year=2006 2 times in plant_id_ferc1=316\n",
      "Found report_year=2007 2 times in plant_id_ferc1=316\n",
      "Found report_year=2008 2 times in plant_id_ferc1=316\n",
      "Found report_year=2009 2 times in plant_id_ferc1=316\n",
      "Found report_year=1995 2 times in plant_id_ferc1=377\n",
      "Found report_year=1996 2 times in plant_id_ferc1=377\n",
      "Found report_year=1997 2 times in plant_id_ferc1=377\n",
      "Found report_year=1998 2 times in plant_id_ferc1=377\n",
      "Found report_year=1999 2 times in plant_id_ferc1=377\n",
      "Found report_year=2000 2 times in plant_id_ferc1=377\n",
      "Found report_year=2001 2 times in plant_id_ferc1=377\n",
      "Found report_year=2002 2 times in plant_id_ferc1=377\n",
      "Found report_year=2008 2 times in plant_id_ferc1=699\n",
      "Found report_year=2005 2 times in plant_id_ferc1=914\n",
      "Found report_year=2006 2 times in plant_id_ferc1=914\n",
      "Found report_year=2007 2 times in plant_id_ferc1=914\n",
      "Found report_year=2008 2 times in plant_id_ferc1=914\n",
      "Found report_year=2009 2 times in plant_id_ferc1=914\n",
      "Found report_year=2010 2 times in plant_id_ferc1=914\n",
      "Found report_year=2011 2 times in plant_id_ferc1=914\n",
      "Found report_year=2012 2 times in plant_id_ferc1=914\n",
      "Found report_year=2013 2 times in plant_id_ferc1=914\n",
      "Found report_year=2014 2 times in plant_id_ferc1=914\n",
      "Found report_year=2015 2 times in plant_id_ferc1=914\n",
      "Found report_year=2016 2 times in plant_id_ferc1=914\n",
      "Found report_year=2017 2 times in plant_id_ferc1=914\n",
      "Found report_year=2018 2 times in plant_id_ferc1=914\n",
      "Found report_year=2019 2 times in plant_id_ferc1=914\n",
      "Found report_year=1995 2 times in plant_id_ferc1=1122\n",
      "Found report_year=1995 2 times in plant_id_ferc1=1240\n",
      "Found report_year=2019 2 times in plant_id_ferc1=1279\n",
      "Found report_year=2004 2 times in plant_id_ferc1=1647\n",
      "Found report_year=2005 2 times in plant_id_ferc1=1647\n"
     ]
    }
   ],
   "source": [
    "ferc1_transformed_dfs = pudl.transform.ferc1.transform(\n",
    "         ferc1_raw_dfs, ferc1_tables=ferc1_tables)"
   ]
  },
  {
   "cell_type": "code",
   "execution_count": 10,
   "id": "narrative-royalty",
   "metadata": {
    "jupyter": {
     "source_hidden": true
    }
   },
   "outputs": [],
   "source": [
    "with open('/Users/aesharpe/Desktop/ferc1_transformed2.pickle', 'wb') as handle:\n",
    "    pickle.dump(ferc1_transformed_dfs, handle, protocol=pickle.HIGHEST_PROTOCOL)"
   ]
  },
  {
   "cell_type": "code",
   "execution_count": 11,
   "id": "removable-seller",
   "metadata": {},
   "outputs": [],
   "source": [
    "with open('/Users/aesharpe/Desktop/ferc1_transformed2.pickle', 'rb') as handle:\n",
    "    ferc1_transformed_dfs = pickle.load(handle)\n",
    "\n",
    "with open('/Users/aesharpe/Desktop/steam_w_eia.pkl', 'rb') as handle:\n",
    "    steam_w_eia = pickle.load(handle)"
   ]
  },
  {
   "cell_type": "code",
   "execution_count": 12,
   "id": "interested-worship",
   "metadata": {},
   "outputs": [],
   "source": [
    "# Load the tables you'll need with some basic alterations\n",
    "steam = ferc1_transformed_dfs['plants_steam_ferc1'].copy()\n",
    "glue_dicts = pudl.glue.ferc1_eia.glue(ferc1=True) # For steam you'll have to mimic the glue process to get plant_id_pudl and add a column for primary fuel\n",
    "steam = pd.merge(steam, glue_dicts['plants_ferc1'], on=['plant_name_ferc1', 'utility_id_ferc1'], how='left')\n",
    "steam = pd.merge(steam, glue_dicts['utilities_ferc1'][['utility_id_ferc1', 'utility_name_ferc1']], on=['utility_id_ferc1'], how='left')\n",
    "steam['primary_fuel'] = np.nan # Add column to document primary fuel"
   ]
  },
  {
   "cell_type": "code",
   "execution_count": 13,
   "id": "deluxe-needle",
   "metadata": {},
   "outputs": [],
   "source": [
    "value_cols_no_cap = [\n",
    "    'net_generation_mwh','avg_num_employees',\n",
    "    'capex_land', 'capex_equipment', 'capex_structures', 'capex_total', 'asset_retirement_cost',\n",
    "    'opex_operations', 'opex_fuel', 'opex_coolants', 'opex_steam', 'opex_steam_other', 'opex_transfer', \n",
    "    'opex_electric', 'opex_misc_power', 'opex_rents', 'opex_allowances', 'opex_engineering', 'opex_structures', \n",
    "    'opex_boiler', 'opex_plants', 'opex_misc_steam', 'opex_production_total'\n",
    "]\n",
    "\n",
    "value_cols = value_cols_no_cap + ['capacity_mw']\n",
    "\n",
    "test_view = ['report_year', 'utility_name_ferc1', 'plant_name_ferc1', 'plant_id_pudl', \n",
    "             'plant_id_ferc1', 'primary_fuel', 'plant_type', 'record_id', 'capacity_mw']\n",
    "\n",
    "total_view = test_view + ['total_type']\n",
    "\n",
    "ferc_merge_cols = ['report_year', 'utility_id_ferc1', 'plant_name_ferc1']\n",
    "eia_merge_cols = ['report_date', 'plant_id_pudl', 'generator_id']"
   ]
  },
  {
   "cell_type": "markdown",
   "id": "brutal-mexico",
   "metadata": {},
   "source": [
    "## Fill in missing fuel"
   ]
  },
  {
   "cell_type": "code",
   "execution_count": 142,
   "id": "virtual-azerbaijan",
   "metadata": {},
   "outputs": [
    {
     "name": "stdout",
     "output_type": "stream",
     "text": [
      "filling fuels with obvious names\n",
      "26492 / 28514\n",
      "filling in primary fuel by mmbtu\n",
      "3421 / 28514\n",
      "filling in eia plants with one reported fuel\n",
      "2178 / 28564\n",
      "filling in primary fuel by cost\n",
      "1925 / 28564\n",
      "filling in raw ferc1 fuels\n",
      "1769 / 28564\n",
      "filling in ferc plants with one fuel\n",
      "1045 / 28564\n",
      "filling in pudl plants with one fuel\n",
      "946 / 28564\n",
      "filling in manually mapped fuels\n",
      "861 / 28564\n",
      "front and backfilling values with the same ferc1 id\n",
      "636 / 28564\n"
     ]
    }
   ],
   "source": [
    "steam_with_fuel = impute_fuel_type(steam, pudl_out)"
   ]
  },
  {
   "cell_type": "code",
   "execution_count": 143,
   "id": "coral-vacation",
   "metadata": {},
   "outputs": [
    {
     "name": "stdout",
     "output_type": "stream",
     "text": [
      "filling plants with obvious names\n",
      "761 / 28564\n",
      "filling in manually mapped plant types\n"
     ]
    }
   ],
   "source": [
    "steam_with_plant_type = impute_plant_type(steam_with_fuel)"
   ]
  },
  {
   "cell_type": "markdown",
   "id": "textile-functionality",
   "metadata": {},
   "source": [
    "## Streamline fuel column by flipping outliers"
   ]
  },
  {
   "cell_type": "code",
   "execution_count": 144,
   "id": "boxed-tractor",
   "metadata": {},
   "outputs": [
    {
     "name": "stdout",
     "output_type": "stream",
     "text": [
      "flipping single fuel outliers for plant_id_ferc1\n",
      "636 / 28564\n",
      "flipping multiple fuel outliers\n",
      "636 / 28564\n"
     ]
    }
   ],
   "source": [
    "flip_fuels_ferc1 = (\n",
    "    steam_with_plant_type.pipe(flip_one_outlier_all, group_level='plant_id_ferc1')\n",
    "    .pipe(flip_fuel_outliers_all, max_group_size=6)\n",
    ")    "
   ]
  },
  {
   "cell_type": "code",
   "execution_count": 145,
   "id": "processed-persian",
   "metadata": {},
   "outputs": [
    {
     "name": "stdout",
     "output_type": "stream",
     "text": [
      "flipping single fuel outliers for plant_id_pudl\n",
      "636 / 28564\n"
     ]
    }
   ],
   "source": [
    "flip_fuels_pudl = (\n",
    "    flip_fuels_ferc1.assign(plant_type=lambda x: x.plant_type.fillna('unknown'))\n",
    "    .pipe(flip_one_outlier_all, group_level='plant_id_pudl')\n",
    ")"
   ]
  },
  {
   "cell_type": "code",
   "execution_count": 175,
   "id": "severe-ideal",
   "metadata": {
    "collapsed": true,
    "jupyter": {
     "outputs_hidden": true,
     "source_hidden": true
    }
   },
   "outputs": [
    {
     "name": "stdout",
     "output_type": "stream",
     "text": [
      "[481]\n",
      "heyyyy so this one has a gas to coal...\n",
      "[925]\n",
      "heyyyy so this one has a gas to coal...\n",
      "[934]\n",
      "heyyyy so this one has a gas to coal...\n",
      "[940]\n",
      "heyyyy so this one has a gas to coal...\n",
      "[1224]\n",
      "heyyyy so this one has a gas to coal...\n",
      "[1225]\n",
      "heyyyy so this one has a gas to coal...\n",
      "[1294]\n",
      "heyyyy so this one has a gas to coal...\n",
      "[1342]\n",
      "heyyyy so this one has a gas to coal...\n",
      "[1886]\n",
      "heyyyy so this one has a gas to coal...\n"
     ]
    },
    {
     "data": {
      "text/plain": [
       "plant_id_ferc1\n",
       "1       (((1,       utility_id_ferc1  report_year plan...\n",
       "2       (((1,       utility_id_ferc1  report_year plan...\n",
       "3       (((1,       utility_id_ferc1  report_year plan...\n",
       "4       (((1,       utility_id_ferc1  report_year plan...\n",
       "5       (((1,       utility_id_ferc1  report_year     ...\n",
       "                              ...                        \n",
       "6765    (((1,       utility_id_ferc1  report_year plan...\n",
       "6766    (((1,       utility_id_ferc1  report_year plan...\n",
       "6767    (((1,       utility_id_ferc1  report_year plan...\n",
       "6768    (((1,       utility_id_ferc1  report_year plan...\n",
       "6769    (((1,       utility_id_ferc1  report_year plan...\n",
       "Length: 6393, dtype: object"
      ]
     },
     "execution_count": 175,
     "metadata": {},
     "output_type": "execute_result"
    }
   ],
   "source": [
    "# Way to find gas --> coal outliers\n",
    "#tt.groupby('plant_id_ferc1').apply(lambda x: pudl.analysis.fill_ferc1_fuel_gaps.create_groups(x, 'primary_fuel'))"
   ]
  },
  {
   "cell_type": "code",
   "execution_count": null,
   "id": "chubby-upper",
   "metadata": {
    "jupyter": {
     "source_hidden": true
    }
   },
   "outputs": [],
   "source": [
    "# Notes from learning how to flip fuels:\n",
    "\n",
    "# * ferc_id 601 -- one outlier fuel (same) on either end\n",
    "# * ferc_id 839 -- turns then all to oil, but the majority are still gas--just three oil at the beginning :/\n",
    "# * pudl_id 284 -- has ferc_ids allll over the place\n",
    "# * pudl_id 307 -- has ferc_ids allll over the place\n",
    "# * ferc_id 194 -- has one for coal left at the top...could benefit from one more \"stragglers\" clean through\n",
    "# * ferc_id 713 -- same but an oil at the bottom\n",
    "# * ferc_id 190 -- still has one bb gas at the top b/c not technically a single outlier. Might be ok to make function to clean ends if there is only ONE fuel?\n",
    "# * ferc_id 554 -- has NAs and two single fuels....fill get filled in with bfill() but might not be right\n",
    "# * ferc_id 64 -- an interesting case where the order of which fuel gets flipped impacts the outcome...might want to employ a way to start by flipping things that aren't the majority fuel?"
   ]
  },
  {
   "cell_type": "markdown",
   "id": "leading-ethiopia",
   "metadata": {},
   "source": [
    "## Flag double counted rows\n",
    "\n",
    "* **plant total:** pudl plant totals where the plant is owned by more than one utility.\n",
    "* **utility owned total:** all of the assets owned by a utility\n",
    "* **utility owned plant total:** a utility's owned portion of a pudl plant\n",
    "* **utility owned plant total steam:** all of the utility's steam assets within a given pudl plant\n",
    "* **utility owned plant total nuclear:** all of the utility's nuclear assets within a given pudl plant\n",
    "* **utility owned subtotal:** the sum of several units within a pudl plant owned by one utility\n",
    "* **utility owned plant extra:** any extra amounts that are associated with a plant\n",
    "* **utility owned extra:** any extra amounts that are associated with all a utility's assets\n",
    "* **unit total:** the sum of a co-owned unit (sub-pudl plant id)"
   ]
  },
  {
   "cell_type": "code",
   "execution_count": 213,
   "id": "tribal-piece",
   "metadata": {},
   "outputs": [],
   "source": [
    "# Running list of fun problems:\n",
    "# * If the plant total has a different plant type than the reporting utilitys' then it will come up as it's own \n",
    "#   row, probably NA :/\n",
    "# * When to use total row if there are some components available\n",
    "# * Unit totals - sometimes can under report (like in avg_emp 343) or over report (like in avg_emp 295)\n",
    "# * "
   ]
  },
  {
   "cell_type": "code",
   "execution_count": 210,
   "id": "placed-turkey",
   "metadata": {},
   "outputs": [],
   "source": [
    "# To investigate: \n",
    "# common, combined, cbd, cmbd, general, all plants, &, exps.-all combustion, unknown....look for these and # 1 unit"
   ]
  },
  {
   "cell_type": "markdown",
   "id": "latest-begin",
   "metadata": {},
   "source": [
    "#### Functions"
   ]
  },
  {
   "cell_type": "code",
   "execution_count": 13,
   "id": "informed-zealand",
   "metadata": {
    "jupyter": {
     "source_hidden": true
    }
   },
   "outputs": [],
   "source": [
    "# NOT USED\n",
    "def flag_totals(steam_table):\n",
    "    \"\"\"Preliminarily mark the rows with total indicated in the plant name.\"\"\"\n",
    "    regex1 = r'(?i)tot[a-z]*' # Find anything that would resembles TOTAL in the plant name\n",
    "    regex2 = '100%' # Find all names with 100% in them\n",
    "    regex3 = 'ttl ' # the space at the end is important\n",
    "    regex4 = r'\\(all' # find any names with '(all' in them\n",
    "    \n",
    "    steam_table['total'] = steam_table['plant_name_ferc1'].str.contains('|'.join([regex1, regex2, regex3])) #regex4\n",
    "    ser_no_octo = steam_table[steam_table['plant_name_ferc1'].str.contains('octotillo')].total == False\n",
    "    steam_table['total'].update(ser_no_octo) # remove octotillio from total = True because it accidentally fits in the 'tot' regex\n",
    "    \n",
    "    return steam_table"
   ]
  },
  {
   "cell_type": "code",
   "execution_count": 14,
   "id": "pressed-console",
   "metadata": {
    "jupyter": {
     "source_hidden": true
    }
   },
   "outputs": [],
   "source": [
    "# idk where to put 'combined' b/c could be utility owned or plant total\n",
    "total_plant_list = ['total plant', 'plant total', 'total plt', 'ttl plt', 'tot. plt.', '100%', 'ttl p']\n",
    "extra_list = ['common', 'maint.', 'exp', 'misc', 'facilities', 'residual', 'various']\n",
    "gt_list = ['gt', 'g t', 'g.t', 'g. t']\n",
    "cost_list = ['chgs', 'indirect', 'exp']\n",
    "\n",
    "def flag_specific_totals(df, col_name):\n",
    "    \n",
    "    def is_total(row):\n",
    "        if any(x in row for x in total_plant_list):\n",
    "            return 'plant total' # some of these could be utility owned plant totals....\n",
    "        elif 'general' in row and 'general electric' not in row:\n",
    "            return 'utility owned total' # but is it a duplicate or is it extra...\n",
    "        elif any(x in row for x in extra_list): # order matters here\n",
    "            return 'utility owned extra'\n",
    "        elif any(x in row for x in ['chgs', 'indirect']) and any(x in row for x in gt_list):\n",
    "            return 'utility owned combustion turbine extra'\n",
    "        elif any(x in row for x in cost_list) and 'comb' in row:\n",
    "            return 'utility owned combustion turbine extra'       \n",
    "        elif any(x in row for x in cost_list) and 'steam' in row:\n",
    "            return 'utility owned steam extra'\n",
    "        elif any(x in row for x in cost_list) and 'nuclear' in row:\n",
    "            return 'utility owned nuclear extra'\n",
    "        else:\n",
    "            return None\n",
    "    \n",
    "    df[col_name] = df.apply(lambda x: is_total(x.plant_name_ferc1), axis=1)\n",
    "    \n",
    "    return df"
   ]
  },
  {
   "cell_type": "code",
   "execution_count": 15,
   "id": "phantom-cannon",
   "metadata": {
    "jupyter": {
     "source_hidden": true
    }
   },
   "outputs": [],
   "source": [
    "def backfill_by_capacity_all(df):\n",
    "    \"\"\"Add the same total flag to rows in the same plant_id with the same capacity.\"\"\"\n",
    "    def backfill_by_capacity(df_group):\n",
    "        # First make sure there is a total type otherwise just return the df\n",
    "        if df_group.total_type.isna().all():\n",
    "            return df_group\n",
    "        # If there is a total row...\n",
    "        else:\n",
    "            # Make a dictionary of total types to capacity -- capacity must be the key or else duplicate total types\n",
    "            # (in the case of two utilities reporting a total for the same plant) will get deleted even if they have\n",
    "            # different capacities. B/C key must be unique.\n",
    "            tot_df = df_group[df_group['total_type'].notna()]\n",
    "            capacity_dict = dict(zip(tot_df['capacity_mw'], tot_df['total_type']))\n",
    "            for cap, total_type in capacity_dict.items():\n",
    "                if cap > 0:\n",
    "                    df_group.loc[(df_group['capacity_mw']==cap) & (df_group['total_type'].isna()), 'total_type'] = total_type\n",
    "                    return df_group\n",
    "                else:\n",
    "                    return df_group\n",
    "    \n",
    "    out_df = df.groupby(['plant_id_pudl']).apply(lambda x: backfill_by_capacity(x))\n",
    "    return out_df"
   ]
  },
  {
   "cell_type": "code",
   "execution_count": 146,
   "id": "simplified-headline",
   "metadata": {},
   "outputs": [],
   "source": [
    "# Flag bad/total rows\n",
    "flagged_steam = (\n",
    "     flip_fuels_pudl\n",
    "     .pipe(flag_specific_totals, col_name='total_type')\n",
    "     .pipe(pudl.analysis.fill_ferc1_fuel_gaps.add_manual_values, 'total_type_manual', '/Users/aesharpe/Desktop/manual_total_types.xlsx')\n",
    "     .pipe(backfill_by_capacity_all)\n",
    "     #.assign(primary_fuel = lambda x: x.primary_fuel.fillna('unknown'))\n",
    ")"
   ]
  },
  {
   "cell_type": "markdown",
   "id": "sixth-roberts",
   "metadata": {},
   "source": [
    "#### Investigate fuel-tech pairings (with an eye for totals)"
   ]
  },
  {
   "cell_type": "code",
   "execution_count": 147,
   "id": "orange-senegal",
   "metadata": {},
   "outputs": [],
   "source": [
    "fs = flagged_steam[total_view+['primary_fuel_flag']].copy()\n",
    "fs = fs.assign(\n",
    "    primary_fuel=fs.primary_fuel.fillna('unknown'), \n",
    "    plant_type=fs.plant_type.fillna('unknown'))\n",
    "fs['tech-fuel'] = fs.primary_fuel + '_' + fs.plant_type"
   ]
  },
  {
   "cell_type": "code",
   "execution_count": 188,
   "id": "animal-helicopter",
   "metadata": {},
   "outputs": [
    {
     "data": {
      "text/plain": [
       "['Conventional Steam Coal', 'Coal Integrated Gasification Combined Cycle']"
      ]
     },
     "execution_count": 188,
     "metadata": {},
     "output_type": "execute_result"
    }
   ],
   "source": [
    "tec_li = eia['technology_description'].unique().tolist()\n",
    "tec_li = [x for x in tec_li if x!=None]\n",
    "[x for x in tec_li if 'Coal' in x]"
   ]
  },
  {
   "cell_type": "code",
   "execution_count": 189,
   "id": "marked-queue",
   "metadata": {},
   "outputs": [
    {
     "data": {
      "text/plain": [
       "['coal_steam',\n",
       " 'coal_combustion_turbine',\n",
       " 'coal_internal_combustion',\n",
       " 'coal_combined_cycle',\n",
       " 'coal_unknown']"
      ]
     },
     "execution_count": 189,
     "metadata": {},
     "output_type": "execute_result"
    }
   ],
   "source": [
    "tech_list = fs['tech-fuel'].unique().tolist()\n",
    "[x for x in tech_list if 'coal' in x]"
   ]
  },
  {
   "cell_type": "code",
   "execution_count": 149,
   "id": "local-patient",
   "metadata": {
    "collapsed": true,
    "jupyter": {
     "outputs_hidden": true
    }
   },
   "outputs": [
    {
     "name": "stdout",
     "output_type": "stream",
     "text": [
      "coal_steam\n",
      "9574\n",
      "gas_steam\n",
      "2975\n",
      "nuclear_nuclear\n",
      "1707\n",
      "unknown_steam\n",
      "217\n",
      "gas_combustion_turbine\n",
      "5872\n",
      "oil_combustion_turbine\n",
      "2433\n",
      "gas_combined_cycle\n",
      "1507\n",
      "coal_combustion_turbine\n",
      "727\n",
      "oil_steam\n",
      "773\n",
      "unknown_unknown\n",
      "234\n",
      "gas_internal_combustion\n",
      "544\n",
      "coal_internal_combustion\n",
      "102\n",
      "oil_internal_combustion\n",
      "834\n",
      "oil_combined_cycle\n",
      "33\n",
      "waste_steam\n",
      "65\n",
      "unknown_combustion_turbine\n",
      "169\n",
      "unknown_internal_combustion\n",
      "15\n",
      "geothermal_geothermal\n",
      "31\n",
      "other_combustion_turbine\n",
      "3\n",
      "other_steam\n",
      "18\n",
      "coal_combined_cycle\n",
      "33\n",
      "wind_wind\n",
      "170\n",
      "oil_unknown\n",
      "44\n",
      "gas_unknown\n",
      "121\n",
      "coal_unknown\n",
      "216\n",
      "unknown_combined_cycle\n",
      "1\n",
      "solar_photovoltaic\n",
      "135\n",
      "solar_solar_thermal\n",
      "10\n",
      "solar_solar_photovoltaic\n",
      "1\n"
     ]
    }
   ],
   "source": [
    "for tech in tech_list:\n",
    "    print(tech)\n",
    "    print(len(fs[fs['tech-fuel']==tech]))"
   ]
  },
  {
   "cell_type": "code",
   "execution_count": null,
   "id": "absent-fellowship",
   "metadata": {},
   "outputs": [],
   "source": [
    "# For testing some of these wierd ones\n",
    "\n",
    "fs[fs['tech-fuel']=='coal_combustion_turbine']\n",
    "#flagged_steam[flagged_steam['plant_name_ferc1'].str.contains('h.b. robinson')].sort_values('report_year')[total_view+['primary_fuel_flag']]\n",
    "#flagged_steam[flagged_steam['plant_id_ferc1']==82][total_view+['primary_fuel_flag']]\n",
    "#flagged_steam[flagged_steam['primary_fuel_flag']=='ferc pudl map all'].plant_id_ferc1.unique()\n",
    "#flagged_steam[flagged_steam['plant_id_ferc1']==25][total_view+['primary_fuel_flag']]\n",
    "fs[fs['plant_id_pudl']==305].sort_values('report_year')#.head(20)"
   ]
  },
  {
   "cell_type": "markdown",
   "id": "pregnant-dominant",
   "metadata": {},
   "source": [
    "### Investigate EIA technology description comparison"
   ]
  },
  {
   "cell_type": "code",
   "execution_count": 14,
   "id": "utility-modification",
   "metadata": {},
   "outputs": [
    {
     "ename": "KeyboardInterrupt",
     "evalue": "",
     "output_type": "error",
     "traceback": [
      "\u001b[0;31m---------------------------------------------------------------------------\u001b[0m",
      "\u001b[0;31mKeyboardInterrupt\u001b[0m                         Traceback (most recent call last)",
      "\u001b[0;32m<ipython-input-14-4f6dd7c3ef39>\u001b[0m in \u001b[0;36m<module>\u001b[0;34m\u001b[0m\n\u001b[1;32m      1\u001b[0m \u001b[0mfbp\u001b[0m \u001b[0;34m=\u001b[0m \u001b[0mpudl_out\u001b[0m\u001b[0;34m.\u001b[0m\u001b[0mfbp_ferc1\u001b[0m\u001b[0;34m(\u001b[0m\u001b[0;34m)\u001b[0m\u001b[0;34m\u001b[0m\u001b[0;34m\u001b[0m\u001b[0m\n\u001b[1;32m      2\u001b[0m eia = (\n\u001b[0;32m----> 3\u001b[0;31m     \u001b[0mpudl_out\u001b[0m\u001b[0;34m.\u001b[0m\u001b[0mgens_eia860\u001b[0m\u001b[0;34m(\u001b[0m\u001b[0;34m)\u001b[0m\u001b[0;31m#[['report_date', 'plant_id_pudl', 'generator_id', 'utility_name_eia', 'plant_name_eia', 'technology_description', 'fuel_type_code_pudl', 'capacity_mw']]\u001b[0m\u001b[0;34m\u001b[0m\u001b[0;34m\u001b[0m\u001b[0m\n\u001b[0m\u001b[1;32m      4\u001b[0m     \u001b[0;34m.\u001b[0m\u001b[0massign\u001b[0m\u001b[0;34m(\u001b[0m\u001b[0mreport_year\u001b[0m\u001b[0;34m=\u001b[0m\u001b[0;32mlambda\u001b[0m \u001b[0mx\u001b[0m\u001b[0;34m:\u001b[0m \u001b[0mx\u001b[0m\u001b[0;34m.\u001b[0m\u001b[0mreport_date\u001b[0m\u001b[0;34m.\u001b[0m\u001b[0mdt\u001b[0m\u001b[0;34m.\u001b[0m\u001b[0myear\u001b[0m\u001b[0;34m)\u001b[0m\u001b[0;34m\u001b[0m\u001b[0;34m\u001b[0m\u001b[0m\n\u001b[1;32m      5\u001b[0m )\n",
      "\u001b[0;32m~/Desktop/Work/Catalyst_Coop/pudl/src/pudl/output/pudltabl.py\u001b[0m in \u001b[0;36mgens_eia860\u001b[0;34m(self, update)\u001b[0m\n\u001b[1;32m    509\u001b[0m         \"\"\"\n\u001b[1;32m    510\u001b[0m         \u001b[0;32mif\u001b[0m \u001b[0mupdate\u001b[0m \u001b[0;32mor\u001b[0m \u001b[0mself\u001b[0m\u001b[0;34m.\u001b[0m\u001b[0m_dfs\u001b[0m\u001b[0;34m[\u001b[0m\u001b[0;34m'gens_eia860'\u001b[0m\u001b[0;34m]\u001b[0m \u001b[0;32mis\u001b[0m \u001b[0;32mNone\u001b[0m\u001b[0;34m:\u001b[0m\u001b[0;34m\u001b[0m\u001b[0;34m\u001b[0m\u001b[0m\n\u001b[0;32m--> 511\u001b[0;31m             self._dfs['gens_eia860'] = pudl.output.eia860.generators_eia860(\n\u001b[0m\u001b[1;32m    512\u001b[0m                 \u001b[0mself\u001b[0m\u001b[0;34m.\u001b[0m\u001b[0mpudl_engine\u001b[0m\u001b[0;34m,\u001b[0m\u001b[0;34m\u001b[0m\u001b[0;34m\u001b[0m\u001b[0m\n\u001b[1;32m    513\u001b[0m                 \u001b[0mstart_date\u001b[0m\u001b[0;34m=\u001b[0m\u001b[0mself\u001b[0m\u001b[0;34m.\u001b[0m\u001b[0mstart_date\u001b[0m\u001b[0;34m,\u001b[0m\u001b[0;34m\u001b[0m\u001b[0;34m\u001b[0m\u001b[0m\n",
      "\u001b[0;32m~/Desktop/Work/Catalyst_Coop/pudl/src/pudl/output/eia860.py\u001b[0m in \u001b[0;36mgenerators_eia860\u001b[0;34m(pudl_engine, start_date, end_date)\u001b[0m\n\u001b[1;32m    288\u001b[0m     \u001b[0;31m# Bring in some generic plant & utility information:\u001b[0m\u001b[0;34m\u001b[0m\u001b[0;34m\u001b[0m\u001b[0;34m\u001b[0m\u001b[0m\n\u001b[1;32m    289\u001b[0m     pu_eia = (\n\u001b[0;32m--> 290\u001b[0;31m         plants_utils_eia860(\n\u001b[0m\u001b[1;32m    291\u001b[0m             pudl_engine, start_date=start_date, end_date=end_date)\n\u001b[1;32m    292\u001b[0m         \u001b[0;34m.\u001b[0m\u001b[0mdrop\u001b[0m\u001b[0;34m(\u001b[0m\u001b[0;34m[\u001b[0m\u001b[0;34m\"plant_name_eia\"\u001b[0m\u001b[0;34m,\u001b[0m \u001b[0;34m\"utility_id_eia\"\u001b[0m\u001b[0;34m]\u001b[0m\u001b[0;34m,\u001b[0m \u001b[0maxis\u001b[0m\u001b[0;34m=\u001b[0m\u001b[0;34m\"columns\"\u001b[0m\u001b[0;34m)\u001b[0m\u001b[0;34m\u001b[0m\u001b[0;34m\u001b[0m\u001b[0m\n",
      "\u001b[0;32m~/Desktop/Work/Catalyst_Coop/pudl/src/pudl/output/eia860.py\u001b[0m in \u001b[0;36mplants_utils_eia860\u001b[0;34m(pudl_engine, start_date, end_date)\u001b[0m\n\u001b[1;32m    180\u001b[0m     \u001b[0;31m# Contains the one-to-one mapping of EIA plants to their operators\u001b[0m\u001b[0;34m\u001b[0m\u001b[0;34m\u001b[0m\u001b[0;34m\u001b[0m\u001b[0m\n\u001b[1;32m    181\u001b[0m     plants_eia = (\n\u001b[0;32m--> 182\u001b[0;31m         \u001b[0mplants_eia860\u001b[0m\u001b[0;34m(\u001b[0m\u001b[0mpudl_engine\u001b[0m\u001b[0;34m,\u001b[0m \u001b[0mstart_date\u001b[0m\u001b[0;34m=\u001b[0m\u001b[0mstart_date\u001b[0m\u001b[0;34m,\u001b[0m \u001b[0mend_date\u001b[0m\u001b[0;34m=\u001b[0m\u001b[0mend_date\u001b[0m\u001b[0;34m)\u001b[0m\u001b[0;34m\u001b[0m\u001b[0;34m\u001b[0m\u001b[0m\n\u001b[0m\u001b[1;32m    183\u001b[0m         .drop(['utility_id_pudl', 'city', 'state',  # Avoid dupes in merge\n\u001b[1;32m    184\u001b[0m                'zip_code', 'street_address', 'utility_name_eia'],\n",
      "\u001b[0;32m~/Desktop/Work/Catalyst_Coop/pudl/src/pudl/output/eia860.py\u001b[0m in \u001b[0;36mplants_eia860\u001b[0;34m(pudl_engine, start_date, end_date)\u001b[0m\n\u001b[1;32m    117\u001b[0m         )\n\u001b[1;32m    118\u001b[0m     plants_eia860_df = (\n\u001b[0;32m--> 119\u001b[0;31m         \u001b[0mpd\u001b[0m\u001b[0;34m.\u001b[0m\u001b[0mread_sql\u001b[0m\u001b[0;34m(\u001b[0m\u001b[0mplants_eia860_select\u001b[0m\u001b[0;34m,\u001b[0m \u001b[0mpudl_engine\u001b[0m\u001b[0;34m)\u001b[0m\u001b[0;34m\u001b[0m\u001b[0;34m\u001b[0m\u001b[0m\n\u001b[0m\u001b[1;32m    120\u001b[0m         \u001b[0;34m.\u001b[0m\u001b[0massign\u001b[0m\u001b[0;34m(\u001b[0m\u001b[0mreport_date\u001b[0m\u001b[0;34m=\u001b[0m\u001b[0;32mlambda\u001b[0m \u001b[0mx\u001b[0m\u001b[0;34m:\u001b[0m \u001b[0mpd\u001b[0m\u001b[0;34m.\u001b[0m\u001b[0mto_datetime\u001b[0m\u001b[0;34m(\u001b[0m\u001b[0mx\u001b[0m\u001b[0;34m.\u001b[0m\u001b[0mreport_date\u001b[0m\u001b[0;34m)\u001b[0m\u001b[0;34m)\u001b[0m\u001b[0;34m\u001b[0m\u001b[0;34m\u001b[0m\u001b[0m\n\u001b[1;32m    121\u001b[0m     )\n",
      "\u001b[0;32m~/miniconda3/envs/pudl-dev/lib/python3.8/site-packages/pandas/io/sql.py\u001b[0m in \u001b[0;36mread_sql\u001b[0;34m(sql, con, index_col, coerce_float, params, parse_dates, columns, chunksize)\u001b[0m\n\u001b[1;32m    508\u001b[0m         )\n\u001b[1;32m    509\u001b[0m     \u001b[0;32melse\u001b[0m\u001b[0;34m:\u001b[0m\u001b[0;34m\u001b[0m\u001b[0;34m\u001b[0m\u001b[0m\n\u001b[0;32m--> 510\u001b[0;31m         return pandas_sql.read_query(\n\u001b[0m\u001b[1;32m    511\u001b[0m             \u001b[0msql\u001b[0m\u001b[0;34m,\u001b[0m\u001b[0;34m\u001b[0m\u001b[0;34m\u001b[0m\u001b[0m\n\u001b[1;32m    512\u001b[0m             \u001b[0mindex_col\u001b[0m\u001b[0;34m=\u001b[0m\u001b[0mindex_col\u001b[0m\u001b[0;34m,\u001b[0m\u001b[0;34m\u001b[0m\u001b[0;34m\u001b[0m\u001b[0m\n",
      "\u001b[0;32m~/miniconda3/envs/pudl-dev/lib/python3.8/site-packages/pandas/io/sql.py\u001b[0m in \u001b[0;36mread_query\u001b[0;34m(self, sql, index_col, coerce_float, parse_dates, params, chunksize)\u001b[0m\n\u001b[1;32m   1305\u001b[0m             )\n\u001b[1;32m   1306\u001b[0m         \u001b[0;32melse\u001b[0m\u001b[0;34m:\u001b[0m\u001b[0;34m\u001b[0m\u001b[0;34m\u001b[0m\u001b[0m\n\u001b[0;32m-> 1307\u001b[0;31m             \u001b[0mdata\u001b[0m \u001b[0;34m=\u001b[0m \u001b[0mresult\u001b[0m\u001b[0;34m.\u001b[0m\u001b[0mfetchall\u001b[0m\u001b[0;34m(\u001b[0m\u001b[0;34m)\u001b[0m\u001b[0;34m\u001b[0m\u001b[0;34m\u001b[0m\u001b[0m\n\u001b[0m\u001b[1;32m   1308\u001b[0m             frame = _wrap_result(\n\u001b[1;32m   1309\u001b[0m                 \u001b[0mdata\u001b[0m\u001b[0;34m,\u001b[0m\u001b[0;34m\u001b[0m\u001b[0;34m\u001b[0m\u001b[0m\n",
      "\u001b[0;32m~/miniconda3/envs/pudl-dev/lib/python3.8/site-packages/sqlalchemy/engine/result.py\u001b[0m in \u001b[0;36mfetchall\u001b[0;34m(self)\u001b[0m\n\u001b[1;32m   1286\u001b[0m             \u001b[0;32mreturn\u001b[0m \u001b[0ml\u001b[0m\u001b[0;34m\u001b[0m\u001b[0;34m\u001b[0m\u001b[0m\n\u001b[1;32m   1287\u001b[0m         \u001b[0;32mexcept\u001b[0m \u001b[0mBaseException\u001b[0m \u001b[0;32mas\u001b[0m \u001b[0me\u001b[0m\u001b[0;34m:\u001b[0m\u001b[0;34m\u001b[0m\u001b[0;34m\u001b[0m\u001b[0m\n\u001b[0;32m-> 1288\u001b[0;31m             self.connection._handle_dbapi_exception(\n\u001b[0m\u001b[1;32m   1289\u001b[0m                 \u001b[0me\u001b[0m\u001b[0;34m,\u001b[0m \u001b[0;32mNone\u001b[0m\u001b[0;34m,\u001b[0m \u001b[0;32mNone\u001b[0m\u001b[0;34m,\u001b[0m \u001b[0mself\u001b[0m\u001b[0;34m.\u001b[0m\u001b[0mcursor\u001b[0m\u001b[0;34m,\u001b[0m \u001b[0mself\u001b[0m\u001b[0;34m.\u001b[0m\u001b[0mcontext\u001b[0m\u001b[0;34m\u001b[0m\u001b[0;34m\u001b[0m\u001b[0m\n\u001b[1;32m   1290\u001b[0m             )\n",
      "\u001b[0;32m~/miniconda3/envs/pudl-dev/lib/python3.8/site-packages/sqlalchemy/engine/base.py\u001b[0m in \u001b[0;36m_handle_dbapi_exception\u001b[0;34m(self, e, statement, parameters, cursor, context)\u001b[0m\n\u001b[1;32m   1512\u001b[0m                 )\n\u001b[1;32m   1513\u001b[0m             \u001b[0;32melse\u001b[0m\u001b[0;34m:\u001b[0m\u001b[0;34m\u001b[0m\u001b[0;34m\u001b[0m\u001b[0m\n\u001b[0;32m-> 1514\u001b[0;31m                 \u001b[0mutil\u001b[0m\u001b[0;34m.\u001b[0m\u001b[0mraise_\u001b[0m\u001b[0;34m(\u001b[0m\u001b[0mexc_info\u001b[0m\u001b[0;34m[\u001b[0m\u001b[0;36m1\u001b[0m\u001b[0;34m]\u001b[0m\u001b[0;34m,\u001b[0m \u001b[0mwith_traceback\u001b[0m\u001b[0;34m=\u001b[0m\u001b[0mexc_info\u001b[0m\u001b[0;34m[\u001b[0m\u001b[0;36m2\u001b[0m\u001b[0;34m]\u001b[0m\u001b[0;34m)\u001b[0m\u001b[0;34m\u001b[0m\u001b[0;34m\u001b[0m\u001b[0m\n\u001b[0m\u001b[1;32m   1515\u001b[0m \u001b[0;34m\u001b[0m\u001b[0m\n\u001b[1;32m   1516\u001b[0m         \u001b[0;32mfinally\u001b[0m\u001b[0;34m:\u001b[0m\u001b[0;34m\u001b[0m\u001b[0;34m\u001b[0m\u001b[0m\n",
      "\u001b[0;32m~/miniconda3/envs/pudl-dev/lib/python3.8/site-packages/sqlalchemy/util/compat.py\u001b[0m in \u001b[0;36mraise_\u001b[0;34m(***failed resolving arguments***)\u001b[0m\n\u001b[1;32m    180\u001b[0m \u001b[0;34m\u001b[0m\u001b[0m\n\u001b[1;32m    181\u001b[0m         \u001b[0;32mtry\u001b[0m\u001b[0;34m:\u001b[0m\u001b[0;34m\u001b[0m\u001b[0;34m\u001b[0m\u001b[0m\n\u001b[0;32m--> 182\u001b[0;31m             \u001b[0;32mraise\u001b[0m \u001b[0mexception\u001b[0m\u001b[0;34m\u001b[0m\u001b[0;34m\u001b[0m\u001b[0m\n\u001b[0m\u001b[1;32m    183\u001b[0m         \u001b[0;32mfinally\u001b[0m\u001b[0;34m:\u001b[0m\u001b[0;34m\u001b[0m\u001b[0;34m\u001b[0m\u001b[0m\n\u001b[1;32m    184\u001b[0m             \u001b[0;31m# credit to\u001b[0m\u001b[0;34m\u001b[0m\u001b[0;34m\u001b[0m\u001b[0;34m\u001b[0m\u001b[0m\n",
      "\u001b[0;32m~/miniconda3/envs/pudl-dev/lib/python3.8/site-packages/sqlalchemy/engine/result.py\u001b[0m in \u001b[0;36mfetchall\u001b[0;34m(self)\u001b[0m\n\u001b[1;32m   1282\u001b[0m \u001b[0;34m\u001b[0m\u001b[0m\n\u001b[1;32m   1283\u001b[0m         \u001b[0;32mtry\u001b[0m\u001b[0;34m:\u001b[0m\u001b[0;34m\u001b[0m\u001b[0;34m\u001b[0m\u001b[0m\n\u001b[0;32m-> 1284\u001b[0;31m             \u001b[0ml\u001b[0m \u001b[0;34m=\u001b[0m \u001b[0mself\u001b[0m\u001b[0;34m.\u001b[0m\u001b[0mprocess_rows\u001b[0m\u001b[0;34m(\u001b[0m\u001b[0mself\u001b[0m\u001b[0;34m.\u001b[0m\u001b[0m_fetchall_impl\u001b[0m\u001b[0;34m(\u001b[0m\u001b[0;34m)\u001b[0m\u001b[0;34m)\u001b[0m\u001b[0;34m\u001b[0m\u001b[0;34m\u001b[0m\u001b[0m\n\u001b[0m\u001b[1;32m   1285\u001b[0m             \u001b[0mself\u001b[0m\u001b[0;34m.\u001b[0m\u001b[0m_soft_close\u001b[0m\u001b[0;34m(\u001b[0m\u001b[0;34m)\u001b[0m\u001b[0;34m\u001b[0m\u001b[0;34m\u001b[0m\u001b[0m\n\u001b[1;32m   1286\u001b[0m             \u001b[0;32mreturn\u001b[0m \u001b[0ml\u001b[0m\u001b[0;34m\u001b[0m\u001b[0;34m\u001b[0m\u001b[0m\n",
      "\u001b[0;32m~/miniconda3/envs/pudl-dev/lib/python3.8/site-packages/sqlalchemy/engine/result.py\u001b[0m in \u001b[0;36m_fetchall_impl\u001b[0;34m(self)\u001b[0m\n\u001b[1;32m   1228\u001b[0m     \u001b[0;32mdef\u001b[0m \u001b[0m_fetchall_impl\u001b[0m\u001b[0;34m(\u001b[0m\u001b[0mself\u001b[0m\u001b[0;34m)\u001b[0m\u001b[0;34m:\u001b[0m\u001b[0;34m\u001b[0m\u001b[0;34m\u001b[0m\u001b[0m\n\u001b[1;32m   1229\u001b[0m         \u001b[0;32mtry\u001b[0m\u001b[0;34m:\u001b[0m\u001b[0;34m\u001b[0m\u001b[0;34m\u001b[0m\u001b[0m\n\u001b[0;32m-> 1230\u001b[0;31m             \u001b[0;32mreturn\u001b[0m \u001b[0mself\u001b[0m\u001b[0;34m.\u001b[0m\u001b[0mcursor\u001b[0m\u001b[0;34m.\u001b[0m\u001b[0mfetchall\u001b[0m\u001b[0;34m(\u001b[0m\u001b[0;34m)\u001b[0m\u001b[0;34m\u001b[0m\u001b[0;34m\u001b[0m\u001b[0m\n\u001b[0m\u001b[1;32m   1231\u001b[0m         \u001b[0;32mexcept\u001b[0m \u001b[0mAttributeError\u001b[0m \u001b[0;32mas\u001b[0m \u001b[0merr\u001b[0m\u001b[0;34m:\u001b[0m\u001b[0;34m\u001b[0m\u001b[0;34m\u001b[0m\u001b[0m\n\u001b[1;32m   1232\u001b[0m             \u001b[0;32mreturn\u001b[0m \u001b[0mself\u001b[0m\u001b[0;34m.\u001b[0m\u001b[0m_non_result\u001b[0m\u001b[0;34m(\u001b[0m\u001b[0;34m[\u001b[0m\u001b[0;34m]\u001b[0m\u001b[0;34m,\u001b[0m \u001b[0merr\u001b[0m\u001b[0;34m)\u001b[0m\u001b[0;34m\u001b[0m\u001b[0;34m\u001b[0m\u001b[0m\n",
      "\u001b[0;31mKeyboardInterrupt\u001b[0m: "
     ]
    }
   ],
   "source": [
    "fbp = pudl_out.fbp_ferc1()\n",
    "eia = (\n",
    "    pudl_out.gens_eia860()#[['report_date', 'plant_id_pudl', 'generator_id', 'utility_name_eia', 'plant_name_eia', 'technology_description', 'fuel_type_code_pudl', 'capacity_mw']]\n",
    "    .assign(report_year=lambda x: x.report_date.dt.year)\n",
    ")"
   ]
  },
  {
   "cell_type": "code",
   "execution_count": 425,
   "id": "killing-sending",
   "metadata": {},
   "outputs": [],
   "source": [
    "eia_test = eia[eia['plant_id_pudl']==305]\n",
    "ferc_test = fs[fs['plant_id_pudl']==305]\n",
    "\n",
    "# Get eia plants with only one technology description (besides NA)\n",
    "eia_one_tech = (\n",
    "    eia.groupby('plant_id_pudl').filter(lambda x: len(x.technology_description.dropna().unique())==1)\n",
    "    [['report_year', 'plant_id_pudl', 'technology_description']].drop_duplicates()\n",
    "    .assign(dup=lambda x: x.duplicated(subset=['report_year', 'plant_id_pudl'], keep=False))\n",
    ")\n",
    "# Drop None cases when there is a None and a Tech Desc. for the same plant and year (so there is one per plant-year)\n",
    "eia_one_tech = eia_one_tech.drop(eia_one_tech[(eia_one_tech['dup']==True) & (eia_one_tech['technology_description'].isna())].index)\n",
    "eia_one_tech_list = list(eia_one_tech.plant_id_pudl.unique())\n",
    "\n",
    "# Get the technology description associated with the plant regardless of year...\n",
    "plant_id_tech_type = (\n",
    "    eia_one_tech.groupby(['plant_id_pudl']).agg({'technology_description':lambda x: x.dropna().unique().item()})\n",
    "    .rename(columns={'technology_description': 'same_tech'})\n",
    ")"
   ]
  },
  {
   "cell_type": "code",
   "execution_count": 426,
   "id": "attended-gender",
   "metadata": {},
   "outputs": [
    {
     "name": "stdout",
     "output_type": "stream",
     "text": [
      "1482\n",
      "706\n"
     ]
    }
   ],
   "source": [
    "# Number of total plants in the steam table\n",
    "print(len(steam.plant_id_pudl.unique()))\n",
    "# VS number of plants in the steam table that coorespond to EIA plants with a single technology description\n",
    "print(len([x for x in eia_one_tech_list if x in steam.plant_id_pudl.unique()]))"
   ]
  },
  {
   "cell_type": "code",
   "execution_count": 355,
   "id": "finite-kingdom",
   "metadata": {},
   "outputs": [],
   "source": [
    "# Check the construction_year and installation_year fields\n",
    "def check_for_new_units(df, year_col, bool_col):\n",
    "    init_years = df[df['report_year']==df.report_year.min()][year_col].unique()\n",
    "    \n",
    "    df[f'{bool_col}'] = ~df[f'{year_col}'].isin(init_years)\n",
    "    \n",
    "    return df"
   ]
  },
  {
   "cell_type": "code",
   "execution_count": 356,
   "id": "ultimate-honey",
   "metadata": {},
   "outputs": [],
   "source": [
    "# Make columns to see if there have been any unit additions or retirements\n",
    "steam2 = (\n",
    "    steam.groupby(['plant_id_pudl']).apply(lambda x: check_for_new_units(x, 'construction_year', 'retired_unit'))\n",
    "    .groupby(['plant_id_pudl']).apply(lambda x: check_for_new_units(x, 'installation_year', 'new_unit'))\n",
    ")"
   ]
  },
  {
   "cell_type": "code",
   "execution_count": 466,
   "id": "connected-player",
   "metadata": {},
   "outputs": [],
   "source": [
    "# Merge the eia single technology descriptions with ferc1\n",
    "merge_df = (\n",
    "    pd.merge(steam2, eia_one_tech[['report_year', 'plant_id_pudl', 'technology_description']].drop_duplicates(), \n",
    "             on=['report_year', 'plant_id_pudl'], how='left')\n",
    ")\n",
    "merge_df2 = pd.merge(merge_df, plant_id_tech_type, on=['plant_id_pudl'], how='left')\n",
    "\n",
    "ferc_eia_tech_desc = merge_df2[['report_year', 'plant_id_pudl', 'utility_id_ferc1', 'plant_name_ferc1', 'plant_type', \n",
    "                                'technology_description', 'same_tech', 'construction_year', 'retired_unit', \n",
    "                                'installation_year', 'new_unit']]"
   ]
  },
  {
   "cell_type": "code",
   "execution_count": 639,
   "id": "weighted-subsection",
   "metadata": {},
   "outputs": [],
   "source": [
    "# List of plants from the MUL that have multiple tech descriptions in one pudl id\n",
    "#steam_w_eia.groupby(['plant_id_pudl']).filter(lambda x: len(x.technology_description.dropna().unique())>1)['plant_id_pudl'].unique()"
   ]
  },
  {
   "cell_type": "code",
   "execution_count": 640,
   "id": "technological-tucson",
   "metadata": {},
   "outputs": [],
   "source": [
    "#steam_w_eia[steam_w_eia['plant_id_pudl']==178][['report_year', 'utility_id_ferc1', 'plant_name_ferc1', 'installation_year', 'construction_year', 'technology_description']]"
   ]
  },
  {
   "cell_type": "code",
   "execution_count": 511,
   "id": "revolutionary-donor",
   "metadata": {},
   "outputs": [
    {
     "data": {
      "text/plain": [
       "3050"
      ]
     },
     "execution_count": 511,
     "metadata": {},
     "output_type": "execute_result"
    }
   ],
   "source": [
    "len(ferc_eia_tech_desc[ferc_eia_tech_desc['technology_description'].notna()])"
   ]
  },
  {
   "cell_type": "code",
   "execution_count": 512,
   "id": "removable-islam",
   "metadata": {},
   "outputs": [
    {
     "data": {
      "text/plain": [
       "14567"
      ]
     },
     "execution_count": 512,
     "metadata": {},
     "output_type": "execute_result"
    }
   ],
   "source": [
    "len(ferc_eia_tech_desc[ferc_eia_tech_desc['same_tech'].notna()])"
   ]
  },
  {
   "cell_type": "code",
   "execution_count": 456,
   "id": "right-contest",
   "metadata": {},
   "outputs": [
    {
     "data": {
      "text/plain": [
       "array([1148, 113, 13, 133, 2297, 2532, 190, 394, 1620, 351, 1225, 117,\n",
       "       147, 136, 1187, 122, 556, 1032, 2740, 457, 330, 440, 638, 283,\n",
       "       1525, 546, 550, 627, 1177, 778, 464, 8327, 1381, 1128, 343, 1069,\n",
       "       1157, 471, 1230, 215, 424, 1135, 205, 439, 545, 275, 2960, 224,\n",
       "       267, 1108, 420, 182, 334, 11, 583, 7616, 2561, 8547, 200, 15, 548,\n",
       "       1149, 527, 199, 235, 1083, 380, 18, 602, 1144, 140, 63, 317, 1169,\n",
       "       4, 26, 374, 180, 1141, 1280, 258, 312, 295, 624, 22, 585, 125, 634,\n",
       "       654, 183, 629, 56, 1297, 385, 239, 566, 1085, 241, 649],\n",
       "      dtype=object)"
      ]
     },
     "execution_count": 456,
     "metadata": {},
     "output_type": "execute_result"
    }
   ],
   "source": [
    "hmm = ferc_eia_tech_desc[(ferc_eia_tech_desc['same_tech'].notna()) & (ferc_eia_tech_desc['technology_description'].isna())]\n",
    "\n",
    "# Plants where not all records have an eia tech description AND there is a change in the installation year (aka there was a new unit added)\n",
    "hmm[hmm['new_unit']==True].plant_id_pudl.unique()"
   ]
  },
  {
   "cell_type": "code",
   "execution_count": 458,
   "id": "colonial-console",
   "metadata": {},
   "outputs": [],
   "source": [
    "nona = ferc_eia_tech_desc[ferc_eia_tech_desc['technology_description'].notna()]"
   ]
  },
  {
   "cell_type": "markdown",
   "id": "threatened-fifty",
   "metadata": {},
   "source": [
    "#### Investigate Heat Rates -- not worth it because EIA fills in all the gaps where there is a heat rate"
   ]
  },
  {
   "cell_type": "code",
   "execution_count": 477,
   "id": "better-produce",
   "metadata": {},
   "outputs": [
    {
     "name": "stdout",
     "output_type": "stream",
     "text": [
      "29270\n",
      "29270\n"
     ]
    }
   ],
   "source": [
    "# Identify duplicate columns\n",
    "fuel_dupes = (\n",
    "    fuel.loc[fuel['fuel_type_code_pudl'] != 'unknown'].copy()\n",
    "    .assign(dup=lambda x: x.duplicated(subset=ferc_merge_cols, keep=False)))\n",
    "\n",
    "# Only take fuels from plants without duplicate name/utility/year combos\n",
    "fuel_ferc_no_dup = (\n",
    "    fuel_dupes[~fuel_dupes['dup']][[\n",
    "        'report_year', 'utility_id_ferc1', 'plant_name_ferc1',\n",
    "        'fuel_type_code_pudl', 'fuel_avg_heat_raw', 'fuel_qty_burned']].copy()  # keep fuel_avg_heat_raw and fuel_qty_burned in there for next round\n",
    "    .rename(columns={'fuel_type_code_pudl': 'fuel_type_code_pudl_ferc'}))\n",
    "\n",
    "hr_merge = pd.merge(ferc_eia_tech_desc, fuel_ferc_no_dup, on=ferc_merge_cols, how='left')\n",
    "\n",
    "print(len(hr_merge))\n",
    "print(len(ferc_eia_tech_desc))"
   ]
  },
  {
   "cell_type": "code",
   "execution_count": 579,
   "id": "interim-sphere",
   "metadata": {},
   "outputs": [],
   "source": [
    "hr_merge2 = hr_merge[hr_merge['technology_description'].notna()]\n",
    "hr_merge3 = hr_merge2.groupby(['technology_description']).filter(lambda x: len(x.fuel_avg_heat_raw.dropna()) > 5)\n",
    "hr_merge4 = hr_merge3[hr_merge3['fuel_avg_heat_raw'].notna()]"
   ]
  },
  {
   "cell_type": "code",
   "execution_count": 607,
   "id": "surgical-architect",
   "metadata": {},
   "outputs": [
    {
     "data": {
      "text/html": [
       "<div>\n",
       "<style scoped>\n",
       "    .dataframe tbody tr th:only-of-type {\n",
       "        vertical-align: middle;\n",
       "    }\n",
       "\n",
       "    .dataframe tbody tr th {\n",
       "        vertical-align: top;\n",
       "    }\n",
       "\n",
       "    .dataframe thead th {\n",
       "        text-align: right;\n",
       "    }\n",
       "</style>\n",
       "<table border=\"1\" class=\"dataframe\">\n",
       "  <thead>\n",
       "    <tr style=\"text-align: right;\">\n",
       "      <th></th>\n",
       "      <th>report_year</th>\n",
       "      <th>plant_id_pudl</th>\n",
       "      <th>utility_id_ferc1</th>\n",
       "      <th>plant_name_ferc1</th>\n",
       "      <th>plant_type</th>\n",
       "      <th>technology_description</th>\n",
       "      <th>same_tech</th>\n",
       "      <th>construction_year</th>\n",
       "      <th>retired_unit</th>\n",
       "      <th>installation_year</th>\n",
       "      <th>new_unit</th>\n",
       "      <th>fuel_type_code_pudl_ferc</th>\n",
       "      <th>fuel_avg_heat_raw</th>\n",
       "      <th>fuel_qty_burned</th>\n",
       "    </tr>\n",
       "  </thead>\n",
       "  <tbody>\n",
       "    <tr>\n",
       "      <th>6</th>\n",
       "      <td>1994</td>\n",
       "      <td>32</td>\n",
       "      <td>2</td>\n",
       "      <td>barry</td>\n",
       "      <td>steam</td>\n",
       "      <td>NaN</td>\n",
       "      <td>NaN</td>\n",
       "      <td>1954</td>\n",
       "      <td>False</td>\n",
       "      <td>1971</td>\n",
       "      <td>False</td>\n",
       "      <td>coal</td>\n",
       "      <td>11975.0</td>\n",
       "      <td>3739484.0</td>\n",
       "    </tr>\n",
       "    <tr>\n",
       "      <th>7</th>\n",
       "      <td>1994</td>\n",
       "      <td>108</td>\n",
       "      <td>2</td>\n",
       "      <td>chickasaw</td>\n",
       "      <td>steam</td>\n",
       "      <td>NaN</td>\n",
       "      <td>NaN</td>\n",
       "      <td>1941</td>\n",
       "      <td>False</td>\n",
       "      <td>1951</td>\n",
       "      <td>False</td>\n",
       "      <td>gas</td>\n",
       "      <td>1.0</td>\n",
       "      <td>40533.0</td>\n",
       "    </tr>\n",
       "    <tr>\n",
       "      <th>8</th>\n",
       "      <td>1994</td>\n",
       "      <td>178</td>\n",
       "      <td>2</td>\n",
       "      <td>e. c. gaston-unit 5</td>\n",
       "      <td>steam</td>\n",
       "      <td>NaN</td>\n",
       "      <td>NaN</td>\n",
       "      <td>1974</td>\n",
       "      <td>False</td>\n",
       "      <td>1974</td>\n",
       "      <td>False</td>\n",
       "      <td>coal</td>\n",
       "      <td>11961.0</td>\n",
       "      <td>2124933.0</td>\n",
       "    </tr>\n",
       "    <tr>\n",
       "      <th>11</th>\n",
       "      <td>1994</td>\n",
       "      <td>11538</td>\n",
       "      <td>2</td>\n",
       "      <td>resondent's portion</td>\n",
       "      <td>unknown</td>\n",
       "      <td>NaN</td>\n",
       "      <td>NaN</td>\n",
       "      <td>&lt;NA&gt;</td>\n",
       "      <td>False</td>\n",
       "      <td>&lt;NA&gt;</td>\n",
       "      <td>False</td>\n",
       "      <td>coal</td>\n",
       "      <td>12420.0</td>\n",
       "      <td>5372133.0</td>\n",
       "    </tr>\n",
       "    <tr>\n",
       "      <th>14</th>\n",
       "      <td>1994</td>\n",
       "      <td>8470</td>\n",
       "      <td>2</td>\n",
       "      <td>respondent's portion</td>\n",
       "      <td>unknown</td>\n",
       "      <td>NaN</td>\n",
       "      <td>NaN</td>\n",
       "      <td>&lt;NA&gt;</td>\n",
       "      <td>False</td>\n",
       "      <td>&lt;NA&gt;</td>\n",
       "      <td>False</td>\n",
       "      <td>coal</td>\n",
       "      <td>12145.0</td>\n",
       "      <td>817520.0</td>\n",
       "    </tr>\n",
       "    <tr>\n",
       "      <th>...</th>\n",
       "      <td>...</td>\n",
       "      <td>...</td>\n",
       "      <td>...</td>\n",
       "      <td>...</td>\n",
       "      <td>...</td>\n",
       "      <td>...</td>\n",
       "      <td>...</td>\n",
       "      <td>...</td>\n",
       "      <td>...</td>\n",
       "      <td>...</td>\n",
       "      <td>...</td>\n",
       "      <td>...</td>\n",
       "      <td>...</td>\n",
       "      <td>...</td>\n",
       "    </tr>\n",
       "    <tr>\n",
       "      <th>29244</th>\n",
       "      <td>2019</td>\n",
       "      <td>413</td>\n",
       "      <td>22</td>\n",
       "      <td>nesbitt unit 1</td>\n",
       "      <td>steam</td>\n",
       "      <td>NaN</td>\n",
       "      <td>NaN</td>\n",
       "      <td>1975</td>\n",
       "      <td>False</td>\n",
       "      <td>1975</td>\n",
       "      <td>False</td>\n",
       "      <td>gas</td>\n",
       "      <td>1016842.0</td>\n",
       "      <td>6009634.0</td>\n",
       "    </tr>\n",
       "    <tr>\n",
       "      <th>29250</th>\n",
       "      <td>2019</td>\n",
       "      <td>581</td>\n",
       "      <td>22</td>\n",
       "      <td>teche 4</td>\n",
       "      <td>internal_combustion</td>\n",
       "      <td>NaN</td>\n",
       "      <td>NaN</td>\n",
       "      <td>2011</td>\n",
       "      <td>True</td>\n",
       "      <td>2011</td>\n",
       "      <td>True</td>\n",
       "      <td>gas</td>\n",
       "      <td>1077809.0</td>\n",
       "      <td>10504.0</td>\n",
       "    </tr>\n",
       "    <tr>\n",
       "      <th>29254</th>\n",
       "      <td>2019</td>\n",
       "      <td>261</td>\n",
       "      <td>227</td>\n",
       "      <td>hersey</td>\n",
       "      <td>combustion_turbine</td>\n",
       "      <td>NaN</td>\n",
       "      <td>NaN</td>\n",
       "      <td>1947</td>\n",
       "      <td>False</td>\n",
       "      <td>2000</td>\n",
       "      <td>True</td>\n",
       "      <td>gas</td>\n",
       "      <td>1057.0</td>\n",
       "      <td>267483.0</td>\n",
       "    </tr>\n",
       "    <tr>\n",
       "      <th>29256</th>\n",
       "      <td>2019</td>\n",
       "      <td>80</td>\n",
       "      <td>227</td>\n",
       "      <td>burnips</td>\n",
       "      <td>combustion_turbine</td>\n",
       "      <td>NaN</td>\n",
       "      <td>NaN</td>\n",
       "      <td>1937</td>\n",
       "      <td>False</td>\n",
       "      <td>2001</td>\n",
       "      <td>True</td>\n",
       "      <td>gas</td>\n",
       "      <td>1064.0</td>\n",
       "      <td>37529.0</td>\n",
       "    </tr>\n",
       "    <tr>\n",
       "      <th>29267</th>\n",
       "      <td>2019</td>\n",
       "      <td>560</td>\n",
       "      <td>51</td>\n",
       "      <td>sl combined cycle</td>\n",
       "      <td>combined_cycle</td>\n",
       "      <td>NaN</td>\n",
       "      <td>NaN</td>\n",
       "      <td>2001</td>\n",
       "      <td>True</td>\n",
       "      <td>2001</td>\n",
       "      <td>True</td>\n",
       "      <td>gas</td>\n",
       "      <td>1035.0</td>\n",
       "      <td>10720650.0</td>\n",
       "    </tr>\n",
       "  </tbody>\n",
       "</table>\n",
       "<p>3440 rows × 14 columns</p>\n",
       "</div>"
      ],
      "text/plain": [
       "       report_year plant_id_pudl utility_id_ferc1      plant_name_ferc1  \\\n",
       "6             1994            32                2                 barry   \n",
       "7             1994           108                2             chickasaw   \n",
       "8             1994           178                2   e. c. gaston-unit 5   \n",
       "11            1994         11538                2   resondent's portion   \n",
       "14            1994          8470                2  respondent's portion   \n",
       "...            ...           ...              ...                   ...   \n",
       "29244         2019           413               22        nesbitt unit 1   \n",
       "29250         2019           581               22               teche 4   \n",
       "29254         2019           261              227                hersey   \n",
       "29256         2019            80              227               burnips   \n",
       "29267         2019           560               51     sl combined cycle   \n",
       "\n",
       "                plant_type technology_description same_tech  \\\n",
       "6                    steam                    NaN       NaN   \n",
       "7                    steam                    NaN       NaN   \n",
       "8                    steam                    NaN       NaN   \n",
       "11                 unknown                    NaN       NaN   \n",
       "14                 unknown                    NaN       NaN   \n",
       "...                    ...                    ...       ...   \n",
       "29244                steam                    NaN       NaN   \n",
       "29250  internal_combustion                    NaN       NaN   \n",
       "29254   combustion_turbine                    NaN       NaN   \n",
       "29256   combustion_turbine                    NaN       NaN   \n",
       "29267       combined_cycle                    NaN       NaN   \n",
       "\n",
       "       construction_year  retired_unit  installation_year  new_unit  \\\n",
       "6                   1954         False               1971     False   \n",
       "7                   1941         False               1951     False   \n",
       "8                   1974         False               1974     False   \n",
       "11                  <NA>         False               <NA>     False   \n",
       "14                  <NA>         False               <NA>     False   \n",
       "...                  ...           ...                ...       ...   \n",
       "29244               1975         False               1975     False   \n",
       "29250               2011          True               2011      True   \n",
       "29254               1947         False               2000      True   \n",
       "29256               1937         False               2001      True   \n",
       "29267               2001          True               2001      True   \n",
       "\n",
       "      fuel_type_code_pudl_ferc  fuel_avg_heat_raw  fuel_qty_burned  \n",
       "6                         coal            11975.0        3739484.0  \n",
       "7                          gas                1.0          40533.0  \n",
       "8                         coal            11961.0        2124933.0  \n",
       "11                        coal            12420.0        5372133.0  \n",
       "14                        coal            12145.0         817520.0  \n",
       "...                        ...                ...              ...  \n",
       "29244                      gas          1016842.0        6009634.0  \n",
       "29250                      gas          1077809.0          10504.0  \n",
       "29254                      gas             1057.0         267483.0  \n",
       "29256                      gas             1064.0          37529.0  \n",
       "29267                      gas             1035.0       10720650.0  \n",
       "\n",
       "[3440 rows x 14 columns]"
      ]
     },
     "execution_count": 607,
     "metadata": {},
     "output_type": "execute_result"
    }
   ],
   "source": [
    "hr_merge[(hr_merge['same_tech'].isna()) & (hr_merge['fuel_avg_heat_raw'].notna())]"
   ]
  },
  {
   "cell_type": "code",
   "execution_count": 642,
   "id": "commercial-bennett",
   "metadata": {},
   "outputs": [
    {
     "name": "stdout",
     "output_type": "stream",
     "text": [
      "Conventional Steam Coal : 58 median heat rate 8683.5\n",
      "Municipal Solid Waste : 6 median heat rate 1020000.0\n",
      "Natural Gas Fired Combined Cycle : 254 median heat rate 1020459.0\n",
      "Natural Gas Fired Combustion Turbine : 377 median heat rate 1030.0\n",
      "Natural Gas Internal Combustion Engine : 11 median heat rate 1020000.0\n",
      "Natural Gas Steam Turbine : 63 median heat rate 1015113.0\n",
      "Nuclear : 84 median heat rate 111765.0\n",
      "Petroleum Liquids : 241 median heat rate 137133.0\n"
     ]
    },
    {
     "data": {
      "image/png": "[encoded data removed]",
      "text/plain": [
       "<Figure size 2250x2250 with 8 Axes>"
      ]
     },
     "metadata": {
      "needs_background": "light"
     },
     "output_type": "display_data"
    }
   ],
   "source": [
    "## looking into ploting heat rate to see if there are any reasonable assumptions to be made here like before\n",
    "grouped = hr_merge4.groupby(['technology_description'])['fuel_avg_heat_raw']\n",
    "\n",
    "ncols=2\n",
    "nrows = int(np.ceil(grouped.ngroups/ncols))\n",
    "\n",
    "fig, axes = plt.subplots(nrows=nrows, ncols=ncols, figsize=(30,30), sharey=False)\n",
    "\n",
    "for (key, ax) in zip(grouped.groups.keys(), axes.flatten()):\n",
    "    print (key, ':', len(grouped.get_group(key)), 'median heat rate', grouped.get_group(key).median())\n",
    "    ax.title.set_text(key)\n",
    "    grouped.get_group(key).plot(ax=ax, kind='kde')\n",
    "\n",
    "ax.legend()\n",
    "plt.show()\n",
    "\n",
    "#grouped.apply(lambda x: x.plot.kde())"
   ]
  },
  {
   "cell_type": "code",
   "execution_count": 582,
   "id": "binding-standing",
   "metadata": {},
   "outputs": [
    {
     "data": {
      "text/plain": [
       "<AxesSubplot:ylabel='Density'>"
      ]
     },
     "execution_count": 582,
     "metadata": {},
     "output_type": "execute_result"
    },
    {
     "data": {
      "image/png": "[encoded data removed]",
      "text/plain": [
       "<Figure size 450x300 with 1 Axes>"
      ]
     },
     "metadata": {
      "needs_background": "light"
     },
     "output_type": "display_data"
    }
   ],
   "source": [
    "cc = hr_merge2[hr_merge2['technology_description'].isin(['Conventional Steam Coal'])] #.reset_index()\n",
    "cc[cc['fuel_avg_heat_raw'].notna()]['fuel_avg_heat_raw'].plot.kde()"
   ]
  },
  {
   "cell_type": "code",
   "execution_count": 567,
   "id": "charitable-percentage",
   "metadata": {},
   "outputs": [
    {
     "data": {
      "text/plain": [
       "<AxesSubplot:ylabel='Density'>"
      ]
     },
     "execution_count": 567,
     "metadata": {},
     "output_type": "execute_result"
    },
    {
     "data": {
      "image/png": "[encoded data removed]",
      "text/plain": [
       "<Figure size 450x300 with 1 Axes>"
      ]
     },
     "metadata": {
      "needs_background": "light"
     },
     "output_type": "display_data"
    }
   ],
   "source": [
    "gg = cc.groupby(['technology_description'])['fuel_avg_heat_raw']\n",
    "cc['fuel_avg_heat_raw'].plot(kind='kde')"
   ]
  },
  {
   "cell_type": "code",
   "execution_count": 491,
   "id": "fleet-passport",
   "metadata": {},
   "outputs": [
    {
     "data": {
      "text/plain": [
       "dict_keys(['Conventional Hydroelectric', 'Conventional Steam Coal', 'Geothermal', 'Landfill Gas', 'Municipal Solid Waste', 'Natural Gas Fired Combined Cycle', 'Natural Gas Fired Combustion Turbine', 'Natural Gas Internal Combustion Engine', 'Natural Gas Steam Turbine', 'Nuclear', 'Onshore Wind Turbine', 'Petroleum Liquids', 'Solar Photovoltaic', 'Wood/Wood Waste Biomass'])"
      ]
     },
     "execution_count": 491,
     "metadata": {},
     "output_type": "execute_result"
    }
   ],
   "source": [
    "grouped.groups.keys()"
   ]
  },
  {
   "cell_type": "markdown",
   "id": "productive-absorption",
   "metadata": {},
   "source": [
    "#### Investigate Sub-Plant totals"
   ]
  },
  {
   "cell_type": "code",
   "execution_count": 280,
   "id": "japanese-humanitarian",
   "metadata": {},
   "outputs": [
    {
     "data": {
      "text/plain": [
       "array([623, 410, 556, 525])"
      ]
     },
     "execution_count": 280,
     "metadata": {},
     "output_type": "execute_result"
    }
   ],
   "source": [
    "z_util_list = flagged_steam[flagged_steam['total_type'].isin(['utility owned subtotal', 'unit total'])]['utility_id_ferc1'].unique().tolist()\n",
    "z_plant_list = flagged_steam[flagged_steam['total_type'].isin(['utility owned subtotal', 'unit total'])]['plant_id_pudl'].unique().tolist()\n",
    "\n",
    "test = flagged_steam[(flagged_steam['utility_id_ferc1'].isin(z_util_list)) & (flagged_steam['plant_id_pudl'].isin(z_plant_list))]\n",
    "test\n",
    "\n",
    "flagged_steam[flagged_steam['total_type'].isin(['utility owned subtotal'])]['plant_id_pudl'].unique()"
   ]
  },
  {
   "cell_type": "code",
   "execution_count": 111,
   "id": "forced-paris",
   "metadata": {},
   "outputs": [],
   "source": [
    "# If the non totals have an NA value and the totals rows don't have an NA value then we want to know\n",
    "dd = pd.DataFrame()\n",
    "def check_unit_totals(df):\n",
    "    non_tot = df[df['total_type'].isna()].drop(['total_type'], axis=1)\n",
    "    tot = df[df['total_type'].notna()].drop(['total_type'], axis=1)\n",
    "    \n",
    "    non_tot_some_na = non_tot.isna().any()\n",
    "    tot_some_values = tot.notna().any()\n",
    "    \n",
    "    dependencies = non_tot_some_na & tot_some_values\n",
    "    \n",
    "    if dependencies.any():\n",
    "        print(list(df['report_year'].unique()))\n",
    "        print(dependencies.where(dependencies).dropna())\n",
    "        return(dependencies.where(dependencies))"
   ]
  },
  {
   "cell_type": "code",
   "execution_count": 209,
   "id": "crazy-simulation",
   "metadata": {},
   "outputs": [],
   "source": [
    "z = flagged_steam[(flagged_steam['plant_id_pudl'].isin([295]))]\n",
    "#test = z[z['plant_name_ferc1'].str.contains('1|2')]\n",
    "#test = test[~test['plant_type'].isin(['combined_cycle'])]\n",
    "#test = test[~test['plant_name_ferc1'].str.contains('100' and '1&')]\n",
    "#dff = test.groupby(['report_year']).apply(lambda x: check_unit_totals(x))\n",
    "#dff.to_excel('/Users/aesharpe/Desktop/pudl_id_525.xlsx')\n",
    "#z[z['report_year'].isin(range(2009,2011))].sort_values(['report_year'])[test_view + ['total_type']]\n",
    "#flagged_steam[flagged_steam['plant_name_ferc1'].str.contains('weston')].plant_id_pudl.unique()\n",
    "#flagged_steam[flagged_steam['plant_id_pudl']==7887][test_view]"
   ]
  },
  {
   "cell_type": "markdown",
   "id": "appreciated-retro",
   "metadata": {},
   "source": [
    "## Custom aggregation based on the presense of nulls and/or totals rows"
   ]
  },
  {
   "cell_type": "markdown",
   "id": "internal-wrapping",
   "metadata": {},
   "source": [
    "#### Test Cases"
   ]
  },
  {
   "cell_type": "code",
   "execution_count": 212,
   "id": "coated-leave",
   "metadata": {
    "jupyter": {
     "source_hidden": true
    }
   },
   "outputs": [],
   "source": [
    "test1_df = flagged_steam[(flagged_steam['plant_id_pudl']==123) & (flagged_steam['report_year'].isin(range(1994,1995)))]\n",
    "df1 = test1_df[basic_view + ['capex_total', 'avg_num_employees']].copy()\n",
    "\n",
    "test2_df = flagged_steam[(flagged_steam['plant_id_pudl']==2281) & (flagged_steam['report_year'].isin(range(1994,1995)))]\n",
    "df2 = test2_df[basic_view + ['capex_total', 'avg_num_employees']].copy()\n",
    "\n",
    "test3_df = flagged_steam[(flagged_steam['plant_id_pudl']==288) & (flagged_steam['report_year'].isin(range(1994,1995)))]\n",
    "df3 = test3_df[basic_view + ['capex_total', 'avg_num_employees']]"
   ]
  },
  {
   "cell_type": "markdown",
   "id": "agreed-freight",
   "metadata": {},
   "source": [
    "#### Functions"
   ]
  },
  {
   "cell_type": "code",
   "execution_count": 240,
   "id": "failing-concentration",
   "metadata": {
    "jupyter": {
     "source_hidden": true
    }
   },
   "outputs": [],
   "source": [
    "# DOUBLE CHECK THE ORDER \n",
    "\n",
    "def agg_n_flag(flag_df, agg_col):\n",
    "    \"\"\"Aggregate specified column and create flag column based on total rows.\n",
    "    \n",
    "    \"\"\"\n",
    "    # If all non-ttl rows have values and there are more than 0 just add 'em up\n",
    "    if (flag_df.loc[flag_df['total_type'].isna()][agg_col].notna().all()) & (len(flag_df.loc[flag_df['total_type'].isna()]) > 0): \n",
    "        flag = 'actual values provided--no need for totals'#None\n",
    "        agg_value = flag_df.loc[flag_df['total_type'].isna()][agg_col].sum()\n",
    "        return [agg_value, flag]\n",
    "    \n",
    "    # If there aren't any total rows, just take the sum cuz that's all you can do\n",
    "    elif flag_df['total_type'].isna().all():\n",
    "        flag = 'no total rows' #None\n",
    "        agg_value = flag_df[agg_col].sum()\n",
    "        return [agg_value, flag]\n",
    "    \n",
    "    # Now there ARE total rows and there ARE value rows with NA:\n",
    "    # If the total rows are all NA for the agg col, just take the sum cuz that's all you can do\n",
    "    elif flag_df[flag_df['total_type'].notna()][agg_col].isna().all():\n",
    "        flag = 'totals are NA'\n",
    "        agg_value = flag_df[agg_col].sum()\n",
    "        return [agg_value, flag]\n",
    "    \n",
    "    # If there are only total rows there's probably an issue with plant/fuel type mapping\n",
    "    elif flag_df['total_type'].notna().all():\n",
    "        flag = 'all rows only totals...'\n",
    "        agg_value = flag_df[agg_col].sum() # FIX \n",
    "        return [agg_value, flag]\n",
    "    \n",
    "    # If non-total value cols are all NA (and by default there are total rows with values):....FIX\n",
    "    elif flag_df[flag_df['total_type'].isna()][agg_col].isna().all():\n",
    "        flag = flag_df[flag_df[agg_col].notna()]['total_type'].unique()[0] # this might be bad...\n",
    "        agg_value = flag_df[flag_df['total_type'].notna()][agg_col].sum()\n",
    "        return [agg_value, flag]\n",
    "\n",
    "    # If some non-total value cols are NA but not all (and by default there are total rows with values):\n",
    "    else:\n",
    "        flag = 'some values are NA but not all'\n",
    "        agg_value = flag_df[agg_col].sum() # FIX\n",
    "        return [agg_value, flag]"
   ]
  },
  {
   "cell_type": "code",
   "execution_count": 241,
   "id": "driving-diagnosis",
   "metadata": {
    "jupyter": {
     "source_hidden": true
    }
   },
   "outputs": [],
   "source": [
    "def run_the_thing(df, agg_col):\n",
    "    print(f'starting aggregation for {agg_col}')\n",
    "    plant_group = df.groupby(['report_year', 'utility_id_ferc1', 'plant_id_pudl', 'primary_fuel', 'plant_type'])\n",
    "    col_agg_series = plant_group.apply(lambda x: agg_n_flag(x, agg_col))\n",
    "    col_agg_df = pd.DataFrame(col_agg_series).reset_index()\n",
    "    col_agg_df[[agg_col, f'{agg_col}_flag']] = pd.DataFrame(col_agg_df[0].tolist(), index=col_agg_df.index)\n",
    "    col_agg_df = col_agg_df.drop(columns=[0])\n",
    "    \n",
    "    util_agg_df = (\n",
    "        col_agg_df.groupby(['report_year', 'utility_id_ferc1', 'primary_fuel', 'plant_type'])\n",
    "        .agg({agg_col: 'sum', f'{agg_col}_flag': lambda x: ', '.join(list(x.dropna().unique()))})\n",
    "    )\n",
    "    return util_agg_df"
   ]
  },
  {
   "cell_type": "code",
   "execution_count": 242,
   "id": "ready-questionnaire",
   "metadata": {
    "jupyter": {
     "source_hidden": true
    }
   },
   "outputs": [],
   "source": [
    "def run_the_whole_thing(df):\n",
    "    agg_df = pd.DataFrame(columns=['report_year', 'utility_id_ferc1', 'primary_fuel', 'plant_type'])\n",
    "    for col in value_cols:\n",
    "        one_col_df = run_the_thing(df, col)\n",
    "        #df_list.append(one_col_df)\n",
    "        agg_df = pd.merge(agg_df, one_col_df, on=['report_year', 'utility_id_ferc1', 'primary_fuel', 'plant_type'], how='outer')\n",
    "    return agg_df"
   ]
  },
  {
   "cell_type": "code",
   "execution_count": 243,
   "id": "cardiac-faith",
   "metadata": {},
   "outputs": [
    {
     "name": "stdout",
     "output_type": "stream",
     "text": [
      "starting aggregation for net_generation_mwh\n",
      "starting aggregation for avg_num_employees\n",
      "starting aggregation for capex_land\n",
      "starting aggregation for capex_equipment\n",
      "starting aggregation for capex_structures\n",
      "starting aggregation for capex_total\n",
      "starting aggregation for asset_retirement_cost\n",
      "starting aggregation for opex_operations\n",
      "starting aggregation for opex_fuel\n",
      "starting aggregation for opex_coolants\n",
      "starting aggregation for opex_steam\n",
      "starting aggregation for opex_steam_other\n",
      "starting aggregation for opex_transfer\n",
      "starting aggregation for opex_electric\n",
      "starting aggregation for opex_misc_power\n",
      "starting aggregation for opex_rents\n",
      "starting aggregation for opex_allowances\n",
      "starting aggregation for opex_engineering\n",
      "starting aggregation for opex_structures\n",
      "starting aggregation for opex_boiler\n",
      "starting aggregation for opex_plants\n",
      "starting aggregation for opex_misc_steam\n",
      "starting aggregation for opex_production_total\n",
      "starting aggregation for capacity_mw\n"
     ]
    }
   ],
   "source": [
    "whole_enchilada = run_the_whole_thing(flagged_steam)"
   ]
  },
  {
   "cell_type": "code",
   "execution_count": 244,
   "id": "agricultural-content",
   "metadata": {},
   "outputs": [],
   "source": [
    "whole_enchilada.to_excel('/Users/aesharpe/Desktop/util_fuel_steam2.xlsx')"
   ]
  },
  {
   "cell_type": "code",
   "execution_count": 920,
   "id": "talented-murder",
   "metadata": {},
   "outputs": [
    {
     "data": {
      "text/plain": [
       "<AxesSubplot:>"
      ]
     },
     "execution_count": 920,
     "metadata": {},
     "output_type": "execute_result"
    },
    {
     "data": {
      "image/png": "[encoded data removed]",
      "text/plain": [
       "<Figure size 450x300 with 1 Axes>"
      ]
     },
     "metadata": {
      "needs_background": "light"
     },
     "output_type": "display_data"
    }
   ],
   "source": [
    "col_agg_df = col_agg_df.sort_values('plant_id_pudl')\n",
    "#col_agg_df[col_agg_df['capex_total_flag'].str.contains('some values are NA but not all')]\n",
    "\n",
    "import matplotlib.pyplot as plt\n",
    "\n",
    "fig, ax = plt.subplots()\n",
    "col_agg_df['capex_total_flag'].value_counts().plot(ax=ax, kind='bar')"
   ]
  },
  {
   "cell_type": "markdown",
   "id": "ancient-flash",
   "metadata": {},
   "source": [
    "### Leftovers"
   ]
  },
  {
   "cell_type": "code",
   "execution_count": null,
   "id": "located-brooks",
   "metadata": {
    "jupyter": {
     "source_hidden": true
    }
   },
   "outputs": [],
   "source": [
    "# Leftover net generation calculation stuff\n",
    "\n",
    "# Combine fuel type from 860 with net generation from 923 to get fuel type and net generation\n",
    "net_gen_fuel = (\n",
    "    pd.merge(gens, net_gen[eia_merge_cols+['net_generation_mwh']], on=eia_merge_cols, how='outer')\n",
    "    .assign(\n",
    "        # Get plant net generation sums\n",
    "        plant_net_gen=lambda x: (\n",
    "            x.groupby(['report_date', 'plant_id_pudl']).net_generation_mwh.transform('sum')),\n",
    "        # Calculate the portion of net generation that each row is responsible for\n",
    "        gen_pct=lambda x: (\n",
    "            x.net_generation_mwh / x.plant_net_gen * 100)\n",
    "    )\n",
    ")\n",
    "\n",
    "# Calculate the sum portion of net generation attributable to each fuel type \n",
    "net_gen_fuel_sum = (\n",
    "    net_gen_fuel.groupby(['report_date', 'plant_id_pudl', 'fuel_type_code_pudl'])['gen_pct']\n",
    "    .sum()\n",
    "    .reset_index()\n",
    "    # Create flag to distinguish between rows that have more than one fuel (duplicates)\n",
    "    .assign(dup=lambda x: x.duplicated(subset=['report_date', 'plant_id_pudl'], keep=False))\n",
    ")\n",
    "\n",
    "# Keep rows with only one fuel\n",
    "one_fuel_eia = (\n",
    "    net_gen_fuel_sum[~net_gen_fuel_sum['dup']].copy()\n",
    "    .rename(columns={'fuel_type_code_pudl': 'primary_fuel_type_eia'})\n",
    "    .assign(\n",
    "        report_year=lambda x: x.report_date.dt.year,\n",
    "        primary_fuel_type_eia=lambda x: x.primary_fuel_type_eia.replace({'':np.nan, 'unknown': np.nan, 'other': np.nan}))\n",
    "    .drop(['report_date', 'gen_pct', 'dup'], axis=1)\n",
    ")\n",
    "\n",
    "# Combine steam table with EIA plant primary fuel type table, add flag to note fuel type location\n",
    "steam3 = (\n",
    "    pd.merge(steam2, one_fuel_eia, on=['report_year', 'plant_id_pudl'], how='left')\n",
    "    .pipe(_add_new_fuel_and_flag, 'primary_fuel_type_eia', flag3)\n",
    "    .pipe(_check_flags)\n",
    ")"
   ]
  },
  {
   "cell_type": "code",
   "execution_count": null,
   "id": "provincial-corruption",
   "metadata": {
    "jupyter": {
     "source_hidden": true
    }
   },
   "outputs": [],
   "source": [
    "# NOT USED\n",
    "def compare_totals(flag_df, comp_col):\n",
    "    \"\"\"Sum non-total utility-plant reported values and compare to reported totals when applicable.\n",
    "    \n",
    "    This function takes in a DataFrame and calculates the sum value for both the plant and utility-plant\n",
    "    groups on an annual basis and compares them with any reported totals. First, this function calculates\n",
    "    group totals by excluding any rows flagged as totals or extraneous in the total_types row (i.e.:\n",
    "    total_type.isna()). Then, it separates the DataFrame into two small DataFrames representing all\n",
    "    the utility owned total rows and all of the plant total rows reported and flagged. Next, it\n",
    "    compares the calculated group total against the reported group total and outputs a True/False\n",
    "    boolean. The boolean flags from these small table comparisons are then subsumed into the larger \n",
    "    DataBase under the column names: utility_owned_total_flag and plant_total_flag.\n",
    "    \n",
    "    These columns will show users where there might be a reporting discrepancy and allows them to\n",
    "    choose which value they might want to reply on for further calculation. This flag is not yet\n",
    "    incorporated into the aggregation function below, but it could be!\n",
    "    \n",
    "    \"\"\"\n",
    "    def sum_no_totals(df, col):\n",
    "        no_totals_df = df.loc[df['total_type'].isna()]\n",
    "        return no_totals_df[col].sum()\n",
    "\n",
    "    # Groupby utility-plant and plant\n",
    "    plant_util_groups = flag_df.groupby(['report_year', 'utility_id_ferc1', 'plant_id_pudl'])\n",
    "    plant_groups = flag_df.groupby(['report_year', 'plant_id_pudl'])\n",
    "\n",
    "    # Get the sum of the values in each group that are not totals\n",
    "    plant_util_total_series = plant_util_groups.apply(lambda x: sum_no_totals(x, comp_col))\n",
    "    plant_total_series = plant_groups.apply(lambda x: sum_no_totals(x, comp_col))\n",
    "\n",
    "    # Take that series of sums, reset the index, and give the sum column an informative name\n",
    "    util_plant_df = pd.DataFrame(plant_util_total_series).reset_index().rename(columns={0:'plant_util_total'})\n",
    "    plant_df = pd.DataFrame(plant_total_series).reset_index().rename(columns={0:'plant_total'})\n",
    "\n",
    "    # Merge the two sum columns together on utility-plant\n",
    "    df = pd.merge(plant_df, util_plant_df, on=['report_year', 'plant_id_pudl'], how='outer')\n",
    "    comp_totals = pd.merge(flag_df, df, on=['report_year', 'utility_id_ferc1', 'plant_id_pudl'], how='outer')\n",
    "    \n",
    "    # Get slices of the dataframe that represent the utility owned total rows and the plant total rows to compare with calculated totals\n",
    "    util_ot = comp_totals[comp_totals['total_type']=='utility owned total'].copy()\n",
    "    plant_ot = comp_totals[comp_totals['total_type']=='plant total'].copy()\n",
    "\n",
    "    # For each dataframe, flag whether the sum of the components (calculated above) equals the reported total\n",
    "    # Could make this a little more flexible (+/- 1)\n",
    "    util_ot['utility_owned_total_flag'] = np.where(util_ot['capacity_mw'] == util_ot['plant_util_total'], True, False)\n",
    "    plant_ot['plant_total_flag'] = np.where(plant_ot['capacity_mw'] == plant_ot['plant_total'], True, False)\n",
    "    \n",
    "    # Create blank columns in the original dataframe\n",
    "    comp_totals[f'{comp_col}_utility_owned_total_flag'] = None\n",
    "    comp_totals[f'{comp_col}_plant_total_flag'] = None\n",
    "\n",
    "    # Update those blank columns so that the True/False values from the prior calculations are added to the correct column\n",
    "    comp_totals[f'{comp_col}_utility_owned_total_flag'].update(util_ot['utility_owned_total_flag'])\n",
    "    comp_totals[f'{comp_col}_plant_total_flag'].update(plant_ot['plant_total_flag'])\n",
    "\n",
    "    return comp_totals"
   ]
  },
  {
   "cell_type": "code",
   "execution_count": null,
   "id": "communist-orlando",
   "metadata": {
    "jupyter": {
     "source_hidden": true
    }
   },
   "outputs": [],
   "source": [
    "def col_aggregator(flag_df, agg_col):\n",
    "    \"\"\"\n",
    "    Remove total rows from aggregation; use when there are nulls present in non-total rows. \n",
    "    \n",
    "    This function looks at a table grouped by year, utility, and plant and determines whether to use any of the\n",
    "    information from the total rows in an aggregation based on the column agg_col specified as a parameter.\n",
    "    If there are no total rows, this function simply takes the sum of each group. If there are totals rows, \n",
    "    this function first looks to see if there is a utility owned total reported and then looks to see if there is\n",
    "    a plant total reported.\n",
    "    \n",
    "    The different agg flags are:\n",
    "    \n",
    "    * plant total: pudl plant totals where the plant is owned by more than one utility.\n",
    "    * utility owned total: all of the assets owned by a utility\n",
    "    * utility owned plant total: a utility's owned portion of a pudl plant\n",
    "    * utility owned plant total steam: all of the utility's steam assets within a given pudl plant\n",
    "    * utility owned subtotal: the sum of several units within a pudl plant owned by one utility\n",
    "    * unit total: the sum of a co-owned unit (sub-pudl plant id)\n",
    "    \n",
    "    If the aggregation must resort to using a total row, a flag is created and returned alongside the aggregated value.\n",
    "    These values will later get split apart and set as seperate columns (in the build_col_agg_df function).\n",
    "    \n",
    "    Args: \n",
    "        df (pandas.DataFrame): A flagged version of the cleaned ferc1_steam table with the column name 'total_type'\n",
    "            specifying wither it is a utility owned total, unit total, or plant total.\n",
    "        agg_col (str): The name of the column you'd like to aggregate by.\n",
    "    \n",
    "    \"\"\"\n",
    "    \n",
    "    if flag_df.loc[flag_df['total_type'].isna()][agg_col].notna().all() & len(flag_df.loc[flag_df['total_type'].isna()]) > 0: \n",
    "        flag = None\n",
    "        agg_value = flag_df.loc[flag_df['total_type'].isna()][agg_col].sum()\n",
    "        return [agg_value, flag]\n",
    "    elif flag_df['total_type'].str.contains('plant total').any() & flag_df.loc[flag_df['total_type']=='plant total'][agg_col].notna().all():\n",
    "            flag = 'used plant total pertains to more than one utility'\n",
    "            agg_value = flag_df.loc[flag_df['total_type']=='plant total'][agg_col].unique()[0]\n",
    "            return [agg_value, flag]\n",
    "    else:\n",
    "        if flag_df['total_type'].str.contains('utility owned plant total').any() & flag_df.loc[flag_df['total_type']=='utility owned total'][agg_col].notna().all():\n",
    "            flag = None  # 'used utility owned plant total'\n",
    "            agg_value = flag_df.loc[flag_df['total_type']=='utility owned plant total'][agg_col].unique()[0]\n",
    "            return [agg_value, flag]\n",
    "        elif flag_df.loc[flag_df['total_type'].str.contains('utility owned plant total steam')].any() & flag_df.loc[flag_df['plant_type']=='steam'][agg_col].notna().all():\n",
    "            flag = None  # 'used utility owned plant total steam'\n",
    "            agg_value = flag_df.loc[flag_df['total_type'] == 'utility owned plant total steam'][agg_col].unique()[0]\n",
    "        elif flag_df.loc[flag_df['total_type'].isna()][agg_col].isna().all():\n",
    "            flag = None\n",
    "            agg_value = np.nan\n",
    "            return [agg_value, flag]\n",
    "        else:\n",
    "            flag = 'aggregated with some null values'\n",
    "            agg_value = flag_df.loc[flag_df['total_type'].isna()][agg_col].sum()\n",
    "            return [agg_value, flag]"
   ]
  },
  {
   "cell_type": "code",
   "execution_count": null,
   "id": "fourth-beaver",
   "metadata": {
    "jupyter": {
     "source_hidden": true
    }
   },
   "outputs": [],
   "source": [
    "def build_col_agg_df(flag_df, agg_col):\n",
    "    \"\"\"Sort by field level.\n",
    "    \n",
    "    This function creates a mini aggregated dataframe based on a column specified in the parameters. \n",
    "    It runs the col_aggregator function so that the aggregations exclude total values unless there are\n",
    "    gaps in the subcomponents--in which case it will first try and use a reported utility total and \n",
    "    then a plant total. The col_aggregator function returns both the aggregated value and flag to\n",
    "    indicate whether it was aggregated based on a value from one of the total rows. This function turns\n",
    "    the value and the flag (returned as a list within one column) to seperate columns.\n",
    "    \n",
    "    These column-based data aggregations can later be merged to form one large data aggregation column.\n",
    "    \n",
    "    Args: \n",
    "        df (pandas.DataFrame): A DataFrame....\n",
    "        agg_col (str): The name of the column you'd like to aggregate by.\n",
    "    Returns:\n",
    "        pandas.DataFrame: A DataFrame with rows selected based on priority.\n",
    "    \n",
    "    \"\"\"\n",
    "\n",
    "    plant_util_group = flag_df.groupby(['report_year', 'utility_id_ferc1', 'plant_id_pudl', 'primary_fuel', 'plant_type'])\n",
    "    col_agg_series = plant_util_group.apply(lambda x: col_aggregator(x, agg_col))\n",
    "    col_agg_df = pd.DataFrame(col_agg_series).reset_index()\n",
    "    col_agg_df[[agg_col, f'{agg_col}_flag']] = pd.DataFrame(col_agg_df[0].tolist(), index=col_agg_df.index)\n",
    "    col_agg_df = col_agg_df.drop(columns=[0])\n",
    "    \n",
    "    def combine_flags(ser):\n",
    "        if ser.isna().all():\n",
    "            return None\n",
    "        else:\n",
    "            return ', '.join([flag for flag in ser.unique() if flag != None])\n",
    "\n",
    "    #Group by utility and fuel type\n",
    "    util_fuel_df = (\n",
    "        col_agg_df\n",
    "        .groupby(['report_year', 'utility_id_ferc1', 'primary_fuel'])\n",
    "        .agg({agg_col: 'sum',\n",
    "              f'{agg_col}_flag': lambda x: combine_flags(x)})\n",
    "        .reset_index()\n",
    "    )\n",
    "    \n",
    "    return util_fuel_df"
   ]
  },
  {
   "cell_type": "code",
   "execution_count": null,
   "id": "incident-immune",
   "metadata": {
    "jupyter": {
     "source_hidden": true
    }
   },
   "outputs": [],
   "source": [
    "def aggregate_all_columns(df, col_list):\n",
    "    agg_df = pd.DataFrame(columns=['report_year', 'utility_id_ferc1', 'primary_fuel'])\n",
    "    for col in col_list:\n",
    "        col_df = build_col_agg_df(df, col)\n",
    "        agg_df = pd.merge(agg_df, col_df, on=['report_year', 'utility_id_ferc1', 'primary_fuel'], how='outer')\n",
    "    return agg_df"
   ]
  }
 ],
 "metadata": {
  "kernelspec": {
   "display_name": "Python 3",
   "language": "python",
   "name": "python3"
  },
  "language_info": {
   "codemirror_mode": {
    "name": "ipython",
    "version": 3
   },
   "file_extension": ".py",
   "mimetype": "text/x-python",
   "name": "python",
   "nbconvert_exporter": "python",
   "pygments_lexer": "ipython3",
   "version": "3.8.6"
  }
 },
 "nbformat": 4,
 "nbformat_minor": 5
}

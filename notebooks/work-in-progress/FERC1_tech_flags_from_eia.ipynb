{
 "cells": [
  {
   "cell_type": "markdown",
   "id": "general-interval",
   "metadata": {},
   "source": [
    "# **Create a Technology Type Column for FERC Steam Table**\n",
    "---------------"
   ]
  },
  {
   "cell_type": "markdown",
   "id": "11d448bf-131c-4983-8942-0478df40e739",
   "metadata": {
    "tags": []
   },
   "source": [
    "## Setup"
   ]
  },
  {
   "cell_type": "code",
   "execution_count": 1,
   "id": "complete-relaxation",
   "metadata": {
    "jupyter": {
     "source_hidden": true
    },
    "tags": []
   },
   "outputs": [],
   "source": [
    "%load_ext autoreload\n",
    "%autoreload 2"
   ]
  },
  {
   "cell_type": "code",
   "execution_count": 241,
   "id": "twelve-sucking",
   "metadata": {
    "jupyter": {
     "source_hidden": true
    },
    "tags": []
   },
   "outputs": [],
   "source": [
    "# Standard libraries\n",
    "import logging\n",
    "import sys\n",
    "import os\n",
    "import pathlib\n",
    "import random\n",
    "\n",
    "# 3rd party libraries\n",
    "import geopandas as gpd\n",
    "import dask.dataframe as dd\n",
    "from dask.distributed import Client\n",
    "import matplotlib.pyplot as plt\n",
    "import matplotlib as mpl\n",
    "import numpy as np\n",
    "import pandas as pd\n",
    "import seaborn as sns\n",
    "import sqlalchemy as sa\n",
    "#import pickle\n",
    "\n",
    "# Local libraries\n",
    "import pudl\n",
    "from pudl.analysis.fill_ferc1_fuel_gaps import *\n",
    "from pudl.analysis.flag_ferc1_totals import *\n",
    "\n",
    "# Enable viewing of logging outputs\n",
    "logger=logging.getLogger()\n",
    "logger.setLevel(logging.INFO)\n",
    "handler = logging.StreamHandler(stream=sys.stdout)\n",
    "formatter = logging.Formatter('%(message)s')\n",
    "handler.setFormatter(formatter)\n",
    "logger.handlers = [handler]\n",
    "\n",
    "# Display settings\n",
    "sns.set()\n",
    "%matplotlib inline\n",
    "mpl.rcParams['figure.dpi'] = 75\n",
    "pd.options.display.max_columns = 100\n",
    "pd.options.display.max_rows = 100"
   ]
  },
  {
   "cell_type": "code",
   "execution_count": 3,
   "id": "finished-richardson",
   "metadata": {
    "jupyter": {
     "source_hidden": true
    },
    "tags": []
   },
   "outputs": [],
   "source": [
    "# Establish connection to pudl database\n",
    "pudl_settings = pudl.workspace.setup.get_defaults()\n",
    "pudl_engine = sa.create_engine(pudl_settings['pudl_db'])\n",
    "pudl_out = pudl.output.pudltabl.PudlTabl(\n",
    "    pudl_engine=pudl_engine,\n",
    "    freq='AS'\n",
    ")"
   ]
  },
  {
   "cell_type": "code",
   "execution_count": 4,
   "id": "graduate-warrant",
   "metadata": {
    "jupyter": {
     "source_hidden": true
    },
    "tags": []
   },
   "outputs": [],
   "source": [
    "value_cols_no_cap = [\n",
    "    'net_generation_mwh','avg_num_employees',\n",
    "    'capex_land', 'capex_equipment', 'capex_structures', 'capex_total', 'asset_retirement_cost',\n",
    "    'opex_operations', 'opex_fuel', 'opex_coolants', 'opex_steam', 'opex_steam_other', 'opex_transfer', \n",
    "    'opex_electric', 'opex_misc_power', 'opex_rents', 'opex_allowances', 'opex_engineering', 'opex_structures', \n",
    "    'opex_boiler', 'opex_plants', 'opex_misc_steam', 'opex_production_total'\n",
    "]\n",
    "\n",
    "value_cols = value_cols_no_cap + ['capacity_mw']\n",
    "\n",
    "test_view = ['report_year', 'utility_name_ferc1', 'plant_name_ferc1', 'plant_id_pudl', \n",
    "             'plant_id_ferc1', 'primary_fuel', 'plant_type', \n",
    "             'tech_desc', 'tech_desc_flag','record_id', 'capacity_mw']\n",
    "\n",
    "total_view = test_view + ['total_type']\n",
    "\n",
    "ferc_merge_cols = ['report_year', 'utility_id_ferc1', 'plant_name_ferc1']\n",
    "eia_merge_cols = ['report_date', 'plant_id_pudl', 'generator_id']"
   ]
  },
  {
   "cell_type": "code",
   "execution_count": 5,
   "id": "double-shame",
   "metadata": {
    "jupyter": {
     "source_hidden": true
    },
    "tags": []
   },
   "outputs": [],
   "source": [
    "# Establish table connections\n",
    "steam = pudl_out.plants_steam_ferc1().assign(primary_fuel=np.nan)\n",
    "fbp = pudl_out.fbp_ferc1()\n",
    "fbp_small = fbp[ferc_merge_cols + ['primary_fuel_by_mmbtu']] #, 'primary_fuel_by_cost']]\n",
    "eia = pudl_out.gens_eia860()#.assign(report_year=lambda x: x.report_date.dt.year)\n",
    "small_plants = pudl_out.plants_small_ferc1()#.dropna(subset=['plant_name_ferc1'])\n",
    "eia_one_plant = eia[eia['plant_name_eia'].notna()].drop_duplicates(subset='plant_name_eia').reset_index()\n",
    "small_plants_one_plant = small_plants[small_plants['plant_name_ferc1'].notna()].drop_duplicates(subset='plant_name_ferc1').reset_index()\n",
    "fuel = pudl_out.fuel_ferc1()"
   ]
  },
  {
   "cell_type": "markdown",
   "id": "incorrect-princess",
   "metadata": {},
   "source": [
    "## **1. Generate Tech Descriptions**"
   ]
  },
  {
   "cell_type": "code",
   "execution_count": 172,
   "id": "overall-raise",
   "metadata": {
    "tags": []
   },
   "outputs": [
    {
     "name": "stdout",
     "output_type": "stream",
     "text": [
      "**** ADDING FUEL TYPES ****\n",
      "filling fuels with obvious names\n",
      "26496 / 28518 rows left unfilled\n",
      "filling in primary fuel by mmbtu\n",
      "3429 / 28518 rows left unfilled\n",
      "filling in eia plants with one reported fuel\n",
      "2193 / 28521 rows left unfilled\n",
      "filling in primary fuel by cost\n",
      "1940 / 28521 rows left unfilled\n",
      "filling in raw ferc1 fuels\n",
      "1788 / 28521 rows left unfilled\n",
      "filling in ferc plants with one fuel\n",
      "1058 / 28521 rows left unfilled\n",
      "filling in pudl plants with one fuel\n",
      "959 / 28521 rows left unfilled\n",
      "filling in manually mapped fuels\n",
      "870 / 28521 rows left unfilled\n",
      "front and backfilling values with the same ferc1 id\n",
      "645 / 28521 rows left unfilled\n",
      "flipping single fuel outliers for plant_id_ferc1\n",
      "645 / 28521 rows left unfilled\n",
      "flipping multiple fuel outliers for groups under 7\n",
      "645 / 28521 rows left unfilled\n",
      "**** ADDING PLANT TYPES ****\n",
      "filling plants with obvious names\n",
      "783 / 28521 rows left unfilled\n",
      "filling in manually mapped plant types\n"
     ]
    }
   ],
   "source": [
    "# Add fuel type and update plant type field in FERC\n",
    "fuel_plant_df = (\n",
    "    steam.pipe(impute_fuel_type, pudl_out)\n",
    "    .pipe(impute_plant_type)\n",
    ")"
   ]
  },
  {
   "cell_type": "code",
   "execution_count": 173,
   "id": "educational-apparel",
   "metadata": {
    "tags": []
   },
   "outputs": [
    {
     "name": "stdout",
     "output_type": "stream",
     "text": [
      "**** ADDING TECH TYPES ****\n",
      "merging single-tech EIA technology_description with FERC\n",
      "25500 / 28521 rows left unfilled\n",
      "backfilling EIA technology_description by year if no new units installed\n",
      "15148 / 28521 rows left unfilled\n",
      "combining primary_fuel and plant_type columns\n",
      "713 / 28521 rows left unfilled\n",
      "making uniform tech description col\n"
     ]
    }
   ],
   "source": [
    "# Merge EIA technology description with FERC\n",
    "tech_df = impute_tech_desc(fuel_plant_df, eia)"
   ]
  },
  {
   "cell_type": "markdown",
   "id": "e37f301a-9201-4156-b515-7eb97d336b38",
   "metadata": {},
   "source": [
    "**List of plants to double check:**"
   ]
  },
  {
   "cell_type": "code",
   "execution_count": null,
   "id": "1e6b8e36-a6f5-4543-ba87-151cfd38b61b",
   "metadata": {
    "tags": []
   },
   "outputs": [],
   "source": [
    "# - 241\n",
    "# - 1282 Waterside - not a lot of information on what this is or when it stopped...\n",
    "# - 2259 hunterstown - con-ed petro unclear...capacities don't match what I found online at alll\n",
    "# - 2260 Mountain - another weird con-ed petro plant....no idea\n",
    "# - 1157 Joppa - confusing subunits\n",
    "# - 1149 hopewell there is another hopewell in eia (3335) but the capacity from 1149 matches....:/\n",
    "# - 45 bellmeade - some of it's right some not\n",
    "# - 176 elizabeth river - plant type just wrong\n",
    "# - 1132 gibson city - some weird outlier fuels and plant types\n",
    "# - 488 remington - some solar plants thrown in at the end! need to fix\n",
    "# - 5930 - airport - seems that the primary fuel is right (rather than petro from eia)\n",
    "# - 121 coit - unknown valeus causing a problem\n",
    "# - 1656 --> False is the result of a NA in the construction_year field which should probably be ignored?\n",
    "\n",
    "\n",
    "# - any that are waste\n",
    "# --- 15 Altavista - went from coal to biomass in 2013\n",
    "# --- 646 wilmarth - waste\n",
    "# --- 548 southampton - went from coal to biomass in 2013\n",
    "# --- 517 rothschild - waste\n",
    "# - any that are marked as coal but not coal_steam\n",
    "# - any with a weird fuel flip flop that wasn't accounted for in the fixes\n",
    "# - any plants with more than one technology type"
   ]
  },
  {
   "cell_type": "markdown",
   "id": "95a7baa6-27f1-41f9-b7a3-06d152823877",
   "metadata": {},
   "source": [
    "-----------"
   ]
  },
  {
   "cell_type": "markdown",
   "id": "located-shade",
   "metadata": {},
   "source": [
    "### Test accuracy of fuel + plant type"
   ]
  },
  {
   "cell_type": "code",
   "execution_count": 43,
   "id": "6ce95a23-17e8-444d-91c6-8360ded8a9b6",
   "metadata": {
    "jupyter": {
     "source_hidden": true
    },
    "tags": []
   },
   "outputs": [
    {
     "name": "stdout",
     "output_type": "stream",
     "text": [
      "13174  -- total rows with an eia description\n",
      "10468  -- rows where fuel + plant type matches the eia description\n"
     ]
    }
   ],
   "source": [
    "# grab rows that were already present in eia and make a few tweaks for the analysis\n",
    "tech_df_copy = (\n",
    "    tech_df.loc[tech_df['tech_desc_flag'].isin([\n",
    "        'direct from eia860', 'backfill from eia year', 'backfill from other year'])].copy()\n",
    "    .assign(\n",
    "        primary_fuel=lambda x: x.primary_fuel.replace({'oil': 'petroleum'}, regex=True),\n",
    "        similar_plant=np.nan,\n",
    "        similar_fuel=np.nan))\n",
    "\n",
    "no_null_plant = tech_df_copy['plant_type'].notna()\n",
    "no_null_fuel = tech_df_copy['primary_fuel'].notna()\n",
    "no_null_tech = tech_df_copy['tech_desc_no_map'].notna()\n",
    "\n",
    "mini_plant = (\n",
    "    tech_df_copy[no_null_plant & no_null_tech].copy()\n",
    "    .assign(similar_plant=lambda x: x.apply(lambda x: x.plant_type in x.tech_desc_no_map, axis=1))\n",
    ")\n",
    "\n",
    "mini_fuel = (\n",
    "    tech_df_copy[no_null_fuel & no_null_tech].copy()\n",
    "    .assign(similar_fuel=lambda x: x.apply(lambda x: x.primary_fuel in x.tech_desc_no_map, axis=1))\n",
    ")\n",
    "\n",
    "tech_df_copy.update(mini_plant, overwrite=True)\n",
    "tech_df_copy.update(mini_fuel, overwrite=True)\n",
    "\n",
    "#test2.loc[(test2['similar_plant'].notna()) & (test2['similar_fuel'].notna()), 'similar'] =  \n",
    "tech_df_copy['similar'] = tech_df_copy['similar_plant'] & tech_df_copy['similar_fuel']\n",
    "\n",
    "test = tech_df_copy[no_null_plant & no_null_fuel & no_null_tech].copy()\n",
    "print(len(test), ' -- total rows with an eia description')\n",
    "print(len(test[test['similar']]), ' -- rows where fuel + plant type matches the eia description')"
   ]
  },
  {
   "cell_type": "code",
   "execution_count": 49,
   "id": "vanilla-tender",
   "metadata": {
    "jupyter": {
     "source_hidden": true
    },
    "tags": []
   },
   "outputs": [
    {
     "name": "stdout",
     "output_type": "stream",
     "text": [
      "pudl plants with non-matching fuel+plant and eia technology descriptions:\n",
      "*note that many of these are waste\n"
     ]
    },
    {
     "data": {
      "text/plain": [
       "array([ 242, 1282,  364, 2259, 2260,  283,  647, 1135, 1156,   15, 1148,\n",
       "        549, 2628,  518,  489, 5931, 1525,    5])"
      ]
     },
     "execution_count": 49,
     "metadata": {},
     "output_type": "execute_result"
    }
   ],
   "source": [
    "n1 = test['similar_fuel'] == False\n",
    "n2 = test['similar_plant'] == False\n",
    "\n",
    "print('pudl plants with non-matching fuel+plant and eia technology descriptions:')\n",
    "print('*note that many of these are waste')\n",
    "test[n1 & n2][test_view].plant_id_pudl.astype('int').unique()"
   ]
  },
  {
   "cell_type": "markdown",
   "id": "federal-trustee",
   "metadata": {},
   "source": [
    "### Look at plants that still have more than one technology type"
   ]
  },
  {
   "cell_type": "code",
   "execution_count": null,
   "id": "adjustable-joyce",
   "metadata": {
    "tags": []
   },
   "outputs": [],
   "source": [
    "more_than_one_fuel = tech_df.groupby(['plant_id_pudl']).filter(lambda x: len(x.tech_desc.dropna().unique()) > 1)\n",
    "len(more_than_one_fuel.plant_id_pudl.unique())\n",
    "more_than_one_fuel.plant_id_pudl.unique()"
   ]
  },
  {
   "cell_type": "code",
   "execution_count": 26,
   "id": "incorrect-warrant",
   "metadata": {
    "collapsed": true,
    "jupyter": {
     "outputs_hidden": true,
     "source_hidden": true
    },
    "tags": []
   },
   "outputs": [
    {
     "data": {
      "text/plain": [
       "array([   2,    3,    5,   15,   44,   59,   64,   65,   73,   74,   75,\n",
       "         76,   77,   78,   79,   80,   91,  136,  142,  175,  189,  190,\n",
       "        202,  209,  210,  214,  216,  223,  246,  247,  255,  295,  296,\n",
       "        327,  329,  330,  347,  356,  359,  363,  365,  372,  397,  398,\n",
       "        423,  478,  481,  507,  540,  553,  554,  565,  575,  576,  578,\n",
       "        601,  632,  674,  681,  708,  711,  712,  713,  729,  747,  750,\n",
       "        752,  845,  897,  901,  903,  904,  908,  911,  925,  934,  940,\n",
       "        946,  947,  954,  958,  978, 1009, 1020, 1034, 1056, 1057, 1062,\n",
       "       1078, 1092, 1093, 1094, 1098, 1099, 1104, 1107, 1129, 1139, 1157,\n",
       "       1159, 1160, 1162, 1181, 1191, 1195, 1208, 1215, 1218, 1224, 1235,\n",
       "       1294, 1318, 1332, 1342, 1355, 1356, 1456, 1479, 1484, 1494, 1503,\n",
       "       1532, 1543, 1545, 1554, 1556, 1557, 1605, 1618, 1619, 1623, 1659,\n",
       "       1712, 1723, 1828, 1886])"
      ]
     },
     "execution_count": 26,
     "metadata": {},
     "output_type": "execute_result"
    }
   ],
   "source": [
    "# Look for ferc1 ids that have more than one fuel associated with them\n",
    "more_than_one_fuel = test2.groupby(['plant_id_ferc1']).filter(lambda x: len(x.tech_type.dropna().unique()) > 1)\n",
    "len(more_than_one_fuel.plant_id_ferc1.unique())\n",
    "more_than_one_fuel.plant_id_ferc1.unique().astype('int')"
   ]
  },
  {
   "cell_type": "code",
   "execution_count": 46,
   "id": "strange-coast",
   "metadata": {
    "collapsed": true,
    "jupyter": {
     "outputs_hidden": true,
     "source_hidden": true
    },
    "tags": []
   },
   "outputs": [
    {
     "data": {
      "text/plain": [
       "array([], dtype=int64)"
      ]
     },
     "execution_count": 46,
     "metadata": {},
     "output_type": "execute_result"
    }
   ],
   "source": [
    "# Shows that of the plant_id_ferc1 values with more than one fuel over time, there are none that start\n",
    "# and end with the same fuel type (meaning, hopefully, there are no pockets in the middle.)\n",
    "more_than_one_fuel.sort_values(['report_year'])\n",
    "same_first_last = more_than_one_fuel.groupby(['plant_id_ferc1'])['tech_type'].agg(lambda x: x.max==x.min)\n",
    "more_than_one_fuel['same_first_last'] = more_than_one_fuel.plant_id_ferc1.map(same_first_last)\n",
    "more_than_one_fuel[more_than_one_fuel['same_first_last']][test_view + ['same_first_last']].plant_id_ferc1.unique().astype('int')"
   ]
  },
  {
   "cell_type": "code",
   "execution_count": 66,
   "id": "collective-affairs",
   "metadata": {
    "collapsed": true,
    "jupyter": {
     "outputs_hidden": true,
     "source_hidden": true
    },
    "tags": []
   },
   "outputs": [
    {
     "data": {
      "text/plain": [
       "91"
      ]
     },
     "execution_count": 66,
     "metadata": {},
     "output_type": "execute_result"
    }
   ],
   "source": [
    "dd = test2[(test2['tech_type'].str.contains('coal')) & (test2['tech_type'].str.contains('steam')==False)][test_view + ['tech_type']]\n",
    "len(dd.plant_id_pudl.astype('int').unique())"
   ]
  },
  {
   "cell_type": "markdown",
   "id": "cffec1f4-caeb-4cba-bdf7-f5ee93734d11",
   "metadata": {},
   "source": [
    "## **2. Flag Totals**"
   ]
  },
  {
   "cell_type": "code",
   "execution_count": 174,
   "id": "f5533d8b-2b9b-4ffb-a49f-f2f00e4d522c",
   "metadata": {},
   "outputs": [
    {
     "name": "stdout",
     "output_type": "stream",
     "text": [
      "flagging specific totals\n",
      "adding manual totals\n",
      "backfilling totals by capacity\n"
     ]
    }
   ],
   "source": [
    "flagged_tots_df = flag_totals(tech_df)"
   ]
  },
  {
   "cell_type": "markdown",
   "id": "abb402d4-4024-4e98-8cbe-7acb921e4c2a",
   "metadata": {},
   "source": [
    "#### Total Values:\n",
    "\n",
    "* **plant total:** pudl plant totals where the plant is owned by more than one utility.\n",
    "* **utility owned total:** all of the assets owned by a utility\n",
    "* **utility owned plant total:** a utility's owned portion of a pudl plant\n",
    "* **utility owned plant total steam:** all of the utility's steam assets within a given pudl plant\n",
    "* **utility owned plant total nuclear:** all of the utility's nuclear assets within a given pudl plant\n",
    "* **utility owned subtotal:** the sum of several units within a pudl plant owned by one utility\n",
    "* **utility owned plant extra:** any extra amounts that are associated with a plant\n",
    "* **utility owned extra:** any extra amounts that are associated with all a utility's assets\n",
    "* **unit total:** the sum of a co-owned unit (sub-pudl plant id)"
   ]
  },
  {
   "cell_type": "markdown",
   "id": "4f098bb3-2d6b-4c78-acd1-9b861b4a49cd",
   "metadata": {},
   "source": [
    "### Test total groups"
   ]
  },
  {
   "cell_type": "code",
   "execution_count": null,
   "id": "991105f1-c715-4f1f-98a0-bfe54135da30",
   "metadata": {},
   "outputs": [],
   "source": []
  },
  {
   "cell_type": "code",
   "execution_count": null,
   "id": "eef76ad5-9c9f-46a1-bd74-b768624191ed",
   "metadata": {},
   "outputs": [],
   "source": []
  },
  {
   "cell_type": "code",
   "execution_count": null,
   "id": "8528b596-e86a-41de-8d5b-dec9c64dfb02",
   "metadata": {},
   "outputs": [],
   "source": []
  },
  {
   "cell_type": "code",
   "execution_count": null,
   "id": "9ef7002b-7f31-4db6-bb0f-52280d3b5a34",
   "metadata": {},
   "outputs": [],
   "source": [
    "# plant total \n",
    "# -- compare total values if multiple utilities reporting these totals\n",
    "# -- use total value from one utility for another (if needed)\n"
   ]
  },
  {
   "cell_type": "code",
   "execution_count": 175,
   "id": "d3bfe183-c2e1-431d-923e-99a8efaed268",
   "metadata": {},
   "outputs": [],
   "source": [
    "pudl_id_list = flagged_tots_df[flagged_tots_df['total_type']=='plant total']['plant_id_pudl'].unique().tolist()\n",
    "test_df = flagged_tots_df[flagged_tots_df['plant_id_pudl'].isin(pudl_id_list)]"
   ]
  },
  {
   "cell_type": "code",
   "execution_count": 176,
   "id": "4e9b295e-3a37-455e-b736-2d51da0aa713",
   "metadata": {},
   "outputs": [
    {
     "data": {
      "text/plain": [
       "array([ 288,  250,   16,  451, 1208,  612,  289,  317,  296, 1087,  383,\n",
       "        337,  308, 1665, 1165,  124,  530,  344,  611,  531,  168,  104,\n",
       "        653])"
      ]
     },
     "execution_count": 176,
     "metadata": {},
     "output_type": "execute_result"
    }
   ],
   "source": [
    "test_df.plant_id_pudl.unique()"
   ]
  },
  {
   "cell_type": "code",
   "execution_count": 187,
   "id": "dade039a-2e45-45ab-b858-0b1dd8585472",
   "metadata": {},
   "outputs": [],
   "source": [
    "one_plant = test_df[test_df['plant_id_pudl']==383]\n",
    "test = one_plant.sort_values(['report_year'])[test_view + ['primary_fuel_flag', 'total_type']]"
   ]
  },
  {
   "cell_type": "code",
   "execution_count": null,
   "id": "a8517e66-da5c-4775-b704-157e606c124e",
   "metadata": {},
   "outputs": [],
   "source": [
    "#flagged_tots_df.query(f\"plant_id_pudl=={random.choice(outlier_plants)}\")[test_view]"
   ]
  },
  {
   "cell_type": "markdown",
   "id": "6d233c25-f1eb-4238-9c37-a8db1b177d6b",
   "metadata": {},
   "source": [
    "### Find more fuel rows to flip"
   ]
  },
  {
   "cell_type": "code",
   "execution_count": 516,
   "id": "d6f19fe2-957d-4949-932a-cbb6ba435e5b",
   "metadata": {},
   "outputs": [],
   "source": [
    "# Figure out how to incorporate NANs\n",
    "\n",
    "def show_year_outliers(df):\n",
    "    \"\"\"Check for fuel outliers that are not consistent over multiple years.\n",
    "    \n",
    "    This function displays the problem plants.\n",
    "    \n",
    "    \"\"\"\n",
    "    # Look at the number of fuels in a given year per plant id pudl\n",
    "    fuel_count = (\n",
    "        df.groupby(['report_year', 'plant_id_pudl'])\n",
    "        .apply(lambda x: ', '.join(x.primary_fuel.sort_values().unique()))\n",
    "        .reset_index()\n",
    "        .rename(columns={0: 'unique_fuels'})\n",
    "    )\n",
    "    \n",
    "    # Check how consistent these fuel type totals are across years\n",
    "    fuel_appearances = (\n",
    "        fuel_count.groupby(['plant_id_pudl', 'unique_fuels']).size()\n",
    "        .reset_index()\n",
    "        .rename(columns={0:'fuel_appearances'})\n",
    "        .assign(\n",
    "            total_appearances=lambda x: x.groupby('plant_id_pudl')['fuel_appearances'].transform(lambda x: x.sum()),\n",
    "            unique_fuel_groups=lambda x: x.groupby('plant_id_pudl')['fuel_appearances'].transform('count'))\n",
    "    )\n",
    "    \n",
    "    # Only show instances where the a fuel or fuel pairing only appears in one year. Also show that year.\n",
    "    low_appearances = fuel_appearances.query(\"fuel_appearances < 2 and total_appearances > 1\")\n",
    "    out_df = pd.merge(fuel_count, low_appearances, on=['plant_id_pudl', 'unique_fuels'], how='inner')\n",
    "    \n",
    "    return out_df"
   ]
  },
  {
   "cell_type": "code",
   "execution_count": 517,
   "id": "3ac70751-f708-40c5-9266-f389f5aeced6",
   "metadata": {},
   "outputs": [
    {
     "data": {
      "text/html": [
       "<div>\n",
       "<style scoped>\n",
       "    .dataframe tbody tr th:only-of-type {\n",
       "        vertical-align: middle;\n",
       "    }\n",
       "\n",
       "    .dataframe tbody tr th {\n",
       "        vertical-align: top;\n",
       "    }\n",
       "\n",
       "    .dataframe thead th {\n",
       "        text-align: right;\n",
       "    }\n",
       "</style>\n",
       "<table border=\"1\" class=\"dataframe\">\n",
       "  <thead>\n",
       "    <tr style=\"text-align: right;\">\n",
       "      <th></th>\n",
       "      <th>report_year</th>\n",
       "      <th>plant_id_pudl</th>\n",
       "      <th>unique_fuels</th>\n",
       "      <th>fuel_appearances</th>\n",
       "      <th>total_appearances</th>\n",
       "      <th>unique_fuel_groups</th>\n",
       "    </tr>\n",
       "  </thead>\n",
       "  <tbody>\n",
       "    <tr>\n",
       "      <th>0</th>\n",
       "      <td>1995</td>\n",
       "      <td>383</td>\n",
       "      <td>coal, oil</td>\n",
       "      <td>1</td>\n",
       "      <td>26</td>\n",
       "      <td>2</td>\n",
       "    </tr>\n",
       "  </tbody>\n",
       "</table>\n",
       "</div>"
      ],
      "text/plain": [
       "   report_year  plant_id_pudl unique_fuels  fuel_appearances  \\\n",
       "0         1995            383    coal, oil                 1   \n",
       "\n",
       "   total_appearances  unique_fuel_groups  \n",
       "0                 26                   2  "
      ]
     },
     "execution_count": 517,
     "metadata": {},
     "output_type": "execute_result"
    }
   ],
   "source": [
    "show_year_outliers(test)"
   ]
  },
  {
   "cell_type": "code",
   "execution_count": 518,
   "id": "d47813aa-8699-4e5f-b041-d8e25a0cfce7",
   "metadata": {
    "tags": []
   },
   "outputs": [],
   "source": [
    "nona = flagged_tots_df.copy()\n",
    "nona['primary_fuel'] = nona.primary_fuel.fillna('unknown')\n",
    "outliers = show_year_outliers(nona)"
   ]
  },
  {
   "cell_type": "code",
   "execution_count": 558,
   "id": "0728b611-c8e7-404f-83b1-ca21a83d43c9",
   "metadata": {
    "tags": []
   },
   "outputs": [
    {
     "data": {
      "text/html": [
       "<div>\n",
       "<style scoped>\n",
       "    .dataframe tbody tr th:only-of-type {\n",
       "        vertical-align: middle;\n",
       "    }\n",
       "\n",
       "    .dataframe tbody tr th {\n",
       "        vertical-align: top;\n",
       "    }\n",
       "\n",
       "    .dataframe thead th {\n",
       "        text-align: right;\n",
       "    }\n",
       "</style>\n",
       "<table border=\"1\" class=\"dataframe\">\n",
       "  <thead>\n",
       "    <tr style=\"text-align: right;\">\n",
       "      <th></th>\n",
       "      <th>index</th>\n",
       "      <th>report_year</th>\n",
       "      <th>plant_id_pudl</th>\n",
       "      <th>unique_fuels</th>\n",
       "      <th>fuel_appearances</th>\n",
       "      <th>total_appearances</th>\n",
       "      <th>unique_fuel_groups</th>\n",
       "    </tr>\n",
       "  </thead>\n",
       "  <tbody>\n",
       "    <tr>\n",
       "      <th>10</th>\n",
       "      <td>46</td>\n",
       "      <td>2008</td>\n",
       "      <td>212</td>\n",
       "      <td>oil</td>\n",
       "      <td>1</td>\n",
       "      <td>15</td>\n",
       "      <td>2</td>\n",
       "    </tr>\n",
       "    <tr>\n",
       "      <th>11</th>\n",
       "      <td>7</td>\n",
       "      <td>1994</td>\n",
       "      <td>1064</td>\n",
       "      <td>gas</td>\n",
       "      <td>1</td>\n",
       "      <td>19</td>\n",
       "      <td>2</td>\n",
       "    </tr>\n",
       "    <tr>\n",
       "      <th>12</th>\n",
       "      <td>28</td>\n",
       "      <td>1999</td>\n",
       "      <td>475</td>\n",
       "      <td>coal</td>\n",
       "      <td>1</td>\n",
       "      <td>21</td>\n",
       "      <td>2</td>\n",
       "    </tr>\n",
       "    <tr>\n",
       "      <th>13</th>\n",
       "      <td>20</td>\n",
       "      <td>1997</td>\n",
       "      <td>345</td>\n",
       "      <td>oil</td>\n",
       "      <td>1</td>\n",
       "      <td>22</td>\n",
       "      <td>2</td>\n",
       "    </tr>\n",
       "    <tr>\n",
       "      <th>14</th>\n",
       "      <td>3</td>\n",
       "      <td>1994</td>\n",
       "      <td>277</td>\n",
       "      <td>gas, oil</td>\n",
       "      <td>1</td>\n",
       "      <td>24</td>\n",
       "      <td>2</td>\n",
       "    </tr>\n",
       "  </tbody>\n",
       "</table>\n",
       "</div>"
      ],
      "text/plain": [
       "    index  report_year  plant_id_pudl unique_fuels  fuel_appearances  \\\n",
       "10     46         2008            212          oil                 1   \n",
       "11      7         1994           1064          gas                 1   \n",
       "12     28         1999            475         coal                 1   \n",
       "13     20         1997            345          oil                 1   \n",
       "14      3         1994            277     gas, oil                 1   \n",
       "\n",
       "    total_appearances  unique_fuel_groups  \n",
       "10                 15                   2  \n",
       "11                 19                   2  \n",
       "12                 21                   2  \n",
       "13                 22                   2  \n",
       "14                 24                   2  "
      ]
     },
     "execution_count": 558,
     "metadata": {},
     "output_type": "execute_result"
    }
   ],
   "source": [
    "# Note that some pudl ids appear twice!\n",
    "outliers2 = outliers.query(\"unique_fuel_groups==2\")\n",
    "outliers2.sort_values('total_appearances').reset_index()[10:15]"
   ]
  },
  {
   "cell_type": "code",
   "execution_count": 560,
   "id": "780626a4-9ee2-422c-a7cd-e0ffcd423202",
   "metadata": {},
   "outputs": [],
   "source": [
    "#flagged_tots_df.tech_desc_flag.unique()"
   ]
  },
  {
   "cell_type": "code",
   "execution_count": 562,
   "id": "a119525f-a446-4889-8ff7-988f9458caca",
   "metadata": {
    "collapsed": true,
    "jupyter": {
     "outputs_hidden": true
    },
    "tags": []
   },
   "outputs": [
    {
     "data": {
      "text/html": [
       "<div>\n",
       "<style scoped>\n",
       "    .dataframe tbody tr th:only-of-type {\n",
       "        vertical-align: middle;\n",
       "    }\n",
       "\n",
       "    .dataframe tbody tr th {\n",
       "        vertical-align: top;\n",
       "    }\n",
       "\n",
       "    .dataframe thead th {\n",
       "        text-align: right;\n",
       "    }\n",
       "</style>\n",
       "<table border=\"1\" class=\"dataframe\">\n",
       "  <thead>\n",
       "    <tr style=\"text-align: right;\">\n",
       "      <th></th>\n",
       "      <th>report_year</th>\n",
       "      <th>utility_name_ferc1</th>\n",
       "      <th>plant_name_ferc1</th>\n",
       "      <th>plant_id_pudl</th>\n",
       "      <th>plant_id_ferc1</th>\n",
       "      <th>primary_fuel</th>\n",
       "      <th>plant_type</th>\n",
       "      <th>tech_desc</th>\n",
       "      <th>tech_desc_flag</th>\n",
       "      <th>record_id</th>\n",
       "      <th>capacity_mw</th>\n",
       "    </tr>\n",
       "  </thead>\n",
       "  <tbody>\n",
       "    <tr>\n",
       "      <th>266</th>\n",
       "      <td>1994</td>\n",
       "      <td>Entergy New Orleans, Inc.</td>\n",
       "      <td>a.b. paterson</td>\n",
       "      <td>1064</td>\n",
       "      <td>14</td>\n",
       "      <td>gas</td>\n",
       "      <td>steam</td>\n",
       "      <td>gas_steam_turbine</td>\n",
       "      <td>FPT flipped pockets of fuel outliers in ferc1 ...</td>\n",
       "      <td>f1_steam_1994_12_114_0_2</td>\n",
       "      <td>133.00</td>\n",
       "    </tr>\n",
       "    <tr>\n",
       "      <th>267</th>\n",
       "      <td>1995</td>\n",
       "      <td>Entergy New Orleans, Inc.</td>\n",
       "      <td>*a.b. paterson</td>\n",
       "      <td>1064</td>\n",
       "      <td>14</td>\n",
       "      <td>gas</td>\n",
       "      <td>steam</td>\n",
       "      <td>gas_steam_turbine</td>\n",
       "      <td>FPT flipped pockets of fuel outliers in ferc1 ...</td>\n",
       "      <td>f1_steam_1995_12_114_0_2</td>\n",
       "      <td>133.00</td>\n",
       "    </tr>\n",
       "    <tr>\n",
       "      <th>268</th>\n",
       "      <td>1996</td>\n",
       "      <td>Entergy New Orleans, Inc.</td>\n",
       "      <td>*a.b. paterson</td>\n",
       "      <td>1064</td>\n",
       "      <td>14</td>\n",
       "      <td>gas</td>\n",
       "      <td>steam</td>\n",
       "      <td>gas_steam_turbine</td>\n",
       "      <td>FPT flipped pockets of fuel outliers in ferc1 ...</td>\n",
       "      <td>f1_steam_1996_12_114_0_2</td>\n",
       "      <td>133.00</td>\n",
       "    </tr>\n",
       "    <tr>\n",
       "      <th>269</th>\n",
       "      <td>1997</td>\n",
       "      <td>Entergy New Orleans, Inc.</td>\n",
       "      <td>*a.b. paterson</td>\n",
       "      <td>1064</td>\n",
       "      <td>14</td>\n",
       "      <td>gas</td>\n",
       "      <td>steam</td>\n",
       "      <td>gas_steam_turbine</td>\n",
       "      <td>FPT flipped pockets of fuel outliers in ferc1 ...</td>\n",
       "      <td>f1_steam_1997_12_114_0_2</td>\n",
       "      <td>133.00</td>\n",
       "    </tr>\n",
       "    <tr>\n",
       "      <th>270</th>\n",
       "      <td>1998</td>\n",
       "      <td>Entergy New Orleans, Inc.</td>\n",
       "      <td>a. b. paterson 3 &amp; 4</td>\n",
       "      <td>1064</td>\n",
       "      <td>14</td>\n",
       "      <td>gas</td>\n",
       "      <td>steam</td>\n",
       "      <td>gas_steam_turbine</td>\n",
       "      <td>FPT flipped pockets of fuel outliers in ferc1 ...</td>\n",
       "      <td>f1_steam_1998_12_114_0_2</td>\n",
       "      <td>133.00</td>\n",
       "    </tr>\n",
       "    <tr>\n",
       "      <th>...</th>\n",
       "      <td>...</td>\n",
       "      <td>...</td>\n",
       "      <td>...</td>\n",
       "      <td>...</td>\n",
       "      <td>...</td>\n",
       "      <td>...</td>\n",
       "      <td>...</td>\n",
       "      <td>...</td>\n",
       "      <td>...</td>\n",
       "      <td>...</td>\n",
       "      <td>...</td>\n",
       "    </tr>\n",
       "    <tr>\n",
       "      <th>28432</th>\n",
       "      <td>2019</td>\n",
       "      <td>Tucson Electric Power Company</td>\n",
       "      <td>four corners</td>\n",
       "      <td>197</td>\n",
       "      <td>6677</td>\n",
       "      <td>coal</td>\n",
       "      <td>steam</td>\n",
       "      <td>coal</td>\n",
       "      <td>direct from eia860</td>\n",
       "      <td>f1_steam_2019_12_176_0_3</td>\n",
       "      <td>114.53</td>\n",
       "    </tr>\n",
       "    <tr>\n",
       "      <th>28464</th>\n",
       "      <td>2019</td>\n",
       "      <td>Entergy Louisiana, LLC</td>\n",
       "      <td>waterford 3</td>\n",
       "      <td>622</td>\n",
       "      <td>6712</td>\n",
       "      <td>nuclear</td>\n",
       "      <td>nuclear</td>\n",
       "      <td>nuclear</td>\n",
       "      <td>FPT fuel in technology name</td>\n",
       "      <td>f1_steam_2019_12_454_0_3</td>\n",
       "      <td>225.00</td>\n",
       "    </tr>\n",
       "    <tr>\n",
       "      <th>28475</th>\n",
       "      <td>2019</td>\n",
       "      <td>Entergy Louisiana, LLC</td>\n",
       "      <td>waterford 1 &amp; 2</td>\n",
       "      <td>622</td>\n",
       "      <td>6723</td>\n",
       "      <td>gas</td>\n",
       "      <td>steam</td>\n",
       "      <td>gas_steam_turbine</td>\n",
       "      <td>FPT primary fuel by mmbtu</td>\n",
       "      <td>f1_steam_2019_12_454_2_5</td>\n",
       "      <td>577.00</td>\n",
       "    </tr>\n",
       "    <tr>\n",
       "      <th>28492</th>\n",
       "      <td>2019</td>\n",
       "      <td>Arizona Public Service Company</td>\n",
       "      <td>four corners 4</td>\n",
       "      <td>197</td>\n",
       "      <td>6741</td>\n",
       "      <td>coal</td>\n",
       "      <td>steam</td>\n",
       "      <td>coal</td>\n",
       "      <td>direct from eia860</td>\n",
       "      <td>f1_steam_2019_12_7_0_3</td>\n",
       "      <td>515.40</td>\n",
       "    </tr>\n",
       "    <tr>\n",
       "      <th>28493</th>\n",
       "      <td>2019</td>\n",
       "      <td>Arizona Public Service Company</td>\n",
       "      <td>four corners 5</td>\n",
       "      <td>197</td>\n",
       "      <td>6742</td>\n",
       "      <td>coal</td>\n",
       "      <td>steam</td>\n",
       "      <td>coal</td>\n",
       "      <td>direct from eia860</td>\n",
       "      <td>f1_steam_2019_12_7_0_4</td>\n",
       "      <td>515.40</td>\n",
       "    </tr>\n",
       "  </tbody>\n",
       "</table>\n",
       "<p>1156 rows × 11 columns</p>\n",
       "</div>"
      ],
      "text/plain": [
       "       report_year              utility_name_ferc1      plant_name_ferc1  \\\n",
       "266           1994       Entergy New Orleans, Inc.         a.b. paterson   \n",
       "267           1995       Entergy New Orleans, Inc.        *a.b. paterson   \n",
       "268           1996       Entergy New Orleans, Inc.        *a.b. paterson   \n",
       "269           1997       Entergy New Orleans, Inc.        *a.b. paterson   \n",
       "270           1998       Entergy New Orleans, Inc.  a. b. paterson 3 & 4   \n",
       "...            ...                             ...                   ...   \n",
       "28432         2019   Tucson Electric Power Company          four corners   \n",
       "28464         2019          Entergy Louisiana, LLC           waterford 3   \n",
       "28475         2019          Entergy Louisiana, LLC       waterford 1 & 2   \n",
       "28492         2019  Arizona Public Service Company        four corners 4   \n",
       "28493         2019  Arizona Public Service Company        four corners 5   \n",
       "\n",
       "       plant_id_pudl  plant_id_ferc1 primary_fuel plant_type  \\\n",
       "266             1064              14          gas      steam   \n",
       "267             1064              14          gas      steam   \n",
       "268             1064              14          gas      steam   \n",
       "269             1064              14          gas      steam   \n",
       "270             1064              14          gas      steam   \n",
       "...              ...             ...          ...        ...   \n",
       "28432            197            6677         coal      steam   \n",
       "28464            622            6712      nuclear    nuclear   \n",
       "28475            622            6723          gas      steam   \n",
       "28492            197            6741         coal      steam   \n",
       "28493            197            6742         coal      steam   \n",
       "\n",
       "               tech_desc                                     tech_desc_flag  \\\n",
       "266    gas_steam_turbine  FPT flipped pockets of fuel outliers in ferc1 ...   \n",
       "267    gas_steam_turbine  FPT flipped pockets of fuel outliers in ferc1 ...   \n",
       "268    gas_steam_turbine  FPT flipped pockets of fuel outliers in ferc1 ...   \n",
       "269    gas_steam_turbine  FPT flipped pockets of fuel outliers in ferc1 ...   \n",
       "270    gas_steam_turbine  FPT flipped pockets of fuel outliers in ferc1 ...   \n",
       "...                  ...                                                ...   \n",
       "28432               coal                                 direct from eia860   \n",
       "28464            nuclear                        FPT fuel in technology name   \n",
       "28475  gas_steam_turbine                          FPT primary fuel by mmbtu   \n",
       "28492               coal                                 direct from eia860   \n",
       "28493               coal                                 direct from eia860   \n",
       "\n",
       "                      record_id  capacity_mw  \n",
       "266    f1_steam_1994_12_114_0_2       133.00  \n",
       "267    f1_steam_1995_12_114_0_2       133.00  \n",
       "268    f1_steam_1996_12_114_0_2       133.00  \n",
       "269    f1_steam_1997_12_114_0_2       133.00  \n",
       "270    f1_steam_1998_12_114_0_2       133.00  \n",
       "...                         ...          ...  \n",
       "28432  f1_steam_2019_12_176_0_3       114.53  \n",
       "28464  f1_steam_2019_12_454_0_3       225.00  \n",
       "28475  f1_steam_2019_12_454_2_5       577.00  \n",
       "28492    f1_steam_2019_12_7_0_3       515.40  \n",
       "28493    f1_steam_2019_12_7_0_4       515.40  \n",
       "\n",
       "[1156 rows x 11 columns]"
      ]
     },
     "execution_count": 562,
     "metadata": {},
     "output_type": "execute_result"
    }
   ],
   "source": [
    "# How many of these outliers aren't covered by EIA tech descriptions already?\n",
    "outliers_list = list(outliers2['plant_id_pudl'].unique())\n",
    "is_outlier = flagged_tots_df['plant_id_pudl'].isin(outliers_list)\n",
    "no_eia_tech = ~flagged_tots_df['tech_desc'].isin(['direct from eia860', 'backfill from other year'])\n",
    "flagged_tots_df[is_outlier & no_eia_tech][test_view]"
   ]
  },
  {
   "cell_type": "code",
   "execution_count": 566,
   "id": "0f31943a-f05e-4830-adba-8037b495edb7",
   "metadata": {
    "tags": []
   },
   "outputs": [],
   "source": [
    "# For most of these, we should be able to do a pudl_id-wide subsitute\n",
    "# For plants like 11650 - eastlake and 1229 - salem (where there is more than one fuel type per plant per year),\n",
    "# there will be a need to vet not just by pudl id by also capacity to match fuel...\n",
    "\n",
    "test2 = flagged_tots_df.query(\"plant_id_pudl==11650\").sort_values('report_year')[test_view + ['tech_desc']].head(10)"
   ]
  },
  {
   "cell_type": "code",
   "execution_count": 567,
   "id": "c1c59a94-b2d0-4470-a3d9-6168fe37d16a",
   "metadata": {},
   "outputs": [
    {
     "data": {
      "text/html": [
       "<div>\n",
       "<style scoped>\n",
       "    .dataframe tbody tr th:only-of-type {\n",
       "        vertical-align: middle;\n",
       "    }\n",
       "\n",
       "    .dataframe tbody tr th {\n",
       "        vertical-align: top;\n",
       "    }\n",
       "\n",
       "    .dataframe thead th {\n",
       "        text-align: right;\n",
       "    }\n",
       "</style>\n",
       "<table border=\"1\" class=\"dataframe\">\n",
       "  <thead>\n",
       "    <tr style=\"text-align: right;\">\n",
       "      <th></th>\n",
       "      <th>report_year</th>\n",
       "      <th>utility_name_ferc1</th>\n",
       "      <th>plant_name_ferc1</th>\n",
       "      <th>plant_id_pudl</th>\n",
       "      <th>plant_id_ferc1</th>\n",
       "      <th>primary_fuel</th>\n",
       "      <th>plant_type</th>\n",
       "      <th>tech_desc</th>\n",
       "      <th>tech_desc_flag</th>\n",
       "      <th>record_id</th>\n",
       "      <th>capacity_mw</th>\n",
       "      <th>tech_desc</th>\n",
       "    </tr>\n",
       "  </thead>\n",
       "  <tbody>\n",
       "    <tr>\n",
       "      <th>5577</th>\n",
       "      <td>1994</td>\n",
       "      <td>Cleveland Electric Illuminating Company, The</td>\n",
       "      <td>eastlake</td>\n",
       "      <td>11650</td>\n",
       "      <td>383</td>\n",
       "      <td>coal</td>\n",
       "      <td>steam</td>\n",
       "      <td>coal</td>\n",
       "      <td>FPT primary fuel by mmbtu</td>\n",
       "      <td>f1_steam_1994_12_30_1_3</td>\n",
       "      <td>1045.0</td>\n",
       "      <td>coal</td>\n",
       "    </tr>\n",
       "    <tr>\n",
       "      <th>24303</th>\n",
       "      <td>1994</td>\n",
       "      <td>Cleveland Electric Illuminating Company, The</td>\n",
       "      <td>eastlake gas</td>\n",
       "      <td>11650</td>\n",
       "      <td>2241</td>\n",
       "      <td>NaN</td>\n",
       "      <td>combustion_turbine</td>\n",
       "      <td>NaN</td>\n",
       "      <td>NaN</td>\n",
       "      <td>f1_steam_1994_12_30_2_4</td>\n",
       "      <td>32.0</td>\n",
       "      <td>NaN</td>\n",
       "    </tr>\n",
       "    <tr>\n",
       "      <th>5578</th>\n",
       "      <td>1995</td>\n",
       "      <td>Cleveland Electric Illuminating Company, The</td>\n",
       "      <td>eastlake</td>\n",
       "      <td>11650</td>\n",
       "      <td>383</td>\n",
       "      <td>coal</td>\n",
       "      <td>steam</td>\n",
       "      <td>coal</td>\n",
       "      <td>FPT primary fuel by mmbtu</td>\n",
       "      <td>f1_steam_1995_12_30_2_2</td>\n",
       "      <td>1045.0</td>\n",
       "      <td>coal</td>\n",
       "    </tr>\n",
       "    <tr>\n",
       "      <th>18385</th>\n",
       "      <td>1995</td>\n",
       "      <td>Cleveland Electric Illuminating Company, The</td>\n",
       "      <td>east lake</td>\n",
       "      <td>11650</td>\n",
       "      <td>1302</td>\n",
       "      <td>coal</td>\n",
       "      <td>steam</td>\n",
       "      <td>coal</td>\n",
       "      <td>FPT primary fuel by mmbtu</td>\n",
       "      <td>f1_steam_1995_12_30_1_3</td>\n",
       "      <td>1044.8</td>\n",
       "      <td>coal</td>\n",
       "    </tr>\n",
       "    <tr>\n",
       "      <th>24546</th>\n",
       "      <td>1995</td>\n",
       "      <td>Cleveland Electric Illuminating Company, The</td>\n",
       "      <td>eastlake gas</td>\n",
       "      <td>11650</td>\n",
       "      <td>2495</td>\n",
       "      <td>oil</td>\n",
       "      <td>combustion_turbine</td>\n",
       "      <td>petroleum_liquids</td>\n",
       "      <td>FPT primary fuel by mmbtu</td>\n",
       "      <td>f1_steam_1995_12_30_2_3</td>\n",
       "      <td>32.0</td>\n",
       "      <td>petroleum_liquids</td>\n",
       "    </tr>\n",
       "    <tr>\n",
       "      <th>24549</th>\n",
       "      <td>1995</td>\n",
       "      <td>Cleveland Electric Illuminating Company, The</td>\n",
       "      <td>eastlake gas</td>\n",
       "      <td>11650</td>\n",
       "      <td>2498</td>\n",
       "      <td>oil</td>\n",
       "      <td>combustion_turbine</td>\n",
       "      <td>petroleum_liquids</td>\n",
       "      <td>FPT primary fuel by mmbtu</td>\n",
       "      <td>f1_steam_1995_12_30_4_2</td>\n",
       "      <td>32.0</td>\n",
       "      <td>petroleum_liquids</td>\n",
       "    </tr>\n",
       "    <tr>\n",
       "      <th>5579</th>\n",
       "      <td>1996</td>\n",
       "      <td>Cleveland Electric Illuminating Company, The</td>\n",
       "      <td>eastlake</td>\n",
       "      <td>11650</td>\n",
       "      <td>383</td>\n",
       "      <td>coal</td>\n",
       "      <td>steam</td>\n",
       "      <td>coal</td>\n",
       "      <td>FPT primary fuel by mmbtu</td>\n",
       "      <td>f1_steam_1996_12_30_1_3</td>\n",
       "      <td>1044.8</td>\n",
       "      <td>coal</td>\n",
       "    </tr>\n",
       "    <tr>\n",
       "      <th>24758</th>\n",
       "      <td>1996</td>\n",
       "      <td>Cleveland Electric Illuminating Company, The</td>\n",
       "      <td>eastlake gas</td>\n",
       "      <td>11650</td>\n",
       "      <td>2729</td>\n",
       "      <td>oil</td>\n",
       "      <td>combustion_turbine</td>\n",
       "      <td>petroleum_liquids</td>\n",
       "      <td>FPT primary fuel by mmbtu</td>\n",
       "      <td>f1_steam_1996_12_30_2_3</td>\n",
       "      <td>32.0</td>\n",
       "      <td>petroleum_liquids</td>\n",
       "    </tr>\n",
       "    <tr>\n",
       "      <th>5580</th>\n",
       "      <td>1997</td>\n",
       "      <td>Cleveland Electric Illuminating Company, The</td>\n",
       "      <td>eastlake</td>\n",
       "      <td>11650</td>\n",
       "      <td>383</td>\n",
       "      <td>coal</td>\n",
       "      <td>steam</td>\n",
       "      <td>coal</td>\n",
       "      <td>FPT primary fuel by mmbtu</td>\n",
       "      <td>f1_steam_1997_12_30_1_5</td>\n",
       "      <td>1044.8</td>\n",
       "      <td>coal</td>\n",
       "    </tr>\n",
       "    <tr>\n",
       "      <th>24960</th>\n",
       "      <td>1997</td>\n",
       "      <td>Cleveland Electric Illuminating Company, The</td>\n",
       "      <td>eastlake gas</td>\n",
       "      <td>11650</td>\n",
       "      <td>2946</td>\n",
       "      <td>oil</td>\n",
       "      <td>combustion_turbine</td>\n",
       "      <td>petroleum_liquids</td>\n",
       "      <td>FPT primary fuel by mmbtu</td>\n",
       "      <td>f1_steam_1997_12_30_2_3</td>\n",
       "      <td>32.0</td>\n",
       "      <td>petroleum_liquids</td>\n",
       "    </tr>\n",
       "  </tbody>\n",
       "</table>\n",
       "</div>"
      ],
      "text/plain": [
       "       report_year                            utility_name_ferc1  \\\n",
       "5577          1994  Cleveland Electric Illuminating Company, The   \n",
       "24303         1994  Cleveland Electric Illuminating Company, The   \n",
       "5578          1995  Cleveland Electric Illuminating Company, The   \n",
       "18385         1995  Cleveland Electric Illuminating Company, The   \n",
       "24546         1995  Cleveland Electric Illuminating Company, The   \n",
       "24549         1995  Cleveland Electric Illuminating Company, The   \n",
       "5579          1996  Cleveland Electric Illuminating Company, The   \n",
       "24758         1996  Cleveland Electric Illuminating Company, The   \n",
       "5580          1997  Cleveland Electric Illuminating Company, The   \n",
       "24960         1997  Cleveland Electric Illuminating Company, The   \n",
       "\n",
       "      plant_name_ferc1  plant_id_pudl  plant_id_ferc1 primary_fuel  \\\n",
       "5577          eastlake          11650             383         coal   \n",
       "24303     eastlake gas          11650            2241          NaN   \n",
       "5578          eastlake          11650             383         coal   \n",
       "18385        east lake          11650            1302         coal   \n",
       "24546     eastlake gas          11650            2495          oil   \n",
       "24549     eastlake gas          11650            2498          oil   \n",
       "5579          eastlake          11650             383         coal   \n",
       "24758     eastlake gas          11650            2729          oil   \n",
       "5580          eastlake          11650             383         coal   \n",
       "24960     eastlake gas          11650            2946          oil   \n",
       "\n",
       "               plant_type          tech_desc             tech_desc_flag  \\\n",
       "5577                steam               coal  FPT primary fuel by mmbtu   \n",
       "24303  combustion_turbine                NaN                        NaN   \n",
       "5578                steam               coal  FPT primary fuel by mmbtu   \n",
       "18385               steam               coal  FPT primary fuel by mmbtu   \n",
       "24546  combustion_turbine  petroleum_liquids  FPT primary fuel by mmbtu   \n",
       "24549  combustion_turbine  petroleum_liquids  FPT primary fuel by mmbtu   \n",
       "5579                steam               coal  FPT primary fuel by mmbtu   \n",
       "24758  combustion_turbine  petroleum_liquids  FPT primary fuel by mmbtu   \n",
       "5580                steam               coal  FPT primary fuel by mmbtu   \n",
       "24960  combustion_turbine  petroleum_liquids  FPT primary fuel by mmbtu   \n",
       "\n",
       "                     record_id  capacity_mw          tech_desc  \n",
       "5577   f1_steam_1994_12_30_1_3       1045.0               coal  \n",
       "24303  f1_steam_1994_12_30_2_4         32.0                NaN  \n",
       "5578   f1_steam_1995_12_30_2_2       1045.0               coal  \n",
       "18385  f1_steam_1995_12_30_1_3       1044.8               coal  \n",
       "24546  f1_steam_1995_12_30_2_3         32.0  petroleum_liquids  \n",
       "24549  f1_steam_1995_12_30_4_2         32.0  petroleum_liquids  \n",
       "5579   f1_steam_1996_12_30_1_3       1044.8               coal  \n",
       "24758  f1_steam_1996_12_30_2_3         32.0  petroleum_liquids  \n",
       "5580   f1_steam_1997_12_30_1_5       1044.8               coal  \n",
       "24960  f1_steam_1997_12_30_2_3         32.0  petroleum_liquids  "
      ]
     },
     "execution_count": 567,
     "metadata": {},
     "output_type": "execute_result"
    }
   ],
   "source": [
    "test2"
   ]
  },
  {
   "cell_type": "markdown",
   "id": "ddba6aed-a426-48b0-ad5f-79d94971660e",
   "metadata": {},
   "source": [
    "## **3. Aggregate to Utility-Tech Level**"
   ]
  },
  {
   "cell_type": "code",
   "execution_count": 139,
   "id": "9bd3eb44-e2ef-4454-8e69-e53a33920a9a",
   "metadata": {
    "tags": []
   },
   "outputs": [],
   "source": [
    "def agg_n_flag(flag_df, agg_col):\n",
    "    \"\"\"Aggregate specified column and create flag column based on total rows.\n",
    "    \n",
    "    \"\"\"\n",
    "    # For each report_year, utility_id_ferc1, plant_id_pudl, tech_desc group...\n",
    "    \n",
    "    # If all non-ttl rows have values and there are more than 0 just add 'em up\n",
    "    if (flag_df.loc[flag_df['total_type'].isna()][agg_col].notna().all()) & (len(flag_df.loc[flag_df['total_type'].isna()]) > 0): \n",
    "        flag = 'actual values provided'#None\n",
    "        agg_value = flag_df.loc[flag_df['total_type'].isna()][agg_col].sum()\n",
    "        return [agg_value, flag]\n",
    "    \n",
    "    # If there aren't any total rows, just take the sum cuz that's all you can do\n",
    "    elif flag_df['total_type'].isna().all():\n",
    "        flag = 'no total rows' #None\n",
    "        agg_value = flag_df[agg_col].sum()\n",
    "        return [agg_value, flag]\n",
    "    \n",
    "    # Now there ARE total rows and there ARE value rows with NA:\n",
    "    # If the total rows are all NA for the agg col, just take the sum cuz that's all you can do\n",
    "    elif flag_df[flag_df['total_type'].notna()][agg_col].isna().all():\n",
    "        flag = 'totals are NA'\n",
    "        agg_value = flag_df[agg_col].sum()\n",
    "        return [agg_value, flag]\n",
    "    \n",
    "    # If there are only total rows there's probably an issue with plant/fuel type mapping\n",
    "    elif flag_df['total_type'].notna().all():\n",
    "        flag = 'all rows only totals...'\n",
    "        agg_value = flag_df[agg_col].sum() # FIX \n",
    "        return [agg_value, flag]\n",
    "    \n",
    "    # If non-total value cols are all NA (and by default there are total rows with values):....FIX\n",
    "    elif flag_df[flag_df['total_type'].isna()][agg_col].isna().all():\n",
    "        flag = flag_df[flag_df[agg_col].notna()]['total_type'].unique()[0] # this might be bad...\n",
    "        agg_value = flag_df[flag_df['total_type'].notna()][agg_col].sum()\n",
    "        return [agg_value, flag]\n",
    "\n",
    "    # If some non-total value cols are NA but not all (and by default there are total rows with values):\n",
    "    else:\n",
    "        flag = 'some values are NA but not all'\n",
    "        agg_value = flag_df[agg_col].sum() # FIX\n",
    "        return [agg_value, flag]"
   ]
  },
  {
   "cell_type": "code",
   "execution_count": 140,
   "id": "6da4c204-19ba-4652-bacf-cdb0d4ec4ba1",
   "metadata": {
    "tags": []
   },
   "outputs": [],
   "source": [
    "def run_the_thing(df, agg_col):\n",
    "    print(f'starting aggregation for {agg_col}')\n",
    "    plant_group = df.groupby(['report_year', 'utility_id_ferc1', 'plant_id_pudl', 'tech_desc'])\n",
    "    col_agg_series = plant_group.apply(lambda x: agg_n_flag(x, agg_col))\n",
    "    col_agg_df = pd.DataFrame(col_agg_series).reset_index()\n",
    "    col_agg_df[[agg_col, f'{agg_col}_flag']] = pd.DataFrame(col_agg_df[0].tolist(), index=col_agg_df.index)\n",
    "    col_agg_df = col_agg_df.drop(columns=[0])\n",
    "    \n",
    "    util_agg_df = (\n",
    "        col_agg_df.groupby(['report_year', 'utility_id_ferc1', 'tech_desc'])\n",
    "        .agg({agg_col: 'sum', f'{agg_col}_flag': lambda x: ', '.join(list(x.dropna().unique()))})\n",
    "    )\n",
    "    return util_agg_df"
   ]
  },
  {
   "cell_type": "code",
   "execution_count": 142,
   "id": "bd94417f-f12b-47fc-a416-2de5ca3d4636",
   "metadata": {
    "jupyter": {
     "source_hidden": true
    },
    "tags": []
   },
   "outputs": [],
   "source": [
    "def run_the_whole_thing(df):\n",
    "    agg_df = pd.DataFrame(columns=['report_year', 'utility_id_ferc1', 'tech_desc'])\n",
    "    for col in value_cols:\n",
    "        one_col_df = run_the_thing(df, col)\n",
    "        #df_list.append(one_col_df)\n",
    "        agg_df = pd.merge(agg_df, one_col_df, on=['report_year', 'utility_id_ferc1', 'tech_desc'], how='outer')\n",
    "    return agg_df"
   ]
  },
  {
   "cell_type": "code",
   "execution_count": 151,
   "id": "bd0cf902-ea78-4edc-881c-ba75f7442cba",
   "metadata": {
    "tags": []
   },
   "outputs": [
    {
     "name": "stdout",
     "output_type": "stream",
     "text": [
      "starting aggregation for net_generation_mwh\n",
      "starting aggregation for avg_num_employees\n",
      "starting aggregation for capex_land\n",
      "starting aggregation for capex_equipment\n",
      "starting aggregation for capex_structures\n",
      "starting aggregation for capex_total\n",
      "starting aggregation for asset_retirement_cost\n",
      "starting aggregation for opex_operations\n",
      "starting aggregation for opex_fuel\n",
      "starting aggregation for opex_coolants\n",
      "starting aggregation for opex_steam\n",
      "starting aggregation for opex_steam_other\n",
      "starting aggregation for opex_transfer\n",
      "starting aggregation for opex_electric\n",
      "starting aggregation for opex_misc_power\n",
      "starting aggregation for opex_rents\n",
      "starting aggregation for opex_allowances\n",
      "starting aggregation for opex_engineering\n",
      "starting aggregation for opex_structures\n",
      "starting aggregation for opex_boiler\n",
      "starting aggregation for opex_plants\n",
      "starting aggregation for opex_misc_steam\n",
      "starting aggregation for opex_production_total\n",
      "starting aggregation for capacity_mw\n"
     ]
    }
   ],
   "source": [
    "whole_enchilada = run_the_whole_thing(flagged_tots_df)"
   ]
  },
  {
   "cell_type": "code",
   "execution_count": 146,
   "id": "ec32830f-5a02-4564-8c68-52a7e4b4a894",
   "metadata": {},
   "outputs": [],
   "source": [
    "whole_enchilada.to_excel('/Users/aesharpe/Desktop/full_tech_aggregation.xlsx')"
   ]
  },
  {
   "cell_type": "markdown",
   "id": "3bce1f08-90ac-4ac4-a36e-8482e7f73706",
   "metadata": {},
   "source": [
    "## Test Small Generators Table"
   ]
  },
  {
   "cell_type": "code",
   "execution_count": null,
   "id": "78e17508-7479-4b5a-b4c8-50565c245b91",
   "metadata": {},
   "outputs": [],
   "source": [
    "from fuzzywuzzy import process, fuzz"
   ]
  },
  {
   "cell_type": "code",
   "execution_count": null,
   "id": "241d7645-228e-410a-a2fa-e6e54d344d53",
   "metadata": {},
   "outputs": [],
   "source": [
    "plant_name_eia = []\n",
    "similarity = []\n",
    "for i in small_plants_one_plant.plant_name_ferc1:\n",
    "        ratio = process.extract( i, eia_one_plant.plant_name_eia, limit=1)\n",
    "        plant_name_eia.append(ratio[0][0])\n",
    "        similarity.append(ratio[0][1])\n",
    "small_plants_one_plant['plant_name_eia'] = pd.Series(plant_name_eia)\n",
    "small_plants_one_plant['similarity'] = pd.Series(similarity)"
   ]
  }
 ],
 "metadata": {
  "kernelspec": {
   "display_name": "Python 3",
   "language": "python",
   "name": "python3"
  },
  "language_info": {
   "codemirror_mode": {
    "name": "ipython",
    "version": 3
   },
   "file_extension": ".py",
   "mimetype": "text/x-python",
   "name": "python",
   "nbconvert_exporter": "python",
   "pygments_lexer": "ipython3",
   "version": "3.9.4"
  }
 },
 "nbformat": 4,
 "nbformat_minor": 5
}

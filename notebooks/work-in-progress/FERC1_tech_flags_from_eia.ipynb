{
 "cells": [
  {
   "cell_type": "markdown",
   "id": "general-interval",
   "metadata": {},
   "source": [
    "# **Create a Technology Type Column for FERC Steam Table**\n",
    "---------------"
   ]
  },
  {
   "cell_type": "markdown",
   "id": "11d448bf-131c-4983-8942-0478df40e739",
   "metadata": {
    "tags": []
   },
   "source": [
    "## Setup"
   ]
  },
  {
   "cell_type": "code",
   "execution_count": 2,
   "id": "complete-relaxation",
   "metadata": {
    "tags": []
   },
   "outputs": [
    {
     "name": "stdout",
     "output_type": "stream",
     "text": [
      "The autoreload extension is already loaded. To reload it, use:\n",
      "  %reload_ext autoreload\n"
     ]
    }
   ],
   "source": [
    "%load_ext autoreload\n",
    "%autoreload 2"
   ]
  },
  {
   "cell_type": "code",
   "execution_count": 3,
   "id": "twelve-sucking",
   "metadata": {
    "tags": []
   },
   "outputs": [],
   "source": [
    "# Standard libraries\n",
    "import logging\n",
    "import sys\n",
    "import os\n",
    "import pathlib\n",
    "import random\n",
    "\n",
    "# 3rd party libraries\n",
    "import geopandas as gpd\n",
    "import dask.dataframe as dd\n",
    "from dask.distributed import Client\n",
    "import matplotlib.pyplot as plt\n",
    "import matplotlib as mpl\n",
    "import numpy as np\n",
    "import pandas as pd\n",
    "import seaborn as sns\n",
    "import sqlalchemy as sa\n",
    "#import pickle\n",
    "\n",
    "# Local libraries\n",
    "import pudl\n",
    "from pudl.analysis.fill_ferc1_fuel_gaps import *\n",
    "from pudl.analysis.flag_ferc1_totals import *\n",
    "\n",
    "# Enable viewing of logging outputs\n",
    "logger=logging.getLogger()\n",
    "logger.setLevel(logging.INFO)\n",
    "handler = logging.StreamHandler(stream=sys.stdout)\n",
    "formatter = logging.Formatter('%(message)s')\n",
    "handler.setFormatter(formatter)\n",
    "logger.handlers = [handler]\n",
    "\n",
    "# Display settings\n",
    "sns.set()\n",
    "%matplotlib inline\n",
    "mpl.rcParams['figure.dpi'] = 75\n",
    "pd.options.display.max_columns = 100\n",
    "pd.options.display.max_rows = 100"
   ]
  },
  {
   "cell_type": "code",
   "execution_count": 4,
   "id": "finished-richardson",
   "metadata": {
    "tags": []
   },
   "outputs": [],
   "source": [
    "# Establish connection to pudl database\n",
    "pudl_settings = pudl.workspace.setup.get_defaults()\n",
    "pudl_engine = sa.create_engine(pudl_settings['pudl_db'])\n",
    "pudl_out = pudl.output.pudltabl.PudlTabl(\n",
    "    pudl_engine=pudl_engine,\n",
    "    freq='AS'\n",
    ")"
   ]
  },
  {
   "cell_type": "code",
   "execution_count": 5,
   "id": "graduate-warrant",
   "metadata": {
    "tags": []
   },
   "outputs": [],
   "source": [
    "value_cols_no_cap = [\n",
    "    'net_generation_mwh','avg_num_employees',\n",
    "    'capex_land', 'capex_equipment', 'capex_structures', 'capex_total', 'asset_retirement_cost',\n",
    "    'opex_operations', 'opex_fuel', 'opex_coolants', 'opex_steam', 'opex_steam_other', 'opex_transfer', \n",
    "    'opex_electric', 'opex_misc_power', 'opex_rents', 'opex_allowances', 'opex_engineering', 'opex_structures', \n",
    "    'opex_boiler', 'opex_plants', 'opex_misc_steam', 'opex_production_total'\n",
    "]\n",
    "\n",
    "value_cols = value_cols_no_cap + ['capacity_mw']\n",
    "\n",
    "test_view = ['report_year', 'utility_name_ferc1', 'plant_name_ferc1', 'plant_id_pudl', \n",
    "             'plant_id_ferc1', 'primary_fuel', 'plant_type', \n",
    "             'tech_desc', 'tech_desc_flag','record_id', 'capacity_mw']\n",
    "\n",
    "total_view = test_view + ['total_type']\n",
    "\n",
    "ferc_merge_cols = ['report_year', 'utility_id_ferc1', 'plant_name_ferc1']\n",
    "eia_merge_cols = ['report_date', 'plant_id_pudl', 'generator_id']"
   ]
  },
  {
   "cell_type": "code",
   "execution_count": 6,
   "id": "double-shame",
   "metadata": {
    "tags": []
   },
   "outputs": [],
   "source": [
    "# Establish table connections\n",
    "steam = pudl_out.plants_steam_ferc1().assign(primary_fuel=np.nan)\n",
    "fbp = pudl_out.fbp_ferc1()\n",
    "fbp_small = fbp[ferc_merge_cols + ['primary_fuel_by_mmbtu']] #, 'primary_fuel_by_cost']]\n",
    "eia = pudl_out.gens_eia860()#.assign(report_year=lambda x: x.report_date.dt.year)\n",
    "small_plants = pudl_out.plants_small_ferc1()#.dropna(subset=['plant_name_ferc1'])\n",
    "eia_one_plant = eia[eia['plant_name_eia'].notna()].drop_duplicates(subset='plant_name_eia').reset_index()\n",
    "eia_one_tech = eia.groupby(['plant_id_pudl']).filter(lambda x: len(x.technology_description.dropna().unique()) == 1)\n",
    "small_plants_one_plant = small_plants[small_plants['plant_name_ferc1'].notna()].drop_duplicates(subset='plant_name_ferc1').reset_index()\n",
    "fuel = pudl_out.fuel_ferc1()"
   ]
  },
  {
   "cell_type": "code",
   "execution_count": 14,
   "id": "13915006-7db9-4d9a-bd5c-8c6b156650ab",
   "metadata": {},
   "outputs": [
    {
     "name": "stdout",
     "output_type": "stream",
     "text": [
      " - flagging specific totals\n",
      " - adding manual totals\n",
      " - backfilling totals by capacity\n"
     ]
    }
   ],
   "source": [
    "#flag_steam_totals(steam)"
   ]
  },
  {
   "cell_type": "markdown",
   "id": "incorrect-princess",
   "metadata": {},
   "source": [
    "## **1. Generate Tech Descriptions**"
   ]
  },
  {
   "cell_type": "code",
   "execution_count": 7,
   "id": "overall-raise",
   "metadata": {
    "tags": []
   },
   "outputs": [
    {
     "name": "stdout",
     "output_type": "stream",
     "text": [
      " - adding fuel types\n",
      "  * filling fuels with obvious names\n",
      "    27240 / 29270 rows left unfilled\n",
      "  * filling in primary fuel by mmbtu\n",
      "    4040 / 29270 rows left unfilled\n",
      "  * filling in eia plants with one reported fuel\n",
      "    2734 / 29273 rows left unfilled\n",
      "  * filling in primary fuel by cost\n",
      "    2458 / 29273 rows left unfilled\n",
      "  * filling in raw ferc1 fuels\n",
      "    2299 / 29273 rows left unfilled\n",
      "  * filling in ferc plants with one fuel\n",
      "    1472 / 29273 rows left unfilled\n",
      "  * filling in pudl plants with one fuel\n",
      "    1343 / 29273 rows left unfilled\n",
      "  * filling in manually mapped fuels\n",
      "    1254 / 29273 rows left unfilled\n",
      "  * front and backfilling values with the same ferc1 id\n",
      "    996 / 29273 rows left unfilled\n",
      "  * flipping single fuel outliers for plant_id_ferc1\n",
      "    996 / 29273 rows left unfilled\n",
      "  * flipping multiple fuel outliers for groups under 7\n",
      "    996 / 29273 rows left unfilled\n",
      "  * flipping single outliers by capacity\n",
      " - adding plant types\n",
      "  * filling plants with obvious names\n",
      "    798 / 28555 rows left unfilled\n",
      "  * filling in manually mapped plant types\n"
     ]
    }
   ],
   "source": [
    "# Add fuel type and update plant type field in FERC\n",
    "fuel_plant_df = (\n",
    "    steam.pipe(impute_fuel_type, pudl_out)\n",
    "    .pipe(impute_plant_type)\n",
    ")"
   ]
  },
  {
   "cell_type": "code",
   "execution_count": 8,
   "id": "educational-apparel",
   "metadata": {
    "tags": []
   },
   "outputs": [
    {
     "name": "stdout",
     "output_type": "stream",
     "text": [
      " - adding tech types\n",
      "  * merging single-tech EIA technology_description with FERC\n",
      "    25528 / 28555 rows left unfilled\n",
      "  * backfilling EIA technology_description by year if no new units installed\n",
      "    15171 / 28555 rows left unfilled\n",
      "  * combining primary_fuel and plant_type columns\n",
      "    728 / 28555 rows left unfilled\n",
      "  * making uniform tech description col\n"
     ]
    }
   ],
   "source": [
    "# Merge EIA technology description with FERC\n",
    "tech_df = impute_tech_desc(fuel_plant_df, eia)"
   ]
  },
  {
   "cell_type": "markdown",
   "id": "e37f301a-9201-4156-b515-7eb97d336b38",
   "metadata": {},
   "source": [
    "**List of plants to double check:**"
   ]
  },
  {
   "cell_type": "code",
   "execution_count": 8,
   "id": "1e6b8e36-a6f5-4543-ba87-151cfd38b61b",
   "metadata": {
    "tags": []
   },
   "outputs": [],
   "source": [
    "# - 241\n",
    "# - 1282 Waterside - not a lot of information on what this is or when it stopped...\n",
    "# - 2259 hunterstown - con-ed petro unclear...capacities don't match what I found online at alll\n",
    "# - 2260 Mountain - another weird con-ed petro plant....no idea\n",
    "# - 1157 Joppa - confusing subunits\n",
    "# - 1149 hopewell there is another hopewell in eia (3335) but the capacity from 1149 matches....:/\n",
    "# - 45 bellmeade - some of it's right some not\n",
    "# - 176 elizabeth river - plant type just wrong\n",
    "# - 1132 gibson city - some weird outlier fuels and plant types\n",
    "# - 488 remington - some solar plants thrown in at the end! need to fix\n",
    "# - 5930 - airport - seems that the primary fuel is right (rather than petro from eia)\n",
    "# - 121 coit - unknown valeus causing a problem\n",
    "# - 1656 --> False is the result of a NA in the construction_year field which should probably be ignored?\n",
    "\n",
    "\n",
    "# - any that are waste\n",
    "# --- 15 Altavista - went from coal to biomass in 2013\n",
    "# --- 646 wilmarth - waste\n",
    "# --- 548 southampton - went from coal to biomass in 2013\n",
    "# --- 517 rothschild - waste\n",
    "# - any that are marked as coal but not coal_steam\n",
    "# - any with a weird fuel flip flop that wasn't accounted for in the fixes\n",
    "# - any plants with more than one technology type"
   ]
  },
  {
   "cell_type": "markdown",
   "id": "95a7baa6-27f1-41f9-b7a3-06d152823877",
   "metadata": {},
   "source": [
    "-----------"
   ]
  },
  {
   "cell_type": "markdown",
   "id": "located-shade",
   "metadata": {},
   "source": [
    "### Test accuracy of fuel + plant type"
   ]
  },
  {
   "cell_type": "code",
   "execution_count": 392,
   "id": "6ce95a23-17e8-444d-91c6-8360ded8a9b6",
   "metadata": {
    "tags": []
   },
   "outputs": [
    {
     "name": "stdout",
     "output_type": "stream",
     "text": [
      "13263  -- total rows with an eia description\n",
      "10472  -- rows where fuel + plant type matches the eia description\n"
     ]
    }
   ],
   "source": [
    "# grab rows that were already present in eia and make a few tweaks for the analysis\n",
    "tech_df_copy = (\n",
    "    tech_df.loc[tech_df['tech_desc_flag'].isin([\n",
    "        'direct from eia860', 'backfill from eia year', 'backfill from other year'])].copy()\n",
    "    .assign(\n",
    "        primary_fuel=lambda x: x.primary_fuel.replace({'oil': 'petroleum'}, regex=True),\n",
    "        similar_plant=np.nan,\n",
    "        similar_fuel=np.nan))\n",
    "\n",
    "no_null_plant = tech_df_copy['plant_type'].notna()\n",
    "no_null_fuel = tech_df_copy['primary_fuel'].notna()\n",
    "no_null_tech = tech_df_copy['tech_desc_no_map'].notna()\n",
    "\n",
    "mini_plant = (\n",
    "    tech_df_copy[no_null_plant & no_null_tech].copy()\n",
    "    .assign(similar_plant=lambda x: x.apply(lambda x: x.plant_type in x.tech_desc_no_map, axis=1))\n",
    ")\n",
    "\n",
    "mini_fuel = (\n",
    "    tech_df_copy[no_null_fuel & no_null_tech].copy()\n",
    "    .assign(similar_fuel=lambda x: x.apply(lambda x: x.primary_fuel in x.tech_desc_no_map, axis=1))\n",
    ")\n",
    "\n",
    "tech_df_copy.update(mini_plant, overwrite=True)\n",
    "tech_df_copy.update(mini_fuel, overwrite=True)\n",
    "\n",
    "#test2.loc[(test2['similar_plant'].notna()) & (test2['similar_fuel'].notna()), 'similar'] =  \n",
    "tech_df_copy['similar'] = tech_df_copy['similar_plant'] & tech_df_copy['similar_fuel']\n",
    "\n",
    "test = tech_df_copy[no_null_plant & no_null_fuel & no_null_tech].copy()\n",
    "print(len(test), ' -- total rows with an eia description')\n",
    "print(len(test[test['similar']]), ' -- rows where fuel + plant type matches the eia description')"
   ]
  },
  {
   "cell_type": "code",
   "execution_count": 49,
   "id": "vanilla-tender",
   "metadata": {
    "tags": []
   },
   "outputs": [
    {
     "name": "stdout",
     "output_type": "stream",
     "text": [
      "pudl plants with non-matching fuel+plant and eia technology descriptions:\n",
      "*note that many of these are waste\n"
     ]
    },
    {
     "data": {
      "text/plain": [
       "array([ 242, 1282,  364, 2259, 2260,  283,  647, 1135, 1156,   15, 1148,\n",
       "        549, 2628,  518,  489, 5931, 1525,    5])"
      ]
     },
     "execution_count": 49,
     "metadata": {},
     "output_type": "execute_result"
    }
   ],
   "source": [
    "n1 = test['similar_fuel'] == False\n",
    "n2 = test['similar_plant'] == False\n",
    "\n",
    "print('pudl plants with non-matching fuel+plant and eia technology descriptions:')\n",
    "print('*note that many of these are waste')\n",
    "test[n1 & n2][test_view].plant_id_pudl.astype('int').unique()"
   ]
  },
  {
   "cell_type": "markdown",
   "id": "federal-trustee",
   "metadata": {},
   "source": [
    "### Look at plants that still have more than one technology type"
   ]
  },
  {
   "cell_type": "code",
   "execution_count": null,
   "id": "adjustable-joyce",
   "metadata": {
    "tags": []
   },
   "outputs": [],
   "source": [
    "more_than_one_fuel = tech_df.groupby(['plant_id_pudl']).filter(lambda x: len(x.tech_desc.dropna().unique()) > 1)\n",
    "len(more_than_one_fuel.plant_id_pudl.unique())\n",
    "more_than_one_fuel.plant_id_pudl.unique()"
   ]
  },
  {
   "cell_type": "code",
   "execution_count": 26,
   "id": "incorrect-warrant",
   "metadata": {
    "collapsed": true,
    "jupyter": {
     "outputs_hidden": true
    },
    "tags": []
   },
   "outputs": [
    {
     "data": {
      "text/plain": [
       "array([   2,    3,    5,   15,   44,   59,   64,   65,   73,   74,   75,\n",
       "         76,   77,   78,   79,   80,   91,  136,  142,  175,  189,  190,\n",
       "        202,  209,  210,  214,  216,  223,  246,  247,  255,  295,  296,\n",
       "        327,  329,  330,  347,  356,  359,  363,  365,  372,  397,  398,\n",
       "        423,  478,  481,  507,  540,  553,  554,  565,  575,  576,  578,\n",
       "        601,  632,  674,  681,  708,  711,  712,  713,  729,  747,  750,\n",
       "        752,  845,  897,  901,  903,  904,  908,  911,  925,  934,  940,\n",
       "        946,  947,  954,  958,  978, 1009, 1020, 1034, 1056, 1057, 1062,\n",
       "       1078, 1092, 1093, 1094, 1098, 1099, 1104, 1107, 1129, 1139, 1157,\n",
       "       1159, 1160, 1162, 1181, 1191, 1195, 1208, 1215, 1218, 1224, 1235,\n",
       "       1294, 1318, 1332, 1342, 1355, 1356, 1456, 1479, 1484, 1494, 1503,\n",
       "       1532, 1543, 1545, 1554, 1556, 1557, 1605, 1618, 1619, 1623, 1659,\n",
       "       1712, 1723, 1828, 1886])"
      ]
     },
     "execution_count": 26,
     "metadata": {},
     "output_type": "execute_result"
    }
   ],
   "source": [
    "# Look for ferc1 ids that have more than one fuel associated with them\n",
    "more_than_one_fuel = test2.groupby(['plant_id_ferc1']).filter(lambda x: len(x.tech_type.dropna().unique()) > 1)\n",
    "len(more_than_one_fuel.plant_id_ferc1.unique())\n",
    "more_than_one_fuel.plant_id_ferc1.unique().astype('int')"
   ]
  },
  {
   "cell_type": "code",
   "execution_count": 46,
   "id": "strange-coast",
   "metadata": {
    "collapsed": true,
    "jupyter": {
     "outputs_hidden": true
    },
    "tags": []
   },
   "outputs": [
    {
     "data": {
      "text/plain": [
       "array([], dtype=int64)"
      ]
     },
     "execution_count": 46,
     "metadata": {},
     "output_type": "execute_result"
    }
   ],
   "source": [
    "# Shows that of the plant_id_ferc1 values with more than one fuel over time, there are none that start\n",
    "# and end with the same fuel type (meaning, hopefully, there are no pockets in the middle.)\n",
    "more_than_one_fuel.sort_values(['report_year'])\n",
    "same_first_last = more_than_one_fuel.groupby(['plant_id_ferc1'])['tech_type'].agg(lambda x: x.max==x.min)\n",
    "more_than_one_fuel['same_first_last'] = more_than_one_fuel.plant_id_ferc1.map(same_first_last)\n",
    "more_than_one_fuel[more_than_one_fuel['same_first_last']][test_view + ['same_first_last']].plant_id_ferc1.unique().astype('int')"
   ]
  },
  {
   "cell_type": "code",
   "execution_count": 66,
   "id": "collective-affairs",
   "metadata": {
    "tags": []
   },
   "outputs": [
    {
     "data": {
      "text/plain": [
       "91"
      ]
     },
     "execution_count": 66,
     "metadata": {},
     "output_type": "execute_result"
    }
   ],
   "source": [
    "dd = test2[(test2['tech_type'].str.contains('coal')) & (test2['tech_type'].str.contains('steam')==False)][test_view + ['tech_type']]\n",
    "len(dd.plant_id_pudl.astype('int').unique())"
   ]
  },
  {
   "cell_type": "markdown",
   "id": "cffec1f4-caeb-4cba-bdf7-f5ee93734d11",
   "metadata": {},
   "source": [
    "## **2. Flag Totals**"
   ]
  },
  {
   "cell_type": "code",
   "execution_count": 10,
   "id": "f5533d8b-2b9b-4ffb-a49f-f2f00e4d522c",
   "metadata": {},
   "outputs": [
    {
     "name": "stdout",
     "output_type": "stream",
     "text": [
      " - flagging specific totals\n",
      " - adding manual totals\n",
      " - backfilling totals by capacity\n"
     ]
    }
   ],
   "source": [
    "flagged_tots_df = flag_steam_totals(tech_df)"
   ]
  },
  {
   "cell_type": "markdown",
   "id": "abb402d4-4024-4e98-8cbe-7acb921e4c2a",
   "metadata": {},
   "source": [
    "#### Total Values:\n",
    "\n",
    "* **plant total:** pudl plant totals where the plant is owned by more than one utility.\n",
    "* **utility owned total:** all of the assets owned by a utility\n",
    "* **utility owned plant total:** a utility's owned portion of a pudl plant\n",
    "* **utility owned plant total steam:** all of the utility's steam assets within a given pudl plant\n",
    "* **utility owned plant total nuclear:** all of the utility's nuclear assets within a given pudl plant\n",
    "* **utility owned subtotal:** the sum of several units within a pudl plant owned by one utility\n",
    "* **utility owned plant extra:** any extra amounts that are associated with a plant\n",
    "* **utility owned extra:** any extra amounts that are associated with all a utility's assets\n",
    "* **unit total:** the sum of a co-owned unit (sub-pudl plant id)\n",
    "---------"
   ]
  },
  {
   "cell_type": "markdown",
   "id": "4f098bb3-2d6b-4c78-acd1-9b861b4a49cd",
   "metadata": {},
   "source": [
    "### Test total groups"
   ]
  },
  {
   "cell_type": "code",
   "execution_count": 25,
   "id": "991105f1-c715-4f1f-98a0-bfe54135da30",
   "metadata": {},
   "outputs": [],
   "source": [
    "no_tots = flagged_tots_df[flagged_tots_df['total_type'].isna()].copy()"
   ]
  },
  {
   "cell_type": "code",
   "execution_count": null,
   "id": "8528b596-e86a-41de-8d5b-dec9c64dfb02",
   "metadata": {},
   "outputs": [],
   "source": [
    "no_tots['tech_desc']"
   ]
  },
  {
   "cell_type": "code",
   "execution_count": 12,
   "id": "bbc2673a-649b-4866-822c-7383762144b4",
   "metadata": {},
   "outputs": [],
   "source": [
    "flagged_tots_df"
   ]
  },
  {
   "cell_type": "code",
   "execution_count": null,
   "id": "9ef7002b-7f31-4db6-bb0f-52280d3b5a34",
   "metadata": {},
   "outputs": [],
   "source": [
    "# plant total \n",
    "# -- compare total values if multiple utilities reporting these totals\n",
    "# -- use total value from one utility for another (if needed)\n"
   ]
  },
  {
   "cell_type": "code",
   "execution_count": 11,
   "id": "d3bfe183-c2e1-431d-923e-99a8efaed268",
   "metadata": {},
   "outputs": [],
   "source": [
    "pudl_id_list = flagged_tots_df[flagged_tots_df['total_type']=='plant total']['plant_id_pudl'].unique().tolist()\n",
    "test_df = flagged_tots_df[flagged_tots_df['plant_id_pudl'].isin(pudl_id_list)]"
   ]
  },
  {
   "cell_type": "code",
   "execution_count": 12,
   "id": "4e9b295e-3a37-455e-b736-2d51da0aa713",
   "metadata": {},
   "outputs": [
    {
     "data": {
      "text/plain": [
       "array([ 288,  250,   16,  451, 1208,  612,  289,  317,  296, 1087,  383,\n",
       "        337,  308, 1665, 1165,  124,  530,  344,  611,  531,  168,  104,\n",
       "        653])"
      ]
     },
     "execution_count": 12,
     "metadata": {},
     "output_type": "execute_result"
    }
   ],
   "source": [
    "test_df.plant_id_pudl.unique()"
   ]
  },
  {
   "cell_type": "code",
   "execution_count": 83,
   "id": "dade039a-2e45-45ab-b858-0b1dd8585472",
   "metadata": {},
   "outputs": [],
   "source": [
    "one_plant = test_df[test_df['plant_id_pudl']==383]\n",
    "test = one_plant.sort_values(['report_year'])[test_view + ['primary_fuel_flag', 'total_type']]"
   ]
  },
  {
   "cell_type": "code",
   "execution_count": null,
   "id": "a8517e66-da5c-4775-b704-157e606c124e",
   "metadata": {},
   "outputs": [],
   "source": [
    "#flagged_tots_df.query(f\"plant_id_pudl=={random.choice(outlier_plants)}\")[test_view]"
   ]
  },
  {
   "cell_type": "markdown",
   "id": "6d233c25-f1eb-4238-9c37-a8db1b177d6b",
   "metadata": {},
   "source": [
    "### Find more fuel rows to flip"
   ]
  },
  {
   "cell_type": "code",
   "execution_count": 24,
   "id": "1af0e8c4-8479-411c-b821-8de9d96c733b",
   "metadata": {},
   "outputs": [],
   "source": [
    "#flagged_tots_df.query(\"plant_id_pudl==277\")[test_view]"
   ]
  },
  {
   "cell_type": "code",
   "execution_count": 34,
   "id": "3e2bc16a-dc88-4935-a1bd-221d43d980ef",
   "metadata": {
    "tags": []
   },
   "outputs": [],
   "source": [
    "aa = flagged_tots_df.assign(primary_fuel=lambda x: x.primary_fuel.fillna('unknown'))\n",
    "#show_year_outliers(aa).sort_values('unique_fuel_groups').query(\"new_year==False\")"
   ]
  },
  {
   "cell_type": "code",
   "execution_count": null,
   "id": "8fa33733-14d6-4abe-ac44-f1e26dc49815",
   "metadata": {},
   "outputs": [],
   "source": []
  },
  {
   "cell_type": "markdown",
   "id": "ddba6aed-a426-48b0-ad5f-79d94971660e",
   "metadata": {},
   "source": [
    "## **3. Aggregate to Utility-Tech Level**"
   ]
  },
  {
   "cell_type": "code",
   "execution_count": 139,
   "id": "9bd3eb44-e2ef-4454-8e69-e53a33920a9a",
   "metadata": {
    "tags": []
   },
   "outputs": [],
   "source": [
    "def agg_n_flag(flag_df, agg_col):\n",
    "    \"\"\"Aggregate specified column and create flag column based on total rows.\n",
    "    \n",
    "    \"\"\"\n",
    "    # For each report_year, utility_id_ferc1, plant_id_pudl, tech_desc group...\n",
    "    \n",
    "    # If all non-ttl rows have values and there are more than 0 just add 'em up\n",
    "    if (flag_df.loc[flag_df['total_type'].isna()][agg_col].notna().all()) & (len(flag_df.loc[flag_df['total_type'].isna()]) > 0): \n",
    "        flag = 'actual values provided'#None\n",
    "        agg_value = flag_df.loc[flag_df['total_type'].isna()][agg_col].sum()\n",
    "        return [agg_value, flag]\n",
    "    \n",
    "    # If there aren't any total rows, just take the sum cuz that's all you can do\n",
    "    elif flag_df['total_type'].isna().all():\n",
    "        flag = 'no total rows' #None\n",
    "        agg_value = flag_df[agg_col].sum()\n",
    "        return [agg_value, flag]\n",
    "    \n",
    "    # Now there ARE total rows and there ARE value rows with NA:\n",
    "    # If the total rows are all NA for the agg col, just take the sum cuz that's all you can do\n",
    "    elif flag_df[flag_df['total_type'].notna()][agg_col].isna().all():\n",
    "        flag = 'totals are NA'\n",
    "        agg_value = flag_df[agg_col].sum()\n",
    "        return [agg_value, flag]\n",
    "    \n",
    "    # If there are only total rows there's probably an issue with plant/fuel type mapping\n",
    "    elif flag_df['total_type'].notna().all():\n",
    "        flag = 'all rows only totals...'\n",
    "        agg_value = flag_df[agg_col].sum() # FIX \n",
    "        return [agg_value, flag]\n",
    "    \n",
    "    # If non-total value cols are all NA (and by default there are total rows with values):....FIX\n",
    "    elif flag_df[flag_df['total_type'].isna()][agg_col].isna().all():\n",
    "        flag = flag_df[flag_df[agg_col].notna()]['total_type'].unique()[0] # this might be bad...\n",
    "        agg_value = flag_df[flag_df['total_type'].notna()][agg_col].sum()\n",
    "        return [agg_value, flag]\n",
    "\n",
    "    # If some non-total value cols are NA but not all (and by default there are total rows with values):\n",
    "    else:\n",
    "        flag = 'some values are NA but not all'\n",
    "        agg_value = flag_df[agg_col].sum() # FIX\n",
    "        return [agg_value, flag]"
   ]
  },
  {
   "cell_type": "code",
   "execution_count": 140,
   "id": "6da4c204-19ba-4652-bacf-cdb0d4ec4ba1",
   "metadata": {
    "tags": []
   },
   "outputs": [],
   "source": [
    "def run_the_thing(df, agg_col):\n",
    "    print(f'starting aggregation for {agg_col}')\n",
    "    plant_group = df.groupby(['report_year', 'utility_id_ferc1', 'plant_id_pudl', 'tech_desc'])\n",
    "    col_agg_series = plant_group.apply(lambda x: agg_n_flag(x, agg_col))\n",
    "    col_agg_df = pd.DataFrame(col_agg_series).reset_index()\n",
    "    col_agg_df[[agg_col, f'{agg_col}_flag']] = pd.DataFrame(col_agg_df[0].tolist(), index=col_agg_df.index)\n",
    "    col_agg_df = col_agg_df.drop(columns=[0])\n",
    "    \n",
    "    util_agg_df = (\n",
    "        col_agg_df.groupby(['report_year', 'utility_id_ferc1', 'tech_desc'])\n",
    "        .agg({agg_col: 'sum', f'{agg_col}_flag': lambda x: ', '.join(list(x.dropna().unique()))})\n",
    "    )\n",
    "    return util_agg_df"
   ]
  },
  {
   "cell_type": "code",
   "execution_count": 142,
   "id": "bd94417f-f12b-47fc-a416-2de5ca3d4636",
   "metadata": {
    "tags": []
   },
   "outputs": [],
   "source": [
    "def run_the_whole_thing(df):\n",
    "    agg_df = pd.DataFrame(columns=['report_year', 'utility_id_ferc1', 'tech_desc'])\n",
    "    for col in value_cols:\n",
    "        one_col_df = run_the_thing(df, col)\n",
    "        #df_list.append(one_col_df)\n",
    "        agg_df = pd.merge(agg_df, one_col_df, on=['report_year', 'utility_id_ferc1', 'tech_desc'], how='outer')\n",
    "    return agg_df"
   ]
  },
  {
   "cell_type": "code",
   "execution_count": 151,
   "id": "bd0cf902-ea78-4edc-881c-ba75f7442cba",
   "metadata": {
    "collapsed": true,
    "jupyter": {
     "outputs_hidden": true
    },
    "tags": []
   },
   "outputs": [
    {
     "name": "stdout",
     "output_type": "stream",
     "text": [
      "starting aggregation for net_generation_mwh\n",
      "starting aggregation for avg_num_employees\n",
      "starting aggregation for capex_land\n",
      "starting aggregation for capex_equipment\n",
      "starting aggregation for capex_structures\n",
      "starting aggregation for capex_total\n",
      "starting aggregation for asset_retirement_cost\n",
      "starting aggregation for opex_operations\n",
      "starting aggregation for opex_fuel\n",
      "starting aggregation for opex_coolants\n",
      "starting aggregation for opex_steam\n",
      "starting aggregation for opex_steam_other\n",
      "starting aggregation for opex_transfer\n",
      "starting aggregation for opex_electric\n",
      "starting aggregation for opex_misc_power\n",
      "starting aggregation for opex_rents\n",
      "starting aggregation for opex_allowances\n",
      "starting aggregation for opex_engineering\n",
      "starting aggregation for opex_structures\n",
      "starting aggregation for opex_boiler\n",
      "starting aggregation for opex_plants\n",
      "starting aggregation for opex_misc_steam\n",
      "starting aggregation for opex_production_total\n",
      "starting aggregation for capacity_mw\n"
     ]
    }
   ],
   "source": [
    "whole_enchilada = run_the_whole_thing(flagged_tots_df)"
   ]
  },
  {
   "cell_type": "code",
   "execution_count": 146,
   "id": "ec32830f-5a02-4564-8c68-52a7e4b4a894",
   "metadata": {},
   "outputs": [],
   "source": [
    "whole_enchilada.to_excel('/Users/aesharpe/Desktop/full_tech_aggregation.xlsx')"
   ]
  },
  {
   "cell_type": "markdown",
   "id": "3bce1f08-90ac-4ac4-a36e-8482e7f73706",
   "metadata": {},
   "source": [
    "# **Test Small Generators Table**\n",
    "-------------"
   ]
  },
  {
   "cell_type": "code",
   "execution_count": null,
   "id": "7cbf0ba6-0ebe-4df7-8c9d-18ef11c420b2",
   "metadata": {},
   "outputs": [],
   "source": [
    "# Steps:\n",
    "# - clean and normalize rows\n",
    "# - name obvious rows"
   ]
  },
  {
   "cell_type": "code",
   "execution_count": 103,
   "id": "78e17508-7479-4b5a-b4c8-50565c245b91",
   "metadata": {
    "tags": []
   },
   "outputs": [
    {
     "name": "stderr",
     "output_type": "stream",
     "text": [
      "/Users/aesharpe/miniconda3/envs/pudl-dev/lib/python3.9/site-packages/fuzzywuzzy/fuzz.py:11: UserWarning: Using slow pure-python SequenceMatcher. Install python-Levenshtein to remove this warning\n",
      "  warnings.warn('Using slow pure-python SequenceMatcher. Install python-Levenshtein to remove this warning')\n"
     ]
    }
   ],
   "source": [
    "#! pip install fuzzywuzzy\n",
    "from fuzzywuzzy import process, fuzz"
   ]
  },
  {
   "cell_type": "code",
   "execution_count": null,
   "id": "241d7645-228e-410a-a2fa-e6e54d344d53",
   "metadata": {
    "tags": []
   },
   "outputs": [],
   "source": [
    "# see if you can work capacity into this or use Christina's matching mechanism that only checks within utility id\n",
    "\n",
    "eia_one_tech_ = eia_one_tech.dropna(subset=['technology_description'])\n",
    "\n",
    "plant_name_eia = []\n",
    "similarity = []\n",
    "for i in small_plants_one_plant.plant_name_ferc1:\n",
    "        ratio = process.extract( i, eia_one_tech_.plant_name_eia, limit=1)\n",
    "        plant_name_eia.append(ratio[0][0])\n",
    "        similarity.append(ratio[0][1])\n",
    "small_plants_one_plant['plant_name_eia'] = pd.Series(plant_name_eia)\n",
    "small_plants_one_plant['similarity'] = pd.Series(similarity)"
   ]
  },
  {
   "cell_type": "code",
   "execution_count": 109,
   "id": "72ac45b3-27f9-4bd0-be2d-62c4cc2fa2ce",
   "metadata": {},
   "outputs": [
    {
     "name": "stdout",
     "output_type": "stream",
     "text": [
      "7765\n",
      "1825\n"
     ]
    }
   ],
   "source": [
    "print(len(nada))\n",
    "print(len(nada[nada['plant_id_pudl'].notna()]))"
   ]
  },
  {
   "cell_type": "code",
   "execution_count": null,
   "id": "4f9f0187-c905-4f64-94cf-4a42015c9269",
   "metadata": {},
   "outputs": [],
   "source": []
  },
  {
   "cell_type": "code",
   "execution_count": 156,
   "id": "e00d7907-71ab-4917-82db-5b21f7de7155",
   "metadata": {},
   "outputs": [],
   "source": [
    "# flag total rows and remove them for now\n",
    "\n",
    "small_plants['total_row'] = False\n",
    "small_plants.loc[small_plants['plant_name_ferc1'].str.contains('total'), 'total_row'] = True\n",
    "small_plants = small_plants[small_plants['total_row']==False].copy()"
   ]
  },
  {
   "cell_type": "code",
   "execution_count": 157,
   "id": "a85f8373-ea78-4097-a2a1-3b7c08ace532",
   "metadata": {},
   "outputs": [],
   "source": [
    "# fix fuel types\n",
    "fix_fuel_types = {\n",
    "    'coal': ['coal'],\n",
    "    'oil': ['diesel', 'natural gas', 'diesel oil', 'oil', '#2 oil', '# 2 oil', 'no. 2', '#2', '#2 diesel', 'diesel-low s',\n",
    "            '#1 diesel', '#2 ls diesel', '#1 ls diesel', '#1 uls diesel', '#2 uls diesel', 'diesel-ultra low s',\n",
    "            'diesle-low s', 'diesel/', 'no. 2 oil', 'no. 6 oil', 'diesel fuel', 'fuel oil', 'bunker oil', 'no. 2 diesel'],\n",
    "    'gas': ['natural gas', 'gas', 'propane', 'methane', 'methane gas', 'nat gas', 'nat. gas', 'ng'],\n",
    "    'solar': ['solar'],\n",
    "    'wind': ['wind'], \n",
    "    'waste': ['waste heat', 'landfill gas'],\n",
    "    'hydro': ['hydro', 'water', 'run-of-rr', 'run-of-rv', 'run of river', 'run-of-river'],\n",
    "    'unknown': ['na', 'n/a', '--', '#6', '---------', 'a', 'a, b', 'a,b', 'pil', 'steam', '-', 'none', 'n.a.', '\"', 'fossil', '0',\n",
    "                None, '77509', '120976'], \n",
    "    'unclear': ['coal and gas', 'coal & gas', 'gas / oil', 'gas/oil', 'coal/oil', 'oil,n.gas', 'oil,nat.gas', 'oil-gas', 'oil/gas', \n",
    "                'diesel-low s or gas', 'gas-oil', 'gas - oil', 'coal/gas', 'rdf, gas', 'gas & oil', 'oil, nat .gas', 'oil, nat. gas',\n",
    "                'waste heat/gas', 'gas, fuel oil']\n",
    "}\n",
    "\n",
    "# map \"clean\" fuels onto table\n",
    "small_plants['clean_fuel'] = small_plants.fuel_type\n",
    "for fuel in fix_fuel_types:\n",
    "    small_plants['clean_fuel'] = small_plants.clean_fuel.replace(fix_fuel_types[fuel], fuel)"
   ]
  },
  {
   "cell_type": "code",
   "execution_count": 158,
   "id": "5266d74c-1157-44b6-92bc-ef7f729b909f",
   "metadata": {},
   "outputs": [],
   "source": [
    "# map obvious names\n",
    "\n",
    "def no_fake_names(fuel, name_exceptions):\n",
    "    no_fake_names = ~small_plants['plant_name_ferc1'].isin(name_exceptions)\n",
    "    good_names = small_plants['plant_name_ferc1'].str.contains(fuel)\n",
    "    return good_names, no_fake_names\n",
    "\n",
    "solar_name_exceptions = ['solar centaur gas turbine', 'solar centaur gas turbine (#13)']\n",
    "solar_names, no_fake_solar = no_fake_names('solar', solar_name_exceptions)\n",
    "\n",
    "gas_name_exceptions = ['gaston shoals (5)', 'gaston shoals (5)', 'gaston shoals - project 2332',\n",
    "                       'las vegas solar', 'wellford landfill gas to energy plant',\n",
    "                       'blackfoot landfill gas generation facility']\n",
    "gas_names, no_fake_gas = no_fake_names('gas', gas_name_exceptions)\n",
    "\n",
    "wind_name_exceptions = ['new windsor rd, hinsdale ma', 'windsor rd, savoy ma', 'lake winds energy park',\n",
    "                        'cross winds energy park', 'bison wind energy center'] # sc-etwind10-sol?\n",
    "wind_names, no_fake_wind = no_fake_names('wind', wind_name_exceptions)\n",
    "\n",
    "small_plants.loc[solar_names & no_fake_solar_names, 'clean_fuel'] = 'solar'\n",
    "small_plants.loc[gas_names & no_fake_gas_names, 'clean_fuel'] = 'gas'\n",
    "small_plants.loc[small_plants['plant_name_ferc1'].str.contains('hydro'), 'clean_fuel'] = 'hydro'\n",
    "small_plants.loc[small_plants['plant_name_ferc1'].str.contains('nuclear'), 'clean_fuel'] = 'nuclear'\n",
    "small_plants.loc[small_plants['plant_name_ferc1'].str.contains('diesel'), 'clean_fuel'] = 'oil'\n",
    "small_plants.loc[small_plants['plant_name_ferc1'].str.contains('oil'), 'clean_fuel'] = 'oil'"
   ]
  },
  {
   "cell_type": "code",
   "execution_count": 159,
   "id": "0c01a9a4-22f4-4514-a5a5-570732d13f98",
   "metadata": {},
   "outputs": [
    {
     "name": "stdout",
     "output_type": "stream",
     "text": [
      "rows with pudl id: 3132\n",
      "rows without pudl id: 11232\n",
      "plants with pudl id: 659\n"
     ]
    }
   ],
   "source": [
    "# Jankily assign pudl id to those that already have one\n",
    "\n",
    "# For now, removing any duplicates from the pudl map...\n",
    "ferc_eia_map = pd.read_excel(\"/Users/aesharpe/Desktop/mapping_eia923_ferc1.xlsx\", sheet_name='plants_output')\n",
    "ferc_eia_map = ferc_eia_map.drop_duplicates(subset=['plant_name_ferc1', 'utility_id_ferc1'], keep=False)\n",
    "\n",
    "small_plants_pudl_id = pd.merge(small_plants, ferc_eia_map, on=['plant_name_ferc1', 'utility_id_ferc1'], how='left')\n",
    "small_plants_pudl_id['plant_id_pudl'] = small_plants_pudl_id.plant_id_pudl.astype('Int64')\n",
    "\n",
    "print('rows with pudl id:', len(small_plants_pudl_id[small_plants_pudl_id['plant_id_pudl'].notna()]))\n",
    "print('rows without pudl id:', len(small_plants_pudl_id[small_plants_pudl_id['plant_id_pudl'].isna()]))\n",
    "\n",
    "print('plants with pudl id:', len(small_plants_pudl_id[small_plants_pudl_id['plant_id_pudl'].notna()].plant_id_pudl.unique()))"
   ]
  },
  {
   "cell_type": "code",
   "execution_count": 160,
   "id": "58432980-2e3a-42f4-b72b-c0f8a31b8348",
   "metadata": {},
   "outputs": [
    {
     "name": "stdout",
     "output_type": "stream",
     "text": [
      "plants with a possible eia tech description: 307\n",
      "plants without an eia tech description: 1487\n"
     ]
    }
   ],
   "source": [
    "# Merge with EIA technology description\n",
    "\n",
    "bb_eia = (\n",
    "    eia_one_tech[['plant_id_pudl', 'plant_name_eia', 'technology_description']].copy()\n",
    "    .drop_duplicates()\n",
    "    .dropna(subset=['technology_description']))\n",
    "\n",
    "plants_with_eia_desc = [plant for plant in bb_eia.plant_id_pudl.unique().dropna() if plant in small_plants_pudl_id.plant_id_pudl.unique().dropna()]\n",
    "plants_without_eia_desc = [plant for plant in small_plants_pudl_id.plant_id_pudl.dropna() if plant not in plants_with_eia_desc]\n",
    "\n",
    "print('plants with a possible eia tech description:', len(plants_with_eia_desc))\n",
    "print('plants without an eia tech description:', len(plants_without_eia_desc))\n"
   ]
  },
  {
   "cell_type": "code",
   "execution_count": 162,
   "id": "d261e605-0e98-49e0-8e5f-0b678c23d440",
   "metadata": {},
   "outputs": [
    {
     "name": "stdout",
     "output_type": "stream",
     "text": [
      "rows with non NA tech description: 1673\n",
      "rows with NA tech desc: 12719\n"
     ]
    }
   ],
   "source": [
    "# Add the tech description without accounting for year\n",
    "small_plants_tech_desc = pd.merge(small_plants_pudl_id, bb_eia, on=['plant_id_pudl'], how='left')\n",
    "\n",
    "# There are much fewer rows that got filled in likely because many of the technolgy descriptions in EIA were logged as NA\n",
    "print('rows with non NA tech description:', len(small_plants_tech_desc[small_plants_tech_desc['technology_description'].notna()]))\n",
    "print('rows with NA tech desc:', len(small_plants_tech_desc[small_plants_tech_desc['technology_description'].isna()]))"
   ]
  },
  {
   "cell_type": "code",
   "execution_count": 163,
   "id": "fbff0630-a97d-4a1f-881d-0d6dd1f54ce7",
   "metadata": {},
   "outputs": [],
   "source": [
    "sptd = small_plants_tech_desc.copy()"
   ]
  },
  {
   "cell_type": "code",
   "execution_count": 164,
   "id": "7db7c87f-41cf-46e9-8e22-48e08a1a6775",
   "metadata": {},
   "outputs": [
    {
     "name": "stdout",
     "output_type": "stream",
     "text": [
      "6701\n",
      "14392\n"
     ]
    }
   ],
   "source": [
    "no_tech = sptd['technology_description'].isna()\n",
    "no_fuel = sptd['clean_fuel'].isin(['unknown', 'unclear'])\n",
    "\n",
    "print(len(nada := sptd[no_tech & no_fuel]))\n",
    "print(len(sptd))"
   ]
  },
  {
   "cell_type": "code",
   "execution_count": 165,
   "id": "2d0ae24d-9d8c-400d-acac-c76e3e3e068b",
   "metadata": {},
   "outputs": [
    {
     "data": {
      "text/plain": [
       "761"
      ]
     },
     "execution_count": 165,
     "metadata": {},
     "output_type": "execute_result"
    }
   ],
   "source": [
    "len(nada[nada['plant_id_pudl'].notna()])"
   ]
  },
  {
   "cell_type": "code",
   "execution_count": null,
   "id": "36bd8060-1154-4ed9-9ded-a93dd4e09e40",
   "metadata": {},
   "outputs": [],
   "source": []
  }
 ],
 "metadata": {
  "kernelspec": {
   "display_name": "Python 3",
   "language": "python",
   "name": "python3"
  },
  "language_info": {
   "codemirror_mode": {
    "name": "ipython",
    "version": 3
   },
   "file_extension": ".py",
   "mimetype": "text/x-python",
   "name": "python",
   "nbconvert_exporter": "python",
   "pygments_lexer": "ipython3",
   "version": "3.9.4"
  }
 },
 "nbformat": 4,
 "nbformat_minor": 5
}

{
 "cells": [
  {
   "cell_type": "markdown",
   "id": "4935ba68-1f1a-4452-ac21-77a2d9885dbd",
   "metadata": {},
   "source": [
    "# Test Transform Module"
   ]
  },
  {
   "cell_type": "code",
   "execution_count": null,
   "id": "1b12a346-e243-45ed-b890-47f4e20ca743",
   "metadata": {},
   "outputs": [],
   "source": [
    "# To DO :\n"
   ]
  },
  {
   "cell_type": "markdown",
   "id": "2624938d-b777-4ee7-894f-94d54716bd64",
   "metadata": {},
   "source": [
    "### Setup"
   ]
  },
  {
   "cell_type": "code",
   "execution_count": 59,
   "id": "4d972975-a320-43bf-a9c4-894be7b63c99",
   "metadata": {
    "tags": []
   },
   "outputs": [
    {
     "name": "stdout",
     "output_type": "stream",
     "text": [
      "The autoreload extension is already loaded. To reload it, use:\n",
      "  %reload_ext autoreload\n"
     ]
    }
   ],
   "source": [
    "%load_ext autoreload\n",
    "%autoreload 2"
   ]
  },
  {
   "cell_type": "code",
   "execution_count": 60,
   "id": "7f152f3f-2780-4165-aff7-b4ff1232f26f",
   "metadata": {
    "jupyter": {
     "source_hidden": true
    },
    "tags": []
   },
   "outputs": [],
   "source": [
    "# Standard libraries\n",
    "import logging\n",
    "import sys\n",
    "import os\n",
    "import pathlib\n",
    "import random\n",
    "\n",
    "import pandas as pd\n",
    "import numpy as np\n",
    "import sqlalchemy as sa\n",
    "\n",
    "# Local libraries\n",
    "import pudl\n",
    "from pudl.analysis.fill_ferc1_fuel_gaps import *\n",
    "from pudl.analysis.flag_ferc1_totals import *\n",
    "from pudl.analysis.clean_combine_ferc1 import *\n",
    "\n",
    "# Enable viewing of logging outputs\n",
    "logger=logging.getLogger()\n",
    "logger.setLevel(logging.DEBUG)\n",
    "handler = logging.StreamHandler(stream=sys.stdout)\n",
    "formatter = logging.Formatter('%(message)s')\n",
    "handler.setFormatter(formatter)\n",
    "logger.handlers = [handler]"
   ]
  },
  {
   "cell_type": "code",
   "execution_count": 61,
   "id": "2f385475-cecd-4425-850b-618605463b0c",
   "metadata": {
    "tags": []
   },
   "outputs": [],
   "source": [
    "# Establish connection to pudl database\n",
    "pudl_settings = pudl.workspace.setup.get_defaults()\n",
    "pudl_engine = sa.create_engine(pudl_settings['pudl_db'])\n",
    "pudl_out = pudl.output.pudltabl.PudlTabl(\n",
    "    pudl_engine=pudl_engine,\n",
    "    freq='AS'\n",
    ")\n",
    "\n",
    "ferc_engine = sa.create_engine(pudl_settings['ferc1_db'])"
   ]
  },
  {
   "cell_type": "code",
   "execution_count": 62,
   "id": "e8e5fddd-32f0-4d4d-8440-58fbd53a7795",
   "metadata": {
    "tags": []
   },
   "outputs": [],
   "source": [
    "# View random utility groups! (thanks, Trenton)\n",
    "def view_random_utility(df):\n",
    "    df = df.reset_index(drop=True)\n",
    "    util_groups = df.groupby(['utility_id_ferc1'])\n",
    "    random_utility = random.choice(list(util_groups.groups.keys()))\n",
    "    return df.iloc[util_groups.groups[random_utility]]"
   ]
  },
  {
   "cell_type": "markdown",
   "id": "2448ab68-5268-4048-aff4-91f523bd3910",
   "metadata": {},
   "source": [
    "-------------"
   ]
  },
  {
   "cell_type": "markdown",
   "id": "41bc6efb-9309-4b93-8ce3-ce6f048a8188",
   "metadata": {},
   "source": [
    "### Basic Transform Stuff"
   ]
  },
  {
   "cell_type": "code",
   "execution_count": 83,
   "id": "3e3ff861-4d52-45cf-af8b-c2c73ff1958f",
   "metadata": {
    "tags": []
   },
   "outputs": [
    {
     "name": "stderr",
     "output_type": "stream",
     "text": [
      "/Users/aesharpe/miniconda3/envs/pudl-dev/lib/python3.9/site-packages/openpyxl/worksheet/_reader.py:312: UserWarning: Unknown extension is not supported and will be removed\n",
      "  warn(msg)\n"
     ]
    }
   ],
   "source": [
    "# # Establish table connections\n",
    "steam = pudl_out.plants_steam_ferc1().assign(primary_fuel=np.nan)\n",
    "hydro = pudl_out.plants_hydro_ferc1()\n",
    "pumped_storage = pudl_out.plants_pumped_storage_ferc1()\n",
    "fbp = pudl_out.fbp_ferc1()\n",
    "small_plants_clean = pudl_out.plants_small_ferc1()#.dropna(subset=['plant_name_ferc1'])\n",
    "eia = pudl_out.gens_eia860().copy()\n",
    "\n",
    "\n",
    "# Now because we don't want all the header rows dropped, we need to pull in a raw version of the small plants table\n",
    "# and run it manually through the transform process.\n",
    "# Get raw version of small plants\n",
    "small_plants_raw = pd.read_sql(\"f1_gnrt_plant\", ferc_engine)\n",
    "# Here we create a fake raw dfs dictionary with just the small plants df to run it through\n",
    "# Zane's existing transform feature.\n",
    "fake_dict = {'plants_small_ferc1': small_plants_raw}\n",
    "new_dict = {}\n",
    "small_plants_dict = pudl.transform.ferc1.plants_small(fake_dict, new_dict)\n",
    "small_plants = small_plants_dict['plants_small_ferc1']\n",
    "# Add pudl id column\n",
    "from pudl.output.ferc1 import plants_utils_ferc1\n",
    "small_plants = pd.merge(\n",
    "    small_plants, plants_utils_ferc1(pudl_engine), \n",
    "    on=['utility_id_ferc1', 'plant_name_ferc1'], how='left')\n",
    "small_plants.loc[:,'plant_id_pudl'] = small_plants.plant_id_pudl.astype('Int64')\n",
    "small_plants.loc[:,'utility_id_pudl'] = small_plants.utility_id_pudl.astype('Int64')\n",
    "\n",
    "first_cols = ['report_year', 'utility_id_ferc1', 'utility_id_pudl',\n",
    "              'utility_name_ferc1', 'plant_id_pudl', 'plant_name_ferc1', 'plant_name_original']\n",
    "\n",
    "small_plants = pudl.helpers.organize_cols(small_plants, first_cols)\n",
    "\n",
    "# Drop rows with no plant name because we can't use that\n",
    "# small_plants = small_plants.dropna(subset=['plant_name_original'])"
   ]
  },
  {
   "cell_type": "code",
   "execution_count": 64,
   "id": "d5d85c67-3797-4bc0-9037-2514138511e3",
   "metadata": {},
   "outputs": [],
   "source": [
    "ferc1_tables = {'steam': steam, 'small': small_plants, 'hydro': hydro, 'pumped': pumped_storage}"
   ]
  },
  {
   "cell_type": "code",
   "execution_count": 87,
   "id": "eb984ef1-6007-46b7-aaa2-e8058c191de9",
   "metadata": {
    "tags": []
   },
   "outputs": [],
   "source": [
    "steam_ferc = SteamTable('steam', ferc1_tables['steam'].copy(), steam_value_cols, pudl_out)\n",
    "small_ferc = SmallTable('small', ferc1_tables['small'].copy(), small_value_cols)\n",
    "hydro_ferc = HydroTable('hydro', ferc1_tables['hydro'].copy(), hydro_value_cols)\n",
    "ps_ferc = HydroTable('pumped-storage', ferc1_tables['pumped'].copy(), pumped_value_cols)\n",
    "table_list = [steam_ferc, small_ferc, hydro_ferc, ps_ferc]"
   ]
  },
  {
   "cell_type": "code",
   "execution_count": 88,
   "id": "f676b0f9-93c1-49f7-b522-eff138e24ab2",
   "metadata": {
    "collapsed": true,
    "jupyter": {
     "outputs_hidden": true
    },
    "tags": []
   },
   "outputs": [
    {
     "name": "stdout",
     "output_type": "stream",
     "text": [
      "\n",
      "*** TRANSFORMING STEAM TABLE ***\n",
      "Cleaning steam table\n",
      "Flagging totals rows for steam table\n",
      " - flagging specific totals\n",
      " - adding manual totals\n",
      " - backfilling totals by capacity\n",
      "Labeling fuel types for steam table\n",
      " - loading EIA table\n",
      " - adding fuel types\n",
      "  * filling fuels with obvious names\n",
      "    27072 / 29102 rows left unfilled\n",
      "  * filling in primary fuel by mmbtu\n",
      "    3872 / 29102 rows left unfilled\n",
      "  * filling in eia plants with one reported fuel\n",
      "    2527 / 29104 rows left unfilled\n",
      "  * filling in primary fuel by cost\n",
      "    2258 / 29104 rows left unfilled\n",
      "  * filling in raw ferc1 fuels\n",
      "    2114 / 29104 rows left unfilled\n",
      "  * filling in ferc plants with one fuel\n",
      "    1316 / 29104 rows left unfilled\n",
      "  * filling in pudl plants with one fuel\n",
      "    1187 / 29104 rows left unfilled\n",
      "  * filling in manually mapped fuels\n",
      "    1098 / 29104 rows left unfilled\n",
      "  * front and backfilling values with the same ferc1 id\n",
      "    842 / 29104 rows left unfilled\n",
      "  * flipping single fuel outliers for plant_id_ferc1\n",
      "    842 / 29104 rows left unfilled\n",
      "  * flipping multiple fuel outliers for groups under 7\n",
      "    842 / 29104 rows left unfilled\n",
      "  * flipping single outliers by capacity\n",
      " - adding plant types\n",
      "  * filling plants with obvious names\n",
      "    771 / 28527 rows left unfilled\n",
      "  * filling in manually mapped plant types\n",
      " - adding tech types\n",
      "  * merging single-tech EIA technology_description with FERC\n",
      "    25502 / 28527 rows left unfilled\n",
      "  * backfilling EIA technology_description by year if no new units installed\n",
      "    15041 / 28527 rows left unfilled\n",
      "  * combining primary_fuel and plant_type columns\n",
      "    701 / 28527 rows left unfilled\n",
      "  * making uniform tech description col\n",
      "\n",
      "*** TRANSFORMING SMALL TABLE ***\n",
      "Cleaning small table\n",
      " - Pre-clean length: 19245\n",
      " - Post-clean length: 19187\n",
      "Flagging totals rows for small table\n",
      " - using basic total flag\n",
      "Labeling fuel types for small table\n",
      "Adding a column for FERC licenses\n",
      " - manually added licenses:             1842\n",
      " - programatically scraped licenses:             3839\n",
      "\n",
      "PROOF: ROWS WHERE PROG ID DOES NOT MATCH MANUAL ID: \n",
      "              plant_name_ferc1  report_year  ferc_license_manual  ferc_license\n",
      "9776   rochester station #160         2006                 2596           160\n",
      "10472  rochester station #160         2007                 2596           160 \n",
      "\n",
      "Labeling possible headers\n",
      "Identifying header clumps...this'll take a second\n"
     ]
    },
    {
     "name": "stderr",
     "output_type": "stream",
     "text": [
      "100%|██████████| 1880/1880 [00:20<00:00, 90.90it/s] "
     ]
    },
    {
     "name": "stdout",
     "output_type": "stream",
     "text": [
      " - validating clump findings\n",
      "Assigning headers to groups\n",
      " - likely headers that have not been mapped: ['hydraulic' 'other:' 'other production:' 'lewiston canal facilities:'\n",
      " 'other' 'hydraulic (1):' 'hydraulic:'\n",
      " 'other general ops. supervision & engineering' 'other-leased:'\n",
      " 'renewables' 'renewables:']\n",
      " - creating header groups\n",
      " - assigning headers to groups\n"
     ]
    },
    {
     "name": "stderr",
     "output_type": "stream",
     "text": [
      "\n"
     ]
    },
    {
     "name": "stdout",
     "output_type": "stream",
     "text": [
      "Labeling all obvious headers\n",
      " - labeling all headers with a tech name in their name\n",
      " - labeling all records with a ferc license hydro\n",
      "\n",
      "header matches manual plant type: 4902\n",
      "total manual plant types: 6534\n",
      "total headers mapped: 14892\n",
      "total headers with manual: 15837\n",
      "total rows: 17356\n",
      "\n",
      "\n",
      "*** TRANSFORMING HYDRO TABLE ***\n",
      "Cleaning hydro table\n",
      "Flagging totals rows for hydro table\n",
      " - using basic total flag\n",
      "Labeling fuel types for hydro table\n",
      "\n",
      "*** TRANSFORMING PUMPED-STORAGE TABLE ***\n",
      "Cleaning pumped-storage table\n",
      "Flagging totals rows for pumped-storage table\n",
      " - using basic total flag\n",
      "Labeling fuel types for pumped-storage table\n"
     ]
    }
   ],
   "source": [
    "for table in table_list:\n",
    "    table.transform()"
   ]
  },
  {
   "cell_type": "code",
   "execution_count": 78,
   "id": "55712186-d2fe-43b5-904e-b7ceb886764c",
   "metadata": {
    "tags": []
   },
   "outputs": [],
   "source": [
    "test = small_ferc.df.copy()"
   ]
  },
  {
   "cell_type": "code",
   "execution_count": 85,
   "id": "50969e10-7205-4e45-92a6-8d2f56c26875",
   "metadata": {},
   "outputs": [
    {
     "name": "stdout",
     "output_type": "stream",
     "text": [
      "17356\n",
      "2201\n"
     ]
    }
   ],
   "source": [
    "print(len(test))\n",
    "print(len(test[test['plant_id_pudl'].isna()]))\n",
    "sgp_id = test['plant_id_pudl'].unique()\n",
    "eia_ids = eia['plant_id_pudl'].unique()"
   ]
  },
  {
   "cell_type": "code",
   "execution_count": 86,
   "id": "11029721-528f-4a83-b086-ed0fd8a47518",
   "metadata": {},
   "outputs": [
    {
     "data": {
      "text/plain": [
       "648"
      ]
     },
     "execution_count": 86,
     "metadata": {},
     "output_type": "execute_result"
    }
   ],
   "source": [
    "# PUDL IDS that also appear in EIA\n",
    "len([x for x in sgp_id if x in eia_ids])"
   ]
  },
  {
   "cell_type": "markdown",
   "id": "91330a34-7069-4634-9e8a-3f9c0078ff5d",
   "metadata": {},
   "source": [
    "### Totals and Aggregation"
   ]
  },
  {
   "cell_type": "code",
   "execution_count": 48,
   "id": "1d6bf84c-d1f0-469b-b6f1-6c725e67df70",
   "metadata": {
    "tags": []
   },
   "outputs": [
    {
     "data": {
      "text/plain": [
       "array([None, 'plant total', 'utility owned extra', 'utility owned total',\n",
       "       'utility owned steam extra',\n",
       "       'utility owned combustion turbine extra',\n",
       "       'utility owned nuclear extra'], dtype=object)"
      ]
     },
     "execution_count": 48,
     "metadata": {},
     "output_type": "execute_result"
    }
   ],
   "source": [
    "steam_ferc.df.total_type.unique()"
   ]
  },
  {
   "cell_type": "code",
   "execution_count": 38,
   "id": "aa361e59-cb85-4a34-ba64-36da9bd7ea7d",
   "metadata": {},
   "outputs": [],
   "source": [
    "aa = pd.read_excel('/Users/aesharpe/Desktop/manual_total_types.xlsx')"
   ]
  },
  {
   "cell_type": "code",
   "execution_count": 39,
   "id": "239daf8f-8bb8-4689-891e-dbdc4c6aa826",
   "metadata": {},
   "outputs": [],
   "source": [
    "bb = aa.assign(report_year=lambda x: ([list(range(start, end)) for start, end in x[['start_year', 'end_year']].values]))"
   ]
  },
  {
   "cell_type": "code",
   "execution_count": 41,
   "id": "be4621d1-b8d6-41ef-881e-406940202e84",
   "metadata": {},
   "outputs": [],
   "source": [
    "cc = bb.explode('report_year')"
   ]
  },
  {
   "cell_type": "code",
   "execution_count": 45,
   "id": "fb055cc5-a5c1-44a7-84c7-06599b2d610a",
   "metadata": {},
   "outputs": [],
   "source": [
    "dd = cc.assign(record_id=lambda x: ('f1_steam_' + x.report_year.astype('str') + x.id_suffix))[['record_id', 'total_type_manual']].copy()"
   ]
  },
  {
   "cell_type": "code",
   "execution_count": 47,
   "id": "bc6debd5-7a48-4c86-8dce-b77cf0157a86",
   "metadata": {},
   "outputs": [
    {
     "data": {
      "text/plain": [
       "array(['utility owned plant total', 'plant total', 'unit total',\n",
       "       'utility owned plant total steam', 'utility owned total',\n",
       "       'utility owned subtotal', 'utility owned total nuclear',\n",
       "       'utility owned plant extra'], dtype=object)"
      ]
     },
     "execution_count": 47,
     "metadata": {},
     "output_type": "execute_result"
    }
   ],
   "source": [
    "dd.total_type_manual.unique()"
   ]
  },
  {
   "cell_type": "markdown",
   "id": "390b7faa-a4dc-403e-a700-026e9f47fda3",
   "metadata": {},
   "source": [
    "### Show change in technology description in EIA records "
   ]
  },
  {
   "cell_type": "code",
   "execution_count": 16,
   "id": "905a2a69-3f1a-4fc5-9502-e6d80d36aa14",
   "metadata": {},
   "outputs": [],
   "source": [
    "eia['report_year'] = eia['report_date'].dt.year"
   ]
  },
  {
   "cell_type": "code",
   "execution_count": 17,
   "id": "c7f0ac18-6b5c-428a-b5df-a9ebeb7a3930",
   "metadata": {},
   "outputs": [],
   "source": [
    "eia['tech_diff'] = (\n",
    "    eia.groupby(['plant_id_eia', 'generator_id',])['technology_description']\n",
    "    .transform(lambda x: len(x.dropna().unique()) > 1)\n",
    ")"
   ]
  },
  {
   "cell_type": "code",
   "execution_count": 46,
   "id": "3c8e4ebf-391b-48e3-9718-15ae7fe7aace",
   "metadata": {
    "collapsed": true,
    "jupyter": {
     "outputs_hidden": true
    },
    "tags": []
   },
   "outputs": [
    {
     "data": {
      "text/html": [
       "<div>\n",
       "<style scoped>\n",
       "    .dataframe tbody tr th:only-of-type {\n",
       "        vertical-align: middle;\n",
       "    }\n",
       "\n",
       "    .dataframe tbody tr th {\n",
       "        vertical-align: top;\n",
       "    }\n",
       "\n",
       "    .dataframe thead th {\n",
       "        text-align: right;\n",
       "    }\n",
       "</style>\n",
       "<table border=\"1\" class=\"dataframe\">\n",
       "  <thead>\n",
       "    <tr style=\"text-align: right;\">\n",
       "      <th></th>\n",
       "      <th>report_date</th>\n",
       "      <th>plant_id_eia</th>\n",
       "      <th>plant_id_pudl</th>\n",
       "      <th>plant_name_eia</th>\n",
       "      <th>generator_id</th>\n",
       "      <th>technology_description</th>\n",
       "      <th>operating_date</th>\n",
       "      <th>current_planned_operating_date</th>\n",
       "      <th>energy_source_code_1</th>\n",
       "      <th>fuel_type_code_pudl</th>\n",
       "      <th>energy_source_code_2</th>\n",
       "      <th>multiple_fuels</th>\n",
       "      <th>planned_modifications</th>\n",
       "      <th>operating_switch</th>\n",
       "      <th>operational_status</th>\n",
       "      <th>planned_modifications</th>\n",
       "      <th>planned_repower_date</th>\n",
       "    </tr>\n",
       "  </thead>\n",
       "  <tbody>\n",
       "    <tr>\n",
       "      <th>354707</th>\n",
       "      <td>2004-01-01</td>\n",
       "      <td>56134</td>\n",
       "      <td>4820</td>\n",
       "      <td>Stockton Regional Water Control Facility</td>\n",
       "      <td>101</td>\n",
       "      <td>None</td>\n",
       "      <td>2000-11-01</td>\n",
       "      <td>None</td>\n",
       "      <td>OBG</td>\n",
       "      <td>gas</td>\n",
       "      <td>NG</td>\n",
       "      <td>None</td>\n",
       "      <td>None</td>\n",
       "      <td>None</td>\n",
       "      <td>existing</td>\n",
       "      <td>None</td>\n",
       "      <td>None</td>\n",
       "    </tr>\n",
       "    <tr>\n",
       "      <th>335129</th>\n",
       "      <td>2005-01-01</td>\n",
       "      <td>56134</td>\n",
       "      <td>4820</td>\n",
       "      <td>Stockton Regional Water Control Facility</td>\n",
       "      <td>101</td>\n",
       "      <td>None</td>\n",
       "      <td>2000-11-01</td>\n",
       "      <td>None</td>\n",
       "      <td>OBG</td>\n",
       "      <td>gas</td>\n",
       "      <td>NG</td>\n",
       "      <td>None</td>\n",
       "      <td>None</td>\n",
       "      <td>None</td>\n",
       "      <td>existing</td>\n",
       "      <td>None</td>\n",
       "      <td>None</td>\n",
       "    </tr>\n",
       "    <tr>\n",
       "      <th>315225</th>\n",
       "      <td>2006-01-01</td>\n",
       "      <td>56134</td>\n",
       "      <td>4820</td>\n",
       "      <td>Stockton Regional Water Control Facility</td>\n",
       "      <td>101</td>\n",
       "      <td>None</td>\n",
       "      <td>2000-11-01</td>\n",
       "      <td>None</td>\n",
       "      <td>OBG</td>\n",
       "      <td>gas</td>\n",
       "      <td>NG</td>\n",
       "      <td>True</td>\n",
       "      <td>None</td>\n",
       "      <td>None</td>\n",
       "      <td>existing</td>\n",
       "      <td>None</td>\n",
       "      <td>None</td>\n",
       "    </tr>\n",
       "    <tr>\n",
       "      <th>294796</th>\n",
       "      <td>2007-01-01</td>\n",
       "      <td>56134</td>\n",
       "      <td>4820</td>\n",
       "      <td>Stockton Regional Water Control Facility</td>\n",
       "      <td>101</td>\n",
       "      <td>None</td>\n",
       "      <td>2000-11-01</td>\n",
       "      <td>None</td>\n",
       "      <td>OBG</td>\n",
       "      <td>gas</td>\n",
       "      <td>NG</td>\n",
       "      <td>True</td>\n",
       "      <td>True</td>\n",
       "      <td>None</td>\n",
       "      <td>existing</td>\n",
       "      <td>True</td>\n",
       "      <td>None</td>\n",
       "    </tr>\n",
       "    <tr>\n",
       "      <th>273487</th>\n",
       "      <td>2008-01-01</td>\n",
       "      <td>56134</td>\n",
       "      <td>4820</td>\n",
       "      <td>Stockton Regional Water Control Facility</td>\n",
       "      <td>101</td>\n",
       "      <td>None</td>\n",
       "      <td>2000-11-01</td>\n",
       "      <td>None</td>\n",
       "      <td>OBG</td>\n",
       "      <td>gas</td>\n",
       "      <td>NG</td>\n",
       "      <td>True</td>\n",
       "      <td>False</td>\n",
       "      <td>None</td>\n",
       "      <td>existing</td>\n",
       "      <td>False</td>\n",
       "      <td>None</td>\n",
       "    </tr>\n",
       "    <tr>\n",
       "      <th>251659</th>\n",
       "      <td>2009-01-01</td>\n",
       "      <td>56134</td>\n",
       "      <td>4820</td>\n",
       "      <td>Stockton Regional Water Control Facility</td>\n",
       "      <td>101</td>\n",
       "      <td>None</td>\n",
       "      <td>2000-11-01</td>\n",
       "      <td>None</td>\n",
       "      <td>OBG</td>\n",
       "      <td>gas</td>\n",
       "      <td>NG</td>\n",
       "      <td>True</td>\n",
       "      <td>False</td>\n",
       "      <td>None</td>\n",
       "      <td>existing</td>\n",
       "      <td>False</td>\n",
       "      <td>None</td>\n",
       "    </tr>\n",
       "    <tr>\n",
       "      <th>230969</th>\n",
       "      <td>2010-01-01</td>\n",
       "      <td>56134</td>\n",
       "      <td>4820</td>\n",
       "      <td>Stockton Regional Water Control Facility</td>\n",
       "      <td>101</td>\n",
       "      <td>None</td>\n",
       "      <td>2000-11-01</td>\n",
       "      <td>None</td>\n",
       "      <td>OBG</td>\n",
       "      <td>gas</td>\n",
       "      <td>NG</td>\n",
       "      <td>True</td>\n",
       "      <td>False</td>\n",
       "      <td>None</td>\n",
       "      <td>existing</td>\n",
       "      <td>False</td>\n",
       "      <td>None</td>\n",
       "    </tr>\n",
       "    <tr>\n",
       "      <th>209570</th>\n",
       "      <td>2011-01-01</td>\n",
       "      <td>56134</td>\n",
       "      <td>4820</td>\n",
       "      <td>Stockton Regional Water Control Facility</td>\n",
       "      <td>101</td>\n",
       "      <td>None</td>\n",
       "      <td>2000-11-01</td>\n",
       "      <td>None</td>\n",
       "      <td>OBG</td>\n",
       "      <td>gas</td>\n",
       "      <td>NG</td>\n",
       "      <td>True</td>\n",
       "      <td>False</td>\n",
       "      <td>None</td>\n",
       "      <td>existing</td>\n",
       "      <td>False</td>\n",
       "      <td>None</td>\n",
       "    </tr>\n",
       "    <tr>\n",
       "      <th>187764</th>\n",
       "      <td>2012-01-01</td>\n",
       "      <td>56134</td>\n",
       "      <td>4820</td>\n",
       "      <td>Stockton Regional Water Control Facility</td>\n",
       "      <td>101</td>\n",
       "      <td>None</td>\n",
       "      <td>2000-11-01</td>\n",
       "      <td>None</td>\n",
       "      <td>OBG</td>\n",
       "      <td>gas</td>\n",
       "      <td>NG</td>\n",
       "      <td>True</td>\n",
       "      <td>False</td>\n",
       "      <td>None</td>\n",
       "      <td>existing</td>\n",
       "      <td>False</td>\n",
       "      <td>None</td>\n",
       "    </tr>\n",
       "    <tr>\n",
       "      <th>165181</th>\n",
       "      <td>2013-01-01</td>\n",
       "      <td>56134</td>\n",
       "      <td>4820</td>\n",
       "      <td>Stockton Regional Water Control Facility</td>\n",
       "      <td>101</td>\n",
       "      <td>None</td>\n",
       "      <td>2000-11-01</td>\n",
       "      <td>None</td>\n",
       "      <td>NG</td>\n",
       "      <td>gas</td>\n",
       "      <td>OBG</td>\n",
       "      <td>None</td>\n",
       "      <td>None</td>\n",
       "      <td>None</td>\n",
       "      <td>existing</td>\n",
       "      <td>None</td>\n",
       "      <td>None</td>\n",
       "    </tr>\n",
       "    <tr>\n",
       "      <th>141466</th>\n",
       "      <td>2014-01-01</td>\n",
       "      <td>56134</td>\n",
       "      <td>4820</td>\n",
       "      <td>Stockton Regional Water Control Facility</td>\n",
       "      <td>101</td>\n",
       "      <td>Natural Gas Internal Combustion Engine</td>\n",
       "      <td>2000-11-01</td>\n",
       "      <td>None</td>\n",
       "      <td>NG</td>\n",
       "      <td>gas</td>\n",
       "      <td>OBG</td>\n",
       "      <td>None</td>\n",
       "      <td>None</td>\n",
       "      <td>None</td>\n",
       "      <td>existing</td>\n",
       "      <td>None</td>\n",
       "      <td>None</td>\n",
       "    </tr>\n",
       "    <tr>\n",
       "      <th>117024</th>\n",
       "      <td>2015-01-01</td>\n",
       "      <td>56134</td>\n",
       "      <td>4820</td>\n",
       "      <td>Stockton Regional Water Control Facility</td>\n",
       "      <td>101</td>\n",
       "      <td>Natural Gas Internal Combustion Engine</td>\n",
       "      <td>2000-11-01</td>\n",
       "      <td>None</td>\n",
       "      <td>NG</td>\n",
       "      <td>gas</td>\n",
       "      <td>OBG</td>\n",
       "      <td>None</td>\n",
       "      <td>None</td>\n",
       "      <td>None</td>\n",
       "      <td>existing</td>\n",
       "      <td>None</td>\n",
       "      <td>None</td>\n",
       "    </tr>\n",
       "    <tr>\n",
       "      <th>92010</th>\n",
       "      <td>2016-01-01</td>\n",
       "      <td>56134</td>\n",
       "      <td>4820</td>\n",
       "      <td>Stockton Regional Water Control Facility</td>\n",
       "      <td>101</td>\n",
       "      <td>Natural Gas Internal Combustion Engine</td>\n",
       "      <td>2000-11-01</td>\n",
       "      <td>None</td>\n",
       "      <td>NG</td>\n",
       "      <td>gas</td>\n",
       "      <td>OBG</td>\n",
       "      <td>True</td>\n",
       "      <td>None</td>\n",
       "      <td>None</td>\n",
       "      <td>existing</td>\n",
       "      <td>None</td>\n",
       "      <td>None</td>\n",
       "    </tr>\n",
       "    <tr>\n",
       "      <th>65860</th>\n",
       "      <td>2017-01-01</td>\n",
       "      <td>56134</td>\n",
       "      <td>4820</td>\n",
       "      <td>Stockton Regional Water Control Facility</td>\n",
       "      <td>101</td>\n",
       "      <td>Natural Gas Internal Combustion Engine</td>\n",
       "      <td>2000-11-01</td>\n",
       "      <td>None</td>\n",
       "      <td>NG</td>\n",
       "      <td>gas</td>\n",
       "      <td>OBG</td>\n",
       "      <td>True</td>\n",
       "      <td>None</td>\n",
       "      <td>None</td>\n",
       "      <td>existing</td>\n",
       "      <td>None</td>\n",
       "      <td>None</td>\n",
       "    </tr>\n",
       "    <tr>\n",
       "      <th>39144</th>\n",
       "      <td>2018-01-01</td>\n",
       "      <td>56134</td>\n",
       "      <td>4820</td>\n",
       "      <td>Stockton Regional Water Control Facility</td>\n",
       "      <td>101</td>\n",
       "      <td>Other Waste Biomass</td>\n",
       "      <td>2000-11-01</td>\n",
       "      <td>None</td>\n",
       "      <td>OBG</td>\n",
       "      <td>gas</td>\n",
       "      <td>NG</td>\n",
       "      <td>True</td>\n",
       "      <td>None</td>\n",
       "      <td>None</td>\n",
       "      <td>existing</td>\n",
       "      <td>None</td>\n",
       "      <td>None</td>\n",
       "    </tr>\n",
       "    <tr>\n",
       "      <th>11287</th>\n",
       "      <td>2019-01-01</td>\n",
       "      <td>56134</td>\n",
       "      <td>4820</td>\n",
       "      <td>Stockton Regional Water Control Facility</td>\n",
       "      <td>101</td>\n",
       "      <td>Other Waste Biomass</td>\n",
       "      <td>2000-11-01</td>\n",
       "      <td>None</td>\n",
       "      <td>OBG</td>\n",
       "      <td>gas</td>\n",
       "      <td>NG</td>\n",
       "      <td>True</td>\n",
       "      <td>None</td>\n",
       "      <td>None</td>\n",
       "      <td>existing</td>\n",
       "      <td>None</td>\n",
       "      <td>None</td>\n",
       "    </tr>\n",
       "  </tbody>\n",
       "</table>\n",
       "</div>"
      ],
      "text/plain": [
       "       report_date  plant_id_eia  plant_id_pudl  \\\n",
       "354707  2004-01-01         56134           4820   \n",
       "335129  2005-01-01         56134           4820   \n",
       "315225  2006-01-01         56134           4820   \n",
       "294796  2007-01-01         56134           4820   \n",
       "273487  2008-01-01         56134           4820   \n",
       "251659  2009-01-01         56134           4820   \n",
       "230969  2010-01-01         56134           4820   \n",
       "209570  2011-01-01         56134           4820   \n",
       "187764  2012-01-01         56134           4820   \n",
       "165181  2013-01-01         56134           4820   \n",
       "141466  2014-01-01         56134           4820   \n",
       "117024  2015-01-01         56134           4820   \n",
       "92010   2016-01-01         56134           4820   \n",
       "65860   2017-01-01         56134           4820   \n",
       "39144   2018-01-01         56134           4820   \n",
       "11287   2019-01-01         56134           4820   \n",
       "\n",
       "                                  plant_name_eia generator_id  \\\n",
       "354707  Stockton Regional Water Control Facility          101   \n",
       "335129  Stockton Regional Water Control Facility          101   \n",
       "315225  Stockton Regional Water Control Facility          101   \n",
       "294796  Stockton Regional Water Control Facility          101   \n",
       "273487  Stockton Regional Water Control Facility          101   \n",
       "251659  Stockton Regional Water Control Facility          101   \n",
       "230969  Stockton Regional Water Control Facility          101   \n",
       "209570  Stockton Regional Water Control Facility          101   \n",
       "187764  Stockton Regional Water Control Facility          101   \n",
       "165181  Stockton Regional Water Control Facility          101   \n",
       "141466  Stockton Regional Water Control Facility          101   \n",
       "117024  Stockton Regional Water Control Facility          101   \n",
       "92010   Stockton Regional Water Control Facility          101   \n",
       "65860   Stockton Regional Water Control Facility          101   \n",
       "39144   Stockton Regional Water Control Facility          101   \n",
       "11287   Stockton Regional Water Control Facility          101   \n",
       "\n",
       "                        technology_description operating_date  \\\n",
       "354707                                    None     2000-11-01   \n",
       "335129                                    None     2000-11-01   \n",
       "315225                                    None     2000-11-01   \n",
       "294796                                    None     2000-11-01   \n",
       "273487                                    None     2000-11-01   \n",
       "251659                                    None     2000-11-01   \n",
       "230969                                    None     2000-11-01   \n",
       "209570                                    None     2000-11-01   \n",
       "187764                                    None     2000-11-01   \n",
       "165181                                    None     2000-11-01   \n",
       "141466  Natural Gas Internal Combustion Engine     2000-11-01   \n",
       "117024  Natural Gas Internal Combustion Engine     2000-11-01   \n",
       "92010   Natural Gas Internal Combustion Engine     2000-11-01   \n",
       "65860   Natural Gas Internal Combustion Engine     2000-11-01   \n",
       "39144                      Other Waste Biomass     2000-11-01   \n",
       "11287                      Other Waste Biomass     2000-11-01   \n",
       "\n",
       "       current_planned_operating_date energy_source_code_1  \\\n",
       "354707                           None                  OBG   \n",
       "335129                           None                  OBG   \n",
       "315225                           None                  OBG   \n",
       "294796                           None                  OBG   \n",
       "273487                           None                  OBG   \n",
       "251659                           None                  OBG   \n",
       "230969                           None                  OBG   \n",
       "209570                           None                  OBG   \n",
       "187764                           None                  OBG   \n",
       "165181                           None                   NG   \n",
       "141466                           None                   NG   \n",
       "117024                           None                   NG   \n",
       "92010                            None                   NG   \n",
       "65860                            None                   NG   \n",
       "39144                            None                  OBG   \n",
       "11287                            None                  OBG   \n",
       "\n",
       "       fuel_type_code_pudl energy_source_code_2 multiple_fuels  \\\n",
       "354707                 gas                   NG           None   \n",
       "335129                 gas                   NG           None   \n",
       "315225                 gas                   NG           True   \n",
       "294796                 gas                   NG           True   \n",
       "273487                 gas                   NG           True   \n",
       "251659                 gas                   NG           True   \n",
       "230969                 gas                   NG           True   \n",
       "209570                 gas                   NG           True   \n",
       "187764                 gas                   NG           True   \n",
       "165181                 gas                  OBG           None   \n",
       "141466                 gas                  OBG           None   \n",
       "117024                 gas                  OBG           None   \n",
       "92010                  gas                  OBG           True   \n",
       "65860                  gas                  OBG           True   \n",
       "39144                  gas                   NG           True   \n",
       "11287                  gas                   NG           True   \n",
       "\n",
       "       planned_modifications operating_switch operational_status  \\\n",
       "354707                  None             None           existing   \n",
       "335129                  None             None           existing   \n",
       "315225                  None             None           existing   \n",
       "294796                  True             None           existing   \n",
       "273487                 False             None           existing   \n",
       "251659                 False             None           existing   \n",
       "230969                 False             None           existing   \n",
       "209570                 False             None           existing   \n",
       "187764                 False             None           existing   \n",
       "165181                  None             None           existing   \n",
       "141466                  None             None           existing   \n",
       "117024                  None             None           existing   \n",
       "92010                   None             None           existing   \n",
       "65860                   None             None           existing   \n",
       "39144                   None             None           existing   \n",
       "11287                   None             None           existing   \n",
       "\n",
       "       planned_modifications planned_repower_date  \n",
       "354707                  None                 None  \n",
       "335129                  None                 None  \n",
       "315225                  None                 None  \n",
       "294796                  True                 None  \n",
       "273487                 False                 None  \n",
       "251659                 False                 None  \n",
       "230969                 False                 None  \n",
       "209570                 False                 None  \n",
       "187764                 False                 None  \n",
       "165181                  None                 None  \n",
       "141466                  None                 None  \n",
       "117024                  None                 None  \n",
       "92010                   None                 None  \n",
       "65860                   None                 None  \n",
       "39144                   None                 None  \n",
       "11287                   None                 None  "
      ]
     },
     "execution_count": 46,
     "metadata": {},
     "output_type": "execute_result"
    }
   ],
   "source": [
    "# View plants that change technology description\n",
    "import random\n",
    "\n",
    "regs = ['report_date','plant_id_eia','plant_id_pudl','plant_name_eia', 'generator_id', 'technology_description', 'operating_date',\n",
    "        'current_planned_operating_date', 'energy_source_code_1', 'fuel_type_code_pudl', 'energy_source_code_2', 'multiple_fuels', 'planned_modifications',\n",
    "        'operating_switch', 'operational_status', 'planned_modifications', 'planned_repower_date']\n",
    "\n",
    "aa = eia[eia['tech_diff']==True].copy()\n",
    "bb = aa.drop_duplicates(subset=['plant_id_eia', 'generator_id']).copy().reset_index()\n",
    "\n",
    "idx = bb.iloc[random.randint(0,len(bb)-1)]['index']\n",
    "plt_id = eia.loc[eia.index==idx]['plant_id_eia'].item()\n",
    "gen_id = eia.loc[eia.index==idx]['generator_id'].item()\n",
    "eia[(eia['plant_id_eia']==plt_id) & (eia['generator_id']==gen_id)][regs]"
   ]
  },
  {
   "cell_type": "markdown",
   "id": "e60821f8-c1a6-4ed0-b322-0795c333b9d5",
   "metadata": {},
   "source": [
    "### MUL Stuff"
   ]
  },
  {
   "cell_type": "code",
   "execution_count": null,
   "id": "be5ce27b-c5a9-4a94-a929-785bf6d67d8d",
   "metadata": {},
   "outputs": [],
   "source": [
    "# Read in MUL\n",
    "import pickle\n",
    "\n",
    "with open('/Users/aesharpe/Desktop/ferc1_to_eia_full.pkl', 'rb') as handle:\n",
    "    mul_ferc = pickle.load(handle)"
   ]
  }
 ],
 "metadata": {
  "kernelspec": {
   "display_name": "Python 3",
   "language": "python",
   "name": "python3"
  },
  "language_info": {
   "codemirror_mode": {
    "name": "ipython",
    "version": 3
   },
   "file_extension": ".py",
   "mimetype": "text/x-python",
   "name": "python",
   "nbconvert_exporter": "python",
   "pygments_lexer": "ipython3",
   "version": "3.9.4"
  }
 },
 "nbformat": 4,
 "nbformat_minor": 5
}

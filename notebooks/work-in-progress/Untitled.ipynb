{
 "cells": [
  {
   "cell_type": "markdown",
   "id": "4935ba68-1f1a-4452-ac21-77a2d9885dbd",
   "metadata": {},
   "source": [
    "# Test Transform Module"
   ]
  },
  {
   "cell_type": "code",
   "execution_count": null,
   "id": "1b12a346-e243-45ed-b890-47f4e20ca743",
   "metadata": {},
   "outputs": [],
   "source": [
    "# To DO :\n"
   ]
  },
  {
   "cell_type": "markdown",
   "id": "2624938d-b777-4ee7-894f-94d54716bd64",
   "metadata": {},
   "source": [
    "### Setup"
   ]
  },
  {
   "cell_type": "code",
   "execution_count": 5,
   "id": "4d972975-a320-43bf-a9c4-894be7b63c99",
   "metadata": {
    "tags": []
   },
   "outputs": [
    {
     "name": "stdout",
     "output_type": "stream",
     "text": [
      "The autoreload extension is already loaded. To reload it, use:\n",
      "  %reload_ext autoreload\n"
     ]
    }
   ],
   "source": [
    "%load_ext autoreload\n",
    "%autoreload 2"
   ]
  },
  {
   "cell_type": "code",
   "execution_count": 6,
   "id": "7f152f3f-2780-4165-aff7-b4ff1232f26f",
   "metadata": {
    "tags": []
   },
   "outputs": [],
   "source": [
    "# Standard libraries\n",
    "import logging\n",
    "import sys\n",
    "import os\n",
    "import pathlib\n",
    "import random\n",
    "\n",
    "import pandas as pd\n",
    "import numpy as np\n",
    "import sqlalchemy as sa\n",
    "\n",
    "# Local libraries\n",
    "import pudl\n",
    "from pudl.analysis.fill_ferc1_fuel_gaps import *\n",
    "from pudl.analysis.flag_ferc1_totals import *\n",
    "from pudl.analysis.clean_combine_ferc1 import *\n",
    "\n",
    "# Enable viewing of logging outputs\n",
    "logger=logging.getLogger()\n",
    "logger.setLevel(logging.DEBUG)\n",
    "handler = logging.StreamHandler(stream=sys.stdout)\n",
    "formatter = logging.Formatter('%(message)s')\n",
    "handler.setFormatter(formatter)\n",
    "logger.handlers = [handler]"
   ]
  },
  {
   "cell_type": "code",
   "execution_count": 7,
   "id": "2f385475-cecd-4425-850b-618605463b0c",
   "metadata": {
    "tags": []
   },
   "outputs": [],
   "source": [
    "# Establish connection to pudl database\n",
    "pudl_settings = pudl.workspace.setup.get_defaults()\n",
    "pudl_engine = sa.create_engine(pudl_settings['pudl_db'])\n",
    "ferc_engine = sa.create_engine(pudl_settings['ferc1_db'])\n",
    "pudl_out = pudl.output.pudltabl.PudlTabl(\n",
    "    pudl_engine=pudl_engine,\n",
    "    #ferc_engine=ferc_engine,\n",
    "    freq='AS'\n",
    ")\n",
    "\n",
    "ferc_engine = sa.create_engine(pudl_settings['ferc1_db'])"
   ]
  },
  {
   "cell_type": "code",
   "execution_count": 8,
   "id": "e8e5fddd-32f0-4d4d-8440-58fbd53a7795",
   "metadata": {
    "tags": []
   },
   "outputs": [],
   "source": [
    "# View random utility groups! (thanks, Trenton)\n",
    "def view_random_utility(df):\n",
    "    df = df.reset_index(drop=True)\n",
    "    util_groups = df.groupby(['utility_id_ferc1'])\n",
    "    random_utility = random.choice(list(util_groups.groups.keys()))\n",
    "    return df.iloc[util_groups.groups[random_utility]]"
   ]
  },
  {
   "cell_type": "markdown",
   "id": "2448ab68-5268-4048-aff4-91f523bd3910",
   "metadata": {},
   "source": [
    "-------------"
   ]
  },
  {
   "cell_type": "markdown",
   "id": "41bc6efb-9309-4b93-8ce3-ce6f048a8188",
   "metadata": {},
   "source": [
    "### Basic Transform Stuff"
   ]
  },
  {
   "cell_type": "code",
   "execution_count": 9,
   "id": "3e3ff861-4d52-45cf-af8b-c2c73ff1958f",
   "metadata": {
    "tags": []
   },
   "outputs": [
    {
     "name": "stderr",
     "output_type": "stream",
     "text": [
      "/Users/aesharpe/miniconda3/envs/pudl-dev/lib/python3.9/site-packages/openpyxl/worksheet/_reader.py:312: UserWarning: Unknown extension is not supported and will be removed\n",
      "  warn(msg)\n"
     ]
    }
   ],
   "source": [
    "# # Establish table connections\n",
    "steam = pudl_out.plants_steam_ferc1().assign(primary_fuel=np.nan)\n",
    "hydro = pudl_out.plants_hydro_ferc1()\n",
    "pumped_storage = pudl_out.plants_pumped_storage_ferc1()\n",
    "fbp = pudl_out.fbp_ferc1()\n",
    "small_plants_clean = pudl_out.plants_small_ferc1()#.dropna(subset=['plant_name_ferc1'])\n",
    "eia = pudl_out.gens_eia860().copy()\n",
    "\n",
    "\n",
    "# Now because we don't want all the header rows dropped, we need to pull in a raw version of the small plants table\n",
    "# and run it manually through the transform process.\n",
    "# Get raw version of small plants\n",
    "small_plants_raw = pd.read_sql(\"f1_gnrt_plant\", ferc_engine)\n",
    "# Here we create a fake raw dfs dictionary with just the small plants df to run it through\n",
    "# Zane's existing transform feature.\n",
    "fake_dict = {'plants_small_ferc1': small_plants_raw}\n",
    "new_dict = {}\n",
    "small_plants_dict = pudl.transform.ferc1.plants_small(fake_dict, new_dict)\n",
    "small_plants = small_plants_dict['plants_small_ferc1']\n",
    "# Add pudl id column\n",
    "from pudl.output.ferc1 import plants_utils_ferc1\n",
    "small_plants = pd.merge(\n",
    "    small_plants, plants_utils_ferc1(pudl_engine), \n",
    "    on=['utility_id_ferc1', 'plant_name_ferc1'], how='left')\n",
    "small_plants.loc[:,'plant_id_pudl'] = small_plants.plant_id_pudl.astype('Int64')\n",
    "small_plants.loc[:,'utility_id_pudl'] = small_plants.utility_id_pudl.astype('Int64')\n",
    "\n",
    "first_cols = ['report_year', 'utility_id_ferc1', 'utility_id_pudl',\n",
    "              'utility_name_ferc1', 'plant_id_pudl', 'plant_name_ferc1', 'plant_name_original']\n",
    "\n",
    "small_plants = pudl.helpers.organize_cols(small_plants, first_cols)\n",
    "\n",
    "# Drop rows with no plant name because we can't use that\n",
    "# small_plants = small_plants.dropna(subset=['plant_name_original'])"
   ]
  },
  {
   "cell_type": "code",
   "execution_count": 10,
   "id": "d5d85c67-3797-4bc0-9037-2514138511e3",
   "metadata": {},
   "outputs": [],
   "source": [
    "ferc1_tables = {'steam': steam, 'small': small_plants, 'hydro': hydro, 'pumped': pumped_storage}"
   ]
  },
  {
   "cell_type": "code",
   "execution_count": 11,
   "id": "eb984ef1-6007-46b7-aaa2-e8058c191de9",
   "metadata": {
    "tags": []
   },
   "outputs": [],
   "source": [
    "steam_ferc = SteamTable('steam', ferc1_tables['steam'].copy(), steam_value_cols, pudl_out)\n",
    "small_ferc = SmallTable('small', ferc1_tables['small'].copy(), small_value_cols)\n",
    "hydro_ferc = HydroTable('hydro', ferc1_tables['hydro'].copy(), hydro_value_cols)\n",
    "ps_ferc = HydroTable('pumped-storage', ferc1_tables['pumped'].copy(), pumped_value_cols)\n",
    "table_list = [steam_ferc, small_ferc, hydro_ferc, ps_ferc]"
   ]
  },
  {
   "cell_type": "code",
   "execution_count": 12,
   "id": "f676b0f9-93c1-49f7-b522-eff138e24ab2",
   "metadata": {
    "collapsed": true,
    "jupyter": {
     "outputs_hidden": true
    },
    "tags": []
   },
   "outputs": [
    {
     "name": "stdout",
     "output_type": "stream",
     "text": [
      "\n",
      "*** TRANSFORMING STEAM TABLE ***\n",
      "Cleaning steam table\n",
      "Flagging totals rows for steam table\n",
      " - flagging specific totals\n",
      " - adding manual totals\n",
      " - backfilling totals by capacity\n",
      "Labeling fuel types for steam table\n",
      " - loading EIA table\n",
      " - adding fuel types\n",
      "  * filling fuels with obvious names\n",
      "    27072 / 29102 rows left unfilled\n",
      "  * filling in primary fuel by mmbtu\n",
      "    3872 / 29102 rows left unfilled\n",
      "  * filling in eia plants with one reported fuel\n",
      "    2527 / 29104 rows left unfilled\n",
      "  * filling in primary fuel by cost\n",
      "    2258 / 29104 rows left unfilled\n",
      "  * filling in raw ferc1 fuels\n",
      "    2114 / 29104 rows left unfilled\n",
      "  * filling in ferc plants with one fuel\n",
      "    1316 / 29104 rows left unfilled\n",
      "  * filling in pudl plants with one fuel\n",
      "    1187 / 29104 rows left unfilled\n",
      "  * filling in manually mapped fuels\n",
      "    1098 / 29104 rows left unfilled\n",
      "  * front and backfilling values with the same ferc1 id\n",
      "    842 / 29104 rows left unfilled\n",
      "  * flipping single fuel outliers for plant_id_ferc1\n",
      "    842 / 29104 rows left unfilled\n",
      "  * flipping multiple fuel outliers for groups under 7\n",
      "    842 / 29104 rows left unfilled\n",
      "  * flipping single outliers by capacity\n",
      " - adding plant types\n",
      "  * filling plants with obvious names\n",
      "    771 / 28527 rows left unfilled\n",
      "  * filling in manually mapped plant types\n",
      " - adding tech types\n",
      "  * merging single-tech EIA technology_description with FERC\n",
      "    20386 / 28527 rows left unfilled\n",
      "  * backfilling EIA technology_description by year if no new units installed\n",
      "    14518 / 28527 rows left unfilled\n",
      "  * combining primary_fuel and plant_type columns\n",
      "    677 / 28527 rows left unfilled\n",
      "  * making uniform tech description col\n",
      "\n",
      "*** TRANSFORMING SMALL TABLE ***\n",
      "Cleaning small table\n",
      " - Pre-clean length: 19245\n",
      " - Post-clean length: 19187\n",
      "Flagging totals rows for small table\n",
      " - using basic total flag\n",
      "Labeling fuel types for small table\n",
      "Adding a column for FERC licenses\n",
      " - manually added licenses:             1842\n",
      " - programatically scraped licenses:             3839\n",
      "\n",
      "PROOF: ROWS WHERE PROG ID DOES NOT MATCH MANUAL ID: \n",
      "              plant_name_ferc1  report_year  ferc_license_manual  ferc_license\n",
      "9776   rochester station #160         2006                 2596           160\n",
      "10472  rochester station #160         2007                 2596           160 \n",
      "\n",
      "Labeling possible headers\n",
      "Identifying header clumps...this'll take a second\n"
     ]
    },
    {
     "name": "stderr",
     "output_type": "stream",
     "text": [
      "100%|██████████| 1880/1880 [00:22<00:00, 83.24it/s] "
     ]
    },
    {
     "name": "stdout",
     "output_type": "stream",
     "text": [
      " - validating clump findings\n",
      "Assigning headers to groups\n",
      " - likely headers that have not been mapped: ['hydraulic' 'other:' 'other production:' 'lewiston canal facilities:'\n",
      " 'other' 'hydraulic (1):' 'hydraulic:'\n",
      " 'other general ops. supervision & engineering' 'other-leased:'\n",
      " 'renewables' 'renewables:']\n",
      " - creating header groups\n"
     ]
    },
    {
     "name": "stderr",
     "output_type": "stream",
     "text": [
      "\n"
     ]
    },
    {
     "name": "stdout",
     "output_type": "stream",
     "text": [
      " - assigning headers to groups\n",
      "Labeling all obvious headers\n",
      " - labeling all headers with a tech name in their name\n",
      " - labeling all records with a ferc license hydro\n",
      "\n",
      "header matches manual plant type: 4902\n",
      "total manual plant types: 6534\n",
      "total headers mapped: 14892\n",
      "total headers with manual: 15837\n",
      "total rows: 17356\n",
      "\n",
      "\n",
      "*** TRANSFORMING HYDRO TABLE ***\n",
      "Cleaning hydro table\n",
      "Flagging totals rows for hydro table\n",
      " - using basic total flag\n",
      "Labeling fuel types for hydro table\n",
      "\n",
      "*** TRANSFORMING PUMPED-STORAGE TABLE ***\n",
      "Cleaning pumped-storage table\n",
      "Flagging totals rows for pumped-storage table\n",
      " - using basic total flag\n",
      "Labeling fuel types for pumped-storage table\n"
     ]
    }
   ],
   "source": [
    "for table in table_list:\n",
    "    table.transform()"
   ]
  },
  {
   "cell_type": "code",
   "execution_count": 21,
   "id": "55712186-d2fe-43b5-904e-b7ceb886764c",
   "metadata": {
    "tags": []
   },
   "outputs": [
    {
     "data": {
      "text/plain": [
       "288298.48"
      ]
     },
     "execution_count": 21,
     "metadata": {},
     "output_type": "execute_result"
    }
   ],
   "source": [
    "test = ps_ferc.df.copy()\n",
    "test[test['is_total']==False].capacity_mw.sum()"
   ]
  },
  {
   "cell_type": "code",
   "execution_count": 39,
   "id": "50969e10-7205-4e45-92a6-8d2f56c26875",
   "metadata": {},
   "outputs": [
    {
     "name": "stdout",
     "output_type": "stream",
     "text": [
      "17356\n",
      "2201\n"
     ]
    }
   ],
   "source": [
    "print(len(test))\n",
    "print(len(test[test['plant_id_pudl'].isna()]))\n",
    "sgp_id = test['plant_id_pudl'].unique()\n",
    "eia_ids = eia['plant_id_pudl'].unique()"
   ]
  },
  {
   "cell_type": "code",
   "execution_count": 41,
   "id": "b8ac5ead-9b04-42b7-8090-7f92bbc821e5",
   "metadata": {},
   "outputs": [],
   "source": [
    "in_eia = [x for x in sgp_id if x in eia_ids]"
   ]
  },
  {
   "cell_type": "code",
   "execution_count": 42,
   "id": "8b337383-9905-403b-a3ab-3bda8602267a",
   "metadata": {},
   "outputs": [],
   "source": [
    "bb = eia[eia['plant_id_pudl'].isin(in_eia)]"
   ]
  },
  {
   "cell_type": "code",
   "execution_count": null,
   "id": "90940e26-4ef2-42bd-b2bc-d1671800c806",
   "metadata": {},
   "outputs": [],
   "source": []
  },
  {
   "cell_type": "code",
   "execution_count": 40,
   "id": "11029721-528f-4a83-b086-ed0fd8a47518",
   "metadata": {},
   "outputs": [
    {
     "name": "stdout",
     "output_type": "stream",
     "text": [
      "648\n",
      "17356\n",
      "3822\n"
     ]
    },
    {
     "name": "stderr",
     "output_type": "stream",
     "text": [
      "<ipython-input-40-5d1228dd4bdc>:2: SettingWithCopyWarning: \n",
      "A value is trying to be set on a copy of a slice from a DataFrame.\n",
      "Try using .loc[row_indexer,col_indexer] = value instead\n",
      "\n",
      "See the caveats in the documentation: https://pandas.pydata.org/pandas-docs/stable/user_guide/indexing.html#returning-a-view-versus-a-copy\n",
      "  aa['header'] = aa.header.fillna('unknown')\n"
     ]
    }
   ],
   "source": [
    "# PUDL IDS that also appear in EIA\n",
    "aa['header'] = aa.header.fillna('unknown')\n",
    "print(len([x for x in sgp_id if x in eia_ids]))\n",
    "print(len(test))\n",
    "print(len(aa[~aa['header'].str.contains('hydro|solar_pv')]))"
   ]
  },
  {
   "cell_type": "code",
   "execution_count": 38,
   "id": "ad7c3657-a2db-458b-b3fa-5d90711757d2",
   "metadata": {},
   "outputs": [
    {
     "data": {
      "text/plain": [
       "56.10163632173312"
      ]
     },
     "execution_count": 38,
     "metadata": {},
     "output_type": "execute_result"
    }
   ],
   "source": [
    "9737/17356*100"
   ]
  },
  {
   "cell_type": "code",
   "execution_count": 20,
   "id": "f1696540-93b4-42f6-9703-1829e81cae99",
   "metadata": {},
   "outputs": [],
   "source": [
    "aa = test[~test['plant_id_pudl'].isin(eia['plant_id_pudl'].unique())]"
   ]
  },
  {
   "cell_type": "code",
   "execution_count": 21,
   "id": "502f1f8d-652d-4be4-a3e9-e51b42e2398d",
   "metadata": {},
   "outputs": [
    {
     "data": {
      "text/plain": [
       "hydro                  2732\n",
       "solar_pv               1065\n",
       "internal_combustion     960\n",
       "diesel_turbine          583\n",
       "wind                    226\n",
       "gas_turbine             135\n",
       "steam_heat              124\n",
       "waste_heat              111\n",
       "fuel_cell                36\n",
       "combustion_turbine        7\n",
       "nuclear                   1\n",
       "combined_cycle            1\n",
       "Name: header, dtype: int64"
      ]
     },
     "execution_count": 21,
     "metadata": {},
     "output_type": "execute_result"
    }
   ],
   "source": [
    "aa['header'].value_counts()"
   ]
  },
  {
   "cell_type": "code",
   "execution_count": 23,
   "id": "b1d11cc8-35b3-494f-974f-a4878edaa62c",
   "metadata": {},
   "outputs": [
    {
     "data": {
      "text/plain": [
       "hydro                  8462\n",
       "internal_combustion    1983\n",
       "solar_pv               1429\n",
       "diesel_turbine         1340\n",
       "wind                    864\n",
       "steam_heat              291\n",
       "gas_turbine             277\n",
       "waste_heat              137\n",
       "combustion_turbine       54\n",
       "fuel_cell                44\n",
       "nuclear                   9\n",
       "combined_cycle            2\n",
       "Name: header, dtype: int64"
      ]
     },
     "execution_count": 23,
     "metadata": {},
     "output_type": "execute_result"
    }
   ],
   "source": [
    "test['header'].value_counts()"
   ]
  },
  {
   "cell_type": "markdown",
   "id": "91330a34-7069-4634-9e8a-3f9c0078ff5d",
   "metadata": {},
   "source": [
    "### Totals and Aggregation"
   ]
  },
  {
   "cell_type": "code",
   "execution_count": 48,
   "id": "1d6bf84c-d1f0-469b-b6f1-6c725e67df70",
   "metadata": {
    "tags": []
   },
   "outputs": [
    {
     "data": {
      "text/plain": [
       "array([None, 'plant total', 'utility owned extra', 'utility owned total',\n",
       "       'utility owned steam extra',\n",
       "       'utility owned combustion turbine extra',\n",
       "       'utility owned nuclear extra'], dtype=object)"
      ]
     },
     "execution_count": 48,
     "metadata": {},
     "output_type": "execute_result"
    }
   ],
   "source": [
    "steam_ferc.df.total_type.unique()"
   ]
  },
  {
   "cell_type": "code",
   "execution_count": 38,
   "id": "aa361e59-cb85-4a34-ba64-36da9bd7ea7d",
   "metadata": {},
   "outputs": [],
   "source": [
    "aa = pd.read_excel('/Users/aesharpe/Desktop/manual_total_types.xlsx')"
   ]
  },
  {
   "cell_type": "code",
   "execution_count": 39,
   "id": "239daf8f-8bb8-4689-891e-dbdc4c6aa826",
   "metadata": {},
   "outputs": [],
   "source": [
    "bb = aa.assign(report_year=lambda x: ([list(range(start, end)) for start, end in x[['start_year', 'end_year']].values]))"
   ]
  },
  {
   "cell_type": "code",
   "execution_count": 41,
   "id": "be4621d1-b8d6-41ef-881e-406940202e84",
   "metadata": {},
   "outputs": [],
   "source": [
    "cc = bb.explode('report_year')"
   ]
  },
  {
   "cell_type": "code",
   "execution_count": 45,
   "id": "fb055cc5-a5c1-44a7-84c7-06599b2d610a",
   "metadata": {},
   "outputs": [],
   "source": [
    "dd = cc.assign(record_id=lambda x: ('f1_steam_' + x.report_year.astype('str') + x.id_suffix))[['record_id', 'total_type_manual']].copy()"
   ]
  },
  {
   "cell_type": "code",
   "execution_count": 47,
   "id": "bc6debd5-7a48-4c86-8dce-b77cf0157a86",
   "metadata": {},
   "outputs": [
    {
     "data": {
      "text/plain": [
       "array(['utility owned plant total', 'plant total', 'unit total',\n",
       "       'utility owned plant total steam', 'utility owned total',\n",
       "       'utility owned subtotal', 'utility owned total nuclear',\n",
       "       'utility owned plant extra'], dtype=object)"
      ]
     },
     "execution_count": 47,
     "metadata": {},
     "output_type": "execute_result"
    }
   ],
   "source": [
    "dd.total_type_manual.unique()"
   ]
  },
  {
   "cell_type": "markdown",
   "id": "390b7faa-a4dc-403e-a700-026e9f47fda3",
   "metadata": {},
   "source": [
    "### Show change in technology description in EIA records "
   ]
  },
  {
   "cell_type": "code",
   "execution_count": 16,
   "id": "905a2a69-3f1a-4fc5-9502-e6d80d36aa14",
   "metadata": {},
   "outputs": [],
   "source": [
    "eia['report_year'] = eia['report_date'].dt.year"
   ]
  },
  {
   "cell_type": "code",
   "execution_count": 17,
   "id": "c7f0ac18-6b5c-428a-b5df-a9ebeb7a3930",
   "metadata": {},
   "outputs": [],
   "source": [
    "eia['tech_diff'] = (\n",
    "    eia.groupby(['plant_id_eia', 'generator_id',])['technology_description']\n",
    "    .transform(lambda x: len(x.dropna().unique()) > 1)\n",
    ")"
   ]
  },
  {
   "cell_type": "code",
   "execution_count": 46,
   "id": "3c8e4ebf-391b-48e3-9718-15ae7fe7aace",
   "metadata": {
    "collapsed": true,
    "jupyter": {
     "outputs_hidden": true
    },
    "tags": []
   },
   "outputs": [
    {
     "data": {
      "text/html": [
       "<div>\n",
       "<style scoped>\n",
       "    .dataframe tbody tr th:only-of-type {\n",
       "        vertical-align: middle;\n",
       "    }\n",
       "\n",
       "    .dataframe tbody tr th {\n",
       "        vertical-align: top;\n",
       "    }\n",
       "\n",
       "    .dataframe thead th {\n",
       "        text-align: right;\n",
       "    }\n",
       "</style>\n",
       "<table border=\"1\" class=\"dataframe\">\n",
       "  <thead>\n",
       "    <tr style=\"text-align: right;\">\n",
       "      <th></th>\n",
       "      <th>report_date</th>\n",
       "      <th>plant_id_eia</th>\n",
       "      <th>plant_id_pudl</th>\n",
       "      <th>plant_name_eia</th>\n",
       "      <th>generator_id</th>\n",
       "      <th>technology_description</th>\n",
       "      <th>operating_date</th>\n",
       "      <th>current_planned_operating_date</th>\n",
       "      <th>energy_source_code_1</th>\n",
       "      <th>fuel_type_code_pudl</th>\n",
       "      <th>energy_source_code_2</th>\n",
       "      <th>multiple_fuels</th>\n",
       "      <th>planned_modifications</th>\n",
       "      <th>operating_switch</th>\n",
       "      <th>operational_status</th>\n",
       "      <th>planned_modifications</th>\n",
       "      <th>planned_repower_date</th>\n",
       "    </tr>\n",
       "  </thead>\n",
       "  <tbody>\n",
       "    <tr>\n",
       "      <th>354707</th>\n",
       "      <td>2004-01-01</td>\n",
       "      <td>56134</td>\n",
       "      <td>4820</td>\n",
       "      <td>Stockton Regional Water Control Facility</td>\n",
       "      <td>101</td>\n",
       "      <td>None</td>\n",
       "      <td>2000-11-01</td>\n",
       "      <td>None</td>\n",
       "      <td>OBG</td>\n",
       "      <td>gas</td>\n",
       "      <td>NG</td>\n",
       "      <td>None</td>\n",
       "      <td>None</td>\n",
       "      <td>None</td>\n",
       "      <td>existing</td>\n",
       "      <td>None</td>\n",
       "      <td>None</td>\n",
       "    </tr>\n",
       "    <tr>\n",
       "      <th>335129</th>\n",
       "      <td>2005-01-01</td>\n",
       "      <td>56134</td>\n",
       "      <td>4820</td>\n",
       "      <td>Stockton Regional Water Control Facility</td>\n",
       "      <td>101</td>\n",
       "      <td>None</td>\n",
       "      <td>2000-11-01</td>\n",
       "      <td>None</td>\n",
       "      <td>OBG</td>\n",
       "      <td>gas</td>\n",
       "      <td>NG</td>\n",
       "      <td>None</td>\n",
       "      <td>None</td>\n",
       "      <td>None</td>\n",
       "      <td>existing</td>\n",
       "      <td>None</td>\n",
       "      <td>None</td>\n",
       "    </tr>\n",
       "    <tr>\n",
       "      <th>315225</th>\n",
       "      <td>2006-01-01</td>\n",
       "      <td>56134</td>\n",
       "      <td>4820</td>\n",
       "      <td>Stockton Regional Water Control Facility</td>\n",
       "      <td>101</td>\n",
       "      <td>None</td>\n",
       "      <td>2000-11-01</td>\n",
       "      <td>None</td>\n",
       "      <td>OBG</td>\n",
       "      <td>gas</td>\n",
       "      <td>NG</td>\n",
       "      <td>True</td>\n",
       "      <td>None</td>\n",
       "      <td>None</td>\n",
       "      <td>existing</td>\n",
       "      <td>None</td>\n",
       "      <td>None</td>\n",
       "    </tr>\n",
       "    <tr>\n",
       "      <th>294796</th>\n",
       "      <td>2007-01-01</td>\n",
       "      <td>56134</td>\n",
       "      <td>4820</td>\n",
       "      <td>Stockton Regional Water Control Facility</td>\n",
       "      <td>101</td>\n",
       "      <td>None</td>\n",
       "      <td>2000-11-01</td>\n",
       "      <td>None</td>\n",
       "      <td>OBG</td>\n",
       "      <td>gas</td>\n",
       "      <td>NG</td>\n",
       "      <td>True</td>\n",
       "      <td>True</td>\n",
       "      <td>None</td>\n",
       "      <td>existing</td>\n",
       "      <td>True</td>\n",
       "      <td>None</td>\n",
       "    </tr>\n",
       "    <tr>\n",
       "      <th>273487</th>\n",
       "      <td>2008-01-01</td>\n",
       "      <td>56134</td>\n",
       "      <td>4820</td>\n",
       "      <td>Stockton Regional Water Control Facility</td>\n",
       "      <td>101</td>\n",
       "      <td>None</td>\n",
       "      <td>2000-11-01</td>\n",
       "      <td>None</td>\n",
       "      <td>OBG</td>\n",
       "      <td>gas</td>\n",
       "      <td>NG</td>\n",
       "      <td>True</td>\n",
       "      <td>False</td>\n",
       "      <td>None</td>\n",
       "      <td>existing</td>\n",
       "      <td>False</td>\n",
       "      <td>None</td>\n",
       "    </tr>\n",
       "    <tr>\n",
       "      <th>251659</th>\n",
       "      <td>2009-01-01</td>\n",
       "      <td>56134</td>\n",
       "      <td>4820</td>\n",
       "      <td>Stockton Regional Water Control Facility</td>\n",
       "      <td>101</td>\n",
       "      <td>None</td>\n",
       "      <td>2000-11-01</td>\n",
       "      <td>None</td>\n",
       "      <td>OBG</td>\n",
       "      <td>gas</td>\n",
       "      <td>NG</td>\n",
       "      <td>True</td>\n",
       "      <td>False</td>\n",
       "      <td>None</td>\n",
       "      <td>existing</td>\n",
       "      <td>False</td>\n",
       "      <td>None</td>\n",
       "    </tr>\n",
       "    <tr>\n",
       "      <th>230969</th>\n",
       "      <td>2010-01-01</td>\n",
       "      <td>56134</td>\n",
       "      <td>4820</td>\n",
       "      <td>Stockton Regional Water Control Facility</td>\n",
       "      <td>101</td>\n",
       "      <td>None</td>\n",
       "      <td>2000-11-01</td>\n",
       "      <td>None</td>\n",
       "      <td>OBG</td>\n",
       "      <td>gas</td>\n",
       "      <td>NG</td>\n",
       "      <td>True</td>\n",
       "      <td>False</td>\n",
       "      <td>None</td>\n",
       "      <td>existing</td>\n",
       "      <td>False</td>\n",
       "      <td>None</td>\n",
       "    </tr>\n",
       "    <tr>\n",
       "      <th>209570</th>\n",
       "      <td>2011-01-01</td>\n",
       "      <td>56134</td>\n",
       "      <td>4820</td>\n",
       "      <td>Stockton Regional Water Control Facility</td>\n",
       "      <td>101</td>\n",
       "      <td>None</td>\n",
       "      <td>2000-11-01</td>\n",
       "      <td>None</td>\n",
       "      <td>OBG</td>\n",
       "      <td>gas</td>\n",
       "      <td>NG</td>\n",
       "      <td>True</td>\n",
       "      <td>False</td>\n",
       "      <td>None</td>\n",
       "      <td>existing</td>\n",
       "      <td>False</td>\n",
       "      <td>None</td>\n",
       "    </tr>\n",
       "    <tr>\n",
       "      <th>187764</th>\n",
       "      <td>2012-01-01</td>\n",
       "      <td>56134</td>\n",
       "      <td>4820</td>\n",
       "      <td>Stockton Regional Water Control Facility</td>\n",
       "      <td>101</td>\n",
       "      <td>None</td>\n",
       "      <td>2000-11-01</td>\n",
       "      <td>None</td>\n",
       "      <td>OBG</td>\n",
       "      <td>gas</td>\n",
       "      <td>NG</td>\n",
       "      <td>True</td>\n",
       "      <td>False</td>\n",
       "      <td>None</td>\n",
       "      <td>existing</td>\n",
       "      <td>False</td>\n",
       "      <td>None</td>\n",
       "    </tr>\n",
       "    <tr>\n",
       "      <th>165181</th>\n",
       "      <td>2013-01-01</td>\n",
       "      <td>56134</td>\n",
       "      <td>4820</td>\n",
       "      <td>Stockton Regional Water Control Facility</td>\n",
       "      <td>101</td>\n",
       "      <td>None</td>\n",
       "      <td>2000-11-01</td>\n",
       "      <td>None</td>\n",
       "      <td>NG</td>\n",
       "      <td>gas</td>\n",
       "      <td>OBG</td>\n",
       "      <td>None</td>\n",
       "      <td>None</td>\n",
       "      <td>None</td>\n",
       "      <td>existing</td>\n",
       "      <td>None</td>\n",
       "      <td>None</td>\n",
       "    </tr>\n",
       "    <tr>\n",
       "      <th>141466</th>\n",
       "      <td>2014-01-01</td>\n",
       "      <td>56134</td>\n",
       "      <td>4820</td>\n",
       "      <td>Stockton Regional Water Control Facility</td>\n",
       "      <td>101</td>\n",
       "      <td>Natural Gas Internal Combustion Engine</td>\n",
       "      <td>2000-11-01</td>\n",
       "      <td>None</td>\n",
       "      <td>NG</td>\n",
       "      <td>gas</td>\n",
       "      <td>OBG</td>\n",
       "      <td>None</td>\n",
       "      <td>None</td>\n",
       "      <td>None</td>\n",
       "      <td>existing</td>\n",
       "      <td>None</td>\n",
       "      <td>None</td>\n",
       "    </tr>\n",
       "    <tr>\n",
       "      <th>117024</th>\n",
       "      <td>2015-01-01</td>\n",
       "      <td>56134</td>\n",
       "      <td>4820</td>\n",
       "      <td>Stockton Regional Water Control Facility</td>\n",
       "      <td>101</td>\n",
       "      <td>Natural Gas Internal Combustion Engine</td>\n",
       "      <td>2000-11-01</td>\n",
       "      <td>None</td>\n",
       "      <td>NG</td>\n",
       "      <td>gas</td>\n",
       "      <td>OBG</td>\n",
       "      <td>None</td>\n",
       "      <td>None</td>\n",
       "      <td>None</td>\n",
       "      <td>existing</td>\n",
       "      <td>None</td>\n",
       "      <td>None</td>\n",
       "    </tr>\n",
       "    <tr>\n",
       "      <th>92010</th>\n",
       "      <td>2016-01-01</td>\n",
       "      <td>56134</td>\n",
       "      <td>4820</td>\n",
       "      <td>Stockton Regional Water Control Facility</td>\n",
       "      <td>101</td>\n",
       "      <td>Natural Gas Internal Combustion Engine</td>\n",
       "      <td>2000-11-01</td>\n",
       "      <td>None</td>\n",
       "      <td>NG</td>\n",
       "      <td>gas</td>\n",
       "      <td>OBG</td>\n",
       "      <td>True</td>\n",
       "      <td>None</td>\n",
       "      <td>None</td>\n",
       "      <td>existing</td>\n",
       "      <td>None</td>\n",
       "      <td>None</td>\n",
       "    </tr>\n",
       "    <tr>\n",
       "      <th>65860</th>\n",
       "      <td>2017-01-01</td>\n",
       "      <td>56134</td>\n",
       "      <td>4820</td>\n",
       "      <td>Stockton Regional Water Control Facility</td>\n",
       "      <td>101</td>\n",
       "      <td>Natural Gas Internal Combustion Engine</td>\n",
       "      <td>2000-11-01</td>\n",
       "      <td>None</td>\n",
       "      <td>NG</td>\n",
       "      <td>gas</td>\n",
       "      <td>OBG</td>\n",
       "      <td>True</td>\n",
       "      <td>None</td>\n",
       "      <td>None</td>\n",
       "      <td>existing</td>\n",
       "      <td>None</td>\n",
       "      <td>None</td>\n",
       "    </tr>\n",
       "    <tr>\n",
       "      <th>39144</th>\n",
       "      <td>2018-01-01</td>\n",
       "      <td>56134</td>\n",
       "      <td>4820</td>\n",
       "      <td>Stockton Regional Water Control Facility</td>\n",
       "      <td>101</td>\n",
       "      <td>Other Waste Biomass</td>\n",
       "      <td>2000-11-01</td>\n",
       "      <td>None</td>\n",
       "      <td>OBG</td>\n",
       "      <td>gas</td>\n",
       "      <td>NG</td>\n",
       "      <td>True</td>\n",
       "      <td>None</td>\n",
       "      <td>None</td>\n",
       "      <td>existing</td>\n",
       "      <td>None</td>\n",
       "      <td>None</td>\n",
       "    </tr>\n",
       "    <tr>\n",
       "      <th>11287</th>\n",
       "      <td>2019-01-01</td>\n",
       "      <td>56134</td>\n",
       "      <td>4820</td>\n",
       "      <td>Stockton Regional Water Control Facility</td>\n",
       "      <td>101</td>\n",
       "      <td>Other Waste Biomass</td>\n",
       "      <td>2000-11-01</td>\n",
       "      <td>None</td>\n",
       "      <td>OBG</td>\n",
       "      <td>gas</td>\n",
       "      <td>NG</td>\n",
       "      <td>True</td>\n",
       "      <td>None</td>\n",
       "      <td>None</td>\n",
       "      <td>existing</td>\n",
       "      <td>None</td>\n",
       "      <td>None</td>\n",
       "    </tr>\n",
       "  </tbody>\n",
       "</table>\n",
       "</div>"
      ],
      "text/plain": [
       "       report_date  plant_id_eia  plant_id_pudl  \\\n",
       "354707  2004-01-01         56134           4820   \n",
       "335129  2005-01-01         56134           4820   \n",
       "315225  2006-01-01         56134           4820   \n",
       "294796  2007-01-01         56134           4820   \n",
       "273487  2008-01-01         56134           4820   \n",
       "251659  2009-01-01         56134           4820   \n",
       "230969  2010-01-01         56134           4820   \n",
       "209570  2011-01-01         56134           4820   \n",
       "187764  2012-01-01         56134           4820   \n",
       "165181  2013-01-01         56134           4820   \n",
       "141466  2014-01-01         56134           4820   \n",
       "117024  2015-01-01         56134           4820   \n",
       "92010   2016-01-01         56134           4820   \n",
       "65860   2017-01-01         56134           4820   \n",
       "39144   2018-01-01         56134           4820   \n",
       "11287   2019-01-01         56134           4820   \n",
       "\n",
       "                                  plant_name_eia generator_id  \\\n",
       "354707  Stockton Regional Water Control Facility          101   \n",
       "335129  Stockton Regional Water Control Facility          101   \n",
       "315225  Stockton Regional Water Control Facility          101   \n",
       "294796  Stockton Regional Water Control Facility          101   \n",
       "273487  Stockton Regional Water Control Facility          101   \n",
       "251659  Stockton Regional Water Control Facility          101   \n",
       "230969  Stockton Regional Water Control Facility          101   \n",
       "209570  Stockton Regional Water Control Facility          101   \n",
       "187764  Stockton Regional Water Control Facility          101   \n",
       "165181  Stockton Regional Water Control Facility          101   \n",
       "141466  Stockton Regional Water Control Facility          101   \n",
       "117024  Stockton Regional Water Control Facility          101   \n",
       "92010   Stockton Regional Water Control Facility          101   \n",
       "65860   Stockton Regional Water Control Facility          101   \n",
       "39144   Stockton Regional Water Control Facility          101   \n",
       "11287   Stockton Regional Water Control Facility          101   \n",
       "\n",
       "                        technology_description operating_date  \\\n",
       "354707                                    None     2000-11-01   \n",
       "335129                                    None     2000-11-01   \n",
       "315225                                    None     2000-11-01   \n",
       "294796                                    None     2000-11-01   \n",
       "273487                                    None     2000-11-01   \n",
       "251659                                    None     2000-11-01   \n",
       "230969                                    None     2000-11-01   \n",
       "209570                                    None     2000-11-01   \n",
       "187764                                    None     2000-11-01   \n",
       "165181                                    None     2000-11-01   \n",
       "141466  Natural Gas Internal Combustion Engine     2000-11-01   \n",
       "117024  Natural Gas Internal Combustion Engine     2000-11-01   \n",
       "92010   Natural Gas Internal Combustion Engine     2000-11-01   \n",
       "65860   Natural Gas Internal Combustion Engine     2000-11-01   \n",
       "39144                      Other Waste Biomass     2000-11-01   \n",
       "11287                      Other Waste Biomass     2000-11-01   \n",
       "\n",
       "       current_planned_operating_date energy_source_code_1  \\\n",
       "354707                           None                  OBG   \n",
       "335129                           None                  OBG   \n",
       "315225                           None                  OBG   \n",
       "294796                           None                  OBG   \n",
       "273487                           None                  OBG   \n",
       "251659                           None                  OBG   \n",
       "230969                           None                  OBG   \n",
       "209570                           None                  OBG   \n",
       "187764                           None                  OBG   \n",
       "165181                           None                   NG   \n",
       "141466                           None                   NG   \n",
       "117024                           None                   NG   \n",
       "92010                            None                   NG   \n",
       "65860                            None                   NG   \n",
       "39144                            None                  OBG   \n",
       "11287                            None                  OBG   \n",
       "\n",
       "       fuel_type_code_pudl energy_source_code_2 multiple_fuels  \\\n",
       "354707                 gas                   NG           None   \n",
       "335129                 gas                   NG           None   \n",
       "315225                 gas                   NG           True   \n",
       "294796                 gas                   NG           True   \n",
       "273487                 gas                   NG           True   \n",
       "251659                 gas                   NG           True   \n",
       "230969                 gas                   NG           True   \n",
       "209570                 gas                   NG           True   \n",
       "187764                 gas                   NG           True   \n",
       "165181                 gas                  OBG           None   \n",
       "141466                 gas                  OBG           None   \n",
       "117024                 gas                  OBG           None   \n",
       "92010                  gas                  OBG           True   \n",
       "65860                  gas                  OBG           True   \n",
       "39144                  gas                   NG           True   \n",
       "11287                  gas                   NG           True   \n",
       "\n",
       "       planned_modifications operating_switch operational_status  \\\n",
       "354707                  None             None           existing   \n",
       "335129                  None             None           existing   \n",
       "315225                  None             None           existing   \n",
       "294796                  True             None           existing   \n",
       "273487                 False             None           existing   \n",
       "251659                 False             None           existing   \n",
       "230969                 False             None           existing   \n",
       "209570                 False             None           existing   \n",
       "187764                 False             None           existing   \n",
       "165181                  None             None           existing   \n",
       "141466                  None             None           existing   \n",
       "117024                  None             None           existing   \n",
       "92010                   None             None           existing   \n",
       "65860                   None             None           existing   \n",
       "39144                   None             None           existing   \n",
       "11287                   None             None           existing   \n",
       "\n",
       "       planned_modifications planned_repower_date  \n",
       "354707                  None                 None  \n",
       "335129                  None                 None  \n",
       "315225                  None                 None  \n",
       "294796                  True                 None  \n",
       "273487                 False                 None  \n",
       "251659                 False                 None  \n",
       "230969                 False                 None  \n",
       "209570                 False                 None  \n",
       "187764                 False                 None  \n",
       "165181                  None                 None  \n",
       "141466                  None                 None  \n",
       "117024                  None                 None  \n",
       "92010                   None                 None  \n",
       "65860                   None                 None  \n",
       "39144                   None                 None  \n",
       "11287                   None                 None  "
      ]
     },
     "execution_count": 46,
     "metadata": {},
     "output_type": "execute_result"
    }
   ],
   "source": [
    "# View plants that change technology description\n",
    "import random\n",
    "\n",
    "regs = ['report_date','plant_id_eia','plant_id_pudl','plant_name_eia', 'generator_id', 'technology_description', 'operating_date',\n",
    "        'current_planned_operating_date', 'energy_source_code_1', 'fuel_type_code_pudl', 'energy_source_code_2', 'multiple_fuels', 'planned_modifications',\n",
    "        'operating_switch', 'operational_status', 'planned_modifications', 'planned_repower_date']\n",
    "\n",
    "aa = eia[eia['tech_diff']==True].copy()\n",
    "bb = aa.drop_duplicates(subset=['plant_id_eia', 'generator_id']).copy().reset_index()\n",
    "\n",
    "idx = bb.iloc[random.randint(0,len(bb)-1)]['index']\n",
    "plt_id = eia.loc[eia.index==idx]['plant_id_eia'].item()\n",
    "gen_id = eia.loc[eia.index==idx]['generator_id'].item()\n",
    "eia[(eia['plant_id_eia']==plt_id) & (eia['generator_id']==gen_id)][regs]"
   ]
  },
  {
   "cell_type": "markdown",
   "id": "e60821f8-c1a6-4ed0-b322-0795c333b9d5",
   "metadata": {},
   "source": [
    "### MUL Stuff"
   ]
  },
  {
   "cell_type": "code",
   "execution_count": 6,
   "id": "be5ce27b-c5a9-4a94-a929-785bf6d67d8d",
   "metadata": {},
   "outputs": [],
   "source": [
    "# Read in MUL\n",
    "import pickle\n",
    "\n",
    "path1 = '/Users/aesharpe/Desktop/Work/Catalyst_Coop/rmi-ferc1-eia/outputs/steam_to_eia.pkl'\n",
    "path2 = '/Users/aesharpe/Desktop/Work/Catalyst_Coop/rmi-ferc1-eia/outputs/ferc1_to_eia.pkl'\n",
    "# '/Users/aesharpe/Desktop/ferc1_to_eia_full.pkl'\n",
    "\n",
    "with open(path2, 'rb') as handle:\n",
    "    mul_steam = pickle.load(handle)"
   ]
  },
  {
   "cell_type": "code",
   "execution_count": 7,
   "id": "dde1907c-ad27-42df-a7a7-0be21719d884",
   "metadata": {},
   "outputs": [
    {
     "data": {
      "text/plain": [
       "False    29296\n",
       "dtype: int64"
      ]
     },
     "execution_count": 7,
     "metadata": {},
     "output_type": "execute_result"
    }
   ],
   "source": [
    "mul_steam.duplicated(subset=['record_id_ferc1'], keep=False).value_counts()"
   ]
  },
  {
   "cell_type": "code",
   "execution_count": 8,
   "id": "ca61bdf6-f7da-434a-a91a-725cd996f996",
   "metadata": {},
   "outputs": [
    {
     "data": {
      "text/plain": [
       "14.022392135445111"
      ]
     },
     "execution_count": 8,
     "metadata": {},
     "output_type": "execute_result"
    }
   ],
   "source": [
    "len(mul_steam[mul_steam['technology_description'].notna()]) / len(mul_steam) * 100"
   ]
  },
  {
   "cell_type": "code",
   "execution_count": 11,
   "id": "be82a651-c24d-4a2e-ad2c-31be6121f247",
   "metadata": {},
   "outputs": [
    {
     "name": "stdout",
     "output_type": "stream",
     "text": [
      "29296\n",
      "29270\n"
     ]
    }
   ],
   "source": [
    "print(len(mul_steam))\n",
    "print(len(steam))"
   ]
  },
  {
   "cell_type": "code",
   "execution_count": 12,
   "id": "2255623a-7ba5-4420-a89b-ccacdf75f084",
   "metadata": {},
   "outputs": [
    {
     "data": {
      "text/plain": [
       "['f1_hydro_2018_12_144_0_1',\n",
       " 'f1_hydro_2018_12_177_0_2',\n",
       " 'f1_gnrt_plant_2018_12_79_0_2',\n",
       " 'f1_gnrt_plant_2018_12_79_0_3',\n",
       " 'f1_gnrt_plant_2018_12_148_0_1',\n",
       " 'f1_gnrt_plant_2018_12_148_0_9',\n",
       " 'f1_hydro_2018_12_6_0_4',\n",
       " 'f1_hydro_2018_12_6_0_1',\n",
       " 'f1_hydro_2018_12_6_0_2',\n",
       " 'f1_hydro_2018_12_195_0_1',\n",
       " 'f1_hydro_2018_12_195_0_3',\n",
       " 'f1_hydro_2018_12_195_0_2',\n",
       " 'f1_gnrt_plant_2018_12_148_0_4',\n",
       " 'f1_gnrt_plant_2018_12_294_0_2',\n",
       " 'f1_gnrt_plant_2018_12_294_0_1',\n",
       " 'f1_gnrt_plant_2018_12_294_0_5',\n",
       " 'f1_gnrt_plant_2018_12_132_0_9',\n",
       " 'f1_gnrt_plant_2018_12_132_0_11',\n",
       " 'f1_gnrt_plant_2018_12_132_0_3',\n",
       " 'f1_gnrt_plant_2018_12_132_0_4',\n",
       " 'f1_gnrt_plant_2018_12_132_0_7',\n",
       " 'f1_gnrt_plant_2018_12_294_0_4',\n",
       " 'f1_hydro_2018_12_51_0_1',\n",
       " 'f1_hydro_2018_12_6_0_3',\n",
       " 'f1_hydro_2018_12_6_1_1',\n",
       " 'f1_gnrt_plant_2018_12_294_0_3']"
      ]
     },
     "execution_count": 12,
     "metadata": {},
     "output_type": "execute_result"
    }
   ],
   "source": [
    "[x for x in mul_steam.record_id_ferc1.unique() if x not in steam.record_id.unique()]"
   ]
  },
  {
   "cell_type": "code",
   "execution_count": 51,
   "id": "5776a5d7-7f4a-44e9-9979-e821047b9a9f",
   "metadata": {},
   "outputs": [
    {
     "data": {
      "text/plain": [
       "array([nan], dtype=object)"
      ]
     },
     "execution_count": 51,
     "metadata": {},
     "output_type": "execute_result"
    }
   ],
   "source": [
    "mul_steam[mul_steam['record_id_ferc1'].str.contains('2013')]['technology_description'].unique() # see if tech-desc in report years below 2013uu"
   ]
  },
  {
   "cell_type": "code",
   "execution_count": 10,
   "id": "1dd797ab-4e05-4615-9a26-2ec04bd685fb",
   "metadata": {},
   "outputs": [
    {
     "data": {
      "text/plain": [
       "['plant_name_original',\n",
       " 'ferc_license_id',\n",
       " 'fuel_cost_per_mmbtu',\n",
       " 'fuel_type',\n",
       " 'opex_maintenance',\n",
       " 'opex_total',\n",
       " 'total_cost_of_plant']"
      ]
     },
     "execution_count": 10,
     "metadata": {},
     "output_type": "execute_result"
    }
   ],
   "source": [
    "[x for x in small_plants.columns if x not in steam.columns]"
   ]
  },
  {
   "cell_type": "code",
   "execution_count": 58,
   "id": "dc9de807-99d7-465b-9969-e7198dfa81f6",
   "metadata": {},
   "outputs": [
    {
     "data": {
      "text/plain": [
       "54.17284961367241"
      ]
     },
     "execution_count": 58,
     "metadata": {},
     "output_type": "execute_result"
    }
   ],
   "source": [
    "len(dd[dd['record_id_eia'].notna()]) / len(dd) * 100"
   ]
  },
  {
   "cell_type": "code",
   "execution_count": 56,
   "id": "3aa130cd-9016-4517-879c-fc2865e8613a",
   "metadata": {},
   "outputs": [],
   "source": [
    "dd = mul_steam[mul_steam['report_year']>2000]"
   ]
  },
  {
   "cell_type": "code",
   "execution_count": 57,
   "id": "ccceea26-67d3-40a6-943c-470cb1d8cc29",
   "metadata": {},
   "outputs": [
    {
     "data": {
      "text/html": [
       "<div>\n",
       "<style scoped>\n",
       "    .dataframe tbody tr th:only-of-type {\n",
       "        vertical-align: middle;\n",
       "    }\n",
       "\n",
       "    .dataframe tbody tr th {\n",
       "        vertical-align: top;\n",
       "    }\n",
       "\n",
       "    .dataframe thead th {\n",
       "        text-align: right;\n",
       "    }\n",
       "</style>\n",
       "<table border=\"1\" class=\"dataframe\">\n",
       "  <thead>\n",
       "    <tr style=\"text-align: right;\">\n",
       "      <th></th>\n",
       "      <th>record_id_ferc1</th>\n",
       "      <th>record_id_eia</th>\n",
       "      <th>plant_name_new</th>\n",
       "      <th>plant_part</th>\n",
       "      <th>report_year</th>\n",
       "      <th>ownership</th>\n",
       "      <th>plant_name_eia</th>\n",
       "      <th>plant_id_eia</th>\n",
       "      <th>generator_id</th>\n",
       "      <th>unit_id_pudl</th>\n",
       "      <th>...</th>\n",
       "      <th>water_limited_capacity_mw</th>\n",
       "      <th>total_fuel_cost_ferc1</th>\n",
       "      <th>total_mmbtu</th>\n",
       "      <th>fuel_type_code_pudl</th>\n",
       "      <th>fuel_cost_per_mmbtu</th>\n",
       "      <th>heat_rate_mmbtu_mwh</th>\n",
       "      <th>plant_id_report_year</th>\n",
       "      <th>plant_id_report_year_util_id</th>\n",
       "      <th>_merge</th>\n",
       "      <th>report_date</th>\n",
       "    </tr>\n",
       "  </thead>\n",
       "  <tbody>\n",
       "    <tr>\n",
       "      <th>0</th>\n",
       "      <td>f1_steam_2004_12_100_0_1</td>\n",
       "      <td>6641_2004_plant_owned_12685</td>\n",
       "      <td>Independence Steam Electric Station</td>\n",
       "      <td>plant</td>\n",
       "      <td>2004</td>\n",
       "      <td>owned</td>\n",
       "      <td>Independence Steam Electric Station</td>\n",
       "      <td>6641.0</td>\n",
       "      <td>NaN</td>\n",
       "      <td>&lt;NA&gt;</td>\n",
       "      <td>...</td>\n",
       "      <td>413.0</td>\n",
       "      <td>4.009889e+07</td>\n",
       "      <td>2.833470e+07</td>\n",
       "      <td>coal</td>\n",
       "      <td>1.415187</td>\n",
       "      <td>10.574106</td>\n",
       "      <td>283_2004</td>\n",
       "      <td>283_2004_109</td>\n",
       "      <td>both</td>\n",
       "      <td>2004-01-01</td>\n",
       "    </tr>\n",
       "    <tr>\n",
       "      <th>1</th>\n",
       "      <td>f1_steam_2004_12_100_0_2</td>\n",
       "      <td>8054_2004_plant_total_12685</td>\n",
       "      <td>Gerald Andrus</td>\n",
       "      <td>plant</td>\n",
       "      <td>2004</td>\n",
       "      <td>total</td>\n",
       "      <td>Gerald Andrus</td>\n",
       "      <td>8054.0</td>\n",
       "      <td>1</td>\n",
       "      <td>&lt;NA&gt;</td>\n",
       "      <td>...</td>\n",
       "      <td>741.0</td>\n",
       "      <td>1.094172e+08</td>\n",
       "      <td>2.329099e+07</td>\n",
       "      <td>oil</td>\n",
       "      <td>4.697834</td>\n",
       "      <td>10.619719</td>\n",
       "      <td>216_2004</td>\n",
       "      <td>216_2004_109</td>\n",
       "      <td>both</td>\n",
       "      <td>2004-01-01</td>\n",
       "    </tr>\n",
       "    <tr>\n",
       "      <th>2</th>\n",
       "      <td>f1_steam_2004_12_100_0_3</td>\n",
       "      <td>2053_st_2004_plant_prime_mover_total_12685</td>\n",
       "      <td>Rex Brown ST</td>\n",
       "      <td>plant_prime_mover</td>\n",
       "      <td>2004</td>\n",
       "      <td>total</td>\n",
       "      <td>Rex Brown</td>\n",
       "      <td>2053.0</td>\n",
       "      <td>NaN</td>\n",
       "      <td>&lt;NA&gt;</td>\n",
       "      <td>...</td>\n",
       "      <td>302.0</td>\n",
       "      <td>1.942178e+07</td>\n",
       "      <td>3.071118e+06</td>\n",
       "      <td>gas</td>\n",
       "      <td>6.324011</td>\n",
       "      <td>14.907543</td>\n",
       "      <td>491_2004</td>\n",
       "      <td>491_2004_109</td>\n",
       "      <td>both</td>\n",
       "      <td>2004-01-01</td>\n",
       "    </tr>\n",
       "    <tr>\n",
       "      <th>3</th>\n",
       "      <td>f1_steam_2004_12_100_0_4</td>\n",
       "      <td>2052_2004_plant_total_12685</td>\n",
       "      <td>Natchez</td>\n",
       "      <td>plant</td>\n",
       "      <td>2004</td>\n",
       "      <td>total</td>\n",
       "      <td>Natchez</td>\n",
       "      <td>2052.0</td>\n",
       "      <td>1</td>\n",
       "      <td>&lt;NA&gt;</td>\n",
       "      <td>...</td>\n",
       "      <td>73.0</td>\n",
       "      <td>0.000000e+00</td>\n",
       "      <td>0.000000e+00</td>\n",
       "      <td></td>\n",
       "      <td>NaN</td>\n",
       "      <td>-0.000000</td>\n",
       "      <td>406_2004</td>\n",
       "      <td>406_2004_109</td>\n",
       "      <td>both</td>\n",
       "      <td>2004-01-01</td>\n",
       "    </tr>\n",
       "    <tr>\n",
       "      <th>4</th>\n",
       "      <td>f1_steam_2004_12_100_0_5</td>\n",
       "      <td>2051_2004_plant_total_12685</td>\n",
       "      <td>Delta</td>\n",
       "      <td>plant</td>\n",
       "      <td>2004</td>\n",
       "      <td>total</td>\n",
       "      <td>Delta</td>\n",
       "      <td>2051.0</td>\n",
       "      <td>NaN</td>\n",
       "      <td>&lt;NA&gt;</td>\n",
       "      <td>...</td>\n",
       "      <td>192.0</td>\n",
       "      <td>1.301322e+06</td>\n",
       "      <td>2.379874e+05</td>\n",
       "      <td>oil</td>\n",
       "      <td>5.468030</td>\n",
       "      <td>16.915726</td>\n",
       "      <td>154_2004</td>\n",
       "      <td>154_2004_109</td>\n",
       "      <td>both</td>\n",
       "      <td>2004-01-01</td>\n",
       "    </tr>\n",
       "    <tr>\n",
       "      <th>...</th>\n",
       "      <td>...</td>\n",
       "      <td>...</td>\n",
       "      <td>...</td>\n",
       "      <td>...</td>\n",
       "      <td>...</td>\n",
       "      <td>...</td>\n",
       "      <td>...</td>\n",
       "      <td>...</td>\n",
       "      <td>...</td>\n",
       "      <td>...</td>\n",
       "      <td>...</td>\n",
       "      <td>...</td>\n",
       "      <td>...</td>\n",
       "      <td>...</td>\n",
       "      <td>...</td>\n",
       "      <td>...</td>\n",
       "      <td>...</td>\n",
       "      <td>...</td>\n",
       "      <td>...</td>\n",
       "      <td>...</td>\n",
       "      <td>...</td>\n",
       "    </tr>\n",
       "    <tr>\n",
       "      <th>29291</th>\n",
       "      <td>f1_steam_2019_12_89_3_1</td>\n",
       "      <td>NaN</td>\n",
       "      <td>&lt;NA&gt;</td>\n",
       "      <td>NaN</td>\n",
       "      <td>2019</td>\n",
       "      <td>NaN</td>\n",
       "      <td>&lt;NA&gt;</td>\n",
       "      <td>NaN</td>\n",
       "      <td>NaN</td>\n",
       "      <td>NaN</td>\n",
       "      <td>...</td>\n",
       "      <td>NaN</td>\n",
       "      <td>0.000000e+00</td>\n",
       "      <td>0.000000e+00</td>\n",
       "      <td></td>\n",
       "      <td>NaN</td>\n",
       "      <td>0.000000</td>\n",
       "      <td>14154_2019</td>\n",
       "      <td>14154_2019_171</td>\n",
       "      <td>right_only</td>\n",
       "      <td>2019-01-01</td>\n",
       "    </tr>\n",
       "    <tr>\n",
       "      <th>29292</th>\n",
       "      <td>f1_steam_2019_12_531_1_1</td>\n",
       "      <td>NaN</td>\n",
       "      <td>&lt;NA&gt;</td>\n",
       "      <td>NaN</td>\n",
       "      <td>2019</td>\n",
       "      <td>NaN</td>\n",
       "      <td>&lt;NA&gt;</td>\n",
       "      <td>NaN</td>\n",
       "      <td>NaN</td>\n",
       "      <td>NaN</td>\n",
       "      <td>...</td>\n",
       "      <td>225.0</td>\n",
       "      <td>2.037197e+07</td>\n",
       "      <td>8.535292e+06</td>\n",
       "      <td>gas</td>\n",
       "      <td>2.386792</td>\n",
       "      <td>9.902719</td>\n",
       "      <td>6112_2019</td>\n",
       "      <td>6112_2019_582</td>\n",
       "      <td>right_only</td>\n",
       "      <td>2019-01-01</td>\n",
       "    </tr>\n",
       "    <tr>\n",
       "      <th>29293</th>\n",
       "      <td>f1_steam_2019_12_531_1_2</td>\n",
       "      <td>NaN</td>\n",
       "      <td>&lt;NA&gt;</td>\n",
       "      <td>NaN</td>\n",
       "      <td>2019</td>\n",
       "      <td>NaN</td>\n",
       "      <td>&lt;NA&gt;</td>\n",
       "      <td>NaN</td>\n",
       "      <td>NaN</td>\n",
       "      <td>NaN</td>\n",
       "      <td>...</td>\n",
       "      <td>45.0</td>\n",
       "      <td>7.568640e+04</td>\n",
       "      <td>8.409600e+03</td>\n",
       "      <td>gas</td>\n",
       "      <td>9.000000</td>\n",
       "      <td>16.172308</td>\n",
       "      <td>15162_2019</td>\n",
       "      <td>15162_2019_582</td>\n",
       "      <td>right_only</td>\n",
       "      <td>2019-01-01</td>\n",
       "    </tr>\n",
       "    <tr>\n",
       "      <th>29294</th>\n",
       "      <td>f1_steam_2019_12_531_2_2</td>\n",
       "      <td>NaN</td>\n",
       "      <td>&lt;NA&gt;</td>\n",
       "      <td>NaN</td>\n",
       "      <td>2019</td>\n",
       "      <td>NaN</td>\n",
       "      <td>&lt;NA&gt;</td>\n",
       "      <td>NaN</td>\n",
       "      <td>NaN</td>\n",
       "      <td>NaN</td>\n",
       "      <td>...</td>\n",
       "      <td>127.0</td>\n",
       "      <td>6.251420e+05</td>\n",
       "      <td>2.232650e+05</td>\n",
       "      <td>gas</td>\n",
       "      <td>2.800000</td>\n",
       "      <td>28.165132</td>\n",
       "      <td>15161_2019</td>\n",
       "      <td>15161_2019_582</td>\n",
       "      <td>right_only</td>\n",
       "      <td>2019-01-01</td>\n",
       "    </tr>\n",
       "    <tr>\n",
       "      <th>29295</th>\n",
       "      <td>f1_steam_2019_12_22_1_5</td>\n",
       "      <td>NaN</td>\n",
       "      <td>&lt;NA&gt;</td>\n",
       "      <td>NaN</td>\n",
       "      <td>2019</td>\n",
       "      <td>NaN</td>\n",
       "      <td>&lt;NA&gt;</td>\n",
       "      <td>NaN</td>\n",
       "      <td>NaN</td>\n",
       "      <td>NaN</td>\n",
       "      <td>...</td>\n",
       "      <td>NaN</td>\n",
       "      <td>0.000000e+00</td>\n",
       "      <td>0.000000e+00</td>\n",
       "      <td></td>\n",
       "      <td>NaN</td>\n",
       "      <td>0.000000</td>\n",
       "      <td>14142_2019</td>\n",
       "      <td>14142_2019_69</td>\n",
       "      <td>right_only</td>\n",
       "      <td>2019-01-01</td>\n",
       "    </tr>\n",
       "  </tbody>\n",
       "</table>\n",
       "<p>19543 rows × 80 columns</p>\n",
       "</div>"
      ],
      "text/plain": [
       "                record_id_ferc1                               record_id_eia  \\\n",
       "0      f1_steam_2004_12_100_0_1                 6641_2004_plant_owned_12685   \n",
       "1      f1_steam_2004_12_100_0_2                 8054_2004_plant_total_12685   \n",
       "2      f1_steam_2004_12_100_0_3  2053_st_2004_plant_prime_mover_total_12685   \n",
       "3      f1_steam_2004_12_100_0_4                 2052_2004_plant_total_12685   \n",
       "4      f1_steam_2004_12_100_0_5                 2051_2004_plant_total_12685   \n",
       "...                         ...                                         ...   \n",
       "29291   f1_steam_2019_12_89_3_1                                         NaN   \n",
       "29292  f1_steam_2019_12_531_1_1                                         NaN   \n",
       "29293  f1_steam_2019_12_531_1_2                                         NaN   \n",
       "29294  f1_steam_2019_12_531_2_2                                         NaN   \n",
       "29295   f1_steam_2019_12_22_1_5                                         NaN   \n",
       "\n",
       "                            plant_name_new         plant_part  report_year  \\\n",
       "0      Independence Steam Electric Station              plant         2004   \n",
       "1                            Gerald Andrus              plant         2004   \n",
       "2                             Rex Brown ST  plant_prime_mover         2004   \n",
       "3                                  Natchez              plant         2004   \n",
       "4                                    Delta              plant         2004   \n",
       "...                                    ...                ...          ...   \n",
       "29291                                 <NA>                NaN         2019   \n",
       "29292                                 <NA>                NaN         2019   \n",
       "29293                                 <NA>                NaN         2019   \n",
       "29294                                 <NA>                NaN         2019   \n",
       "29295                                 <NA>                NaN         2019   \n",
       "\n",
       "      ownership                       plant_name_eia  plant_id_eia  \\\n",
       "0         owned  Independence Steam Electric Station        6641.0   \n",
       "1         total                        Gerald Andrus        8054.0   \n",
       "2         total                            Rex Brown        2053.0   \n",
       "3         total                              Natchez        2052.0   \n",
       "4         total                                Delta        2051.0   \n",
       "...         ...                                  ...           ...   \n",
       "29291       NaN                                 <NA>           NaN   \n",
       "29292       NaN                                 <NA>           NaN   \n",
       "29293       NaN                                 <NA>           NaN   \n",
       "29294       NaN                                 <NA>           NaN   \n",
       "29295       NaN                                 <NA>           NaN   \n",
       "\n",
       "      generator_id unit_id_pudl  ... water_limited_capacity_mw  \\\n",
       "0              NaN         <NA>  ...                     413.0   \n",
       "1                1         <NA>  ...                     741.0   \n",
       "2              NaN         <NA>  ...                     302.0   \n",
       "3                1         <NA>  ...                      73.0   \n",
       "4              NaN         <NA>  ...                     192.0   \n",
       "...            ...          ...  ...                       ...   \n",
       "29291          NaN          NaN  ...                       NaN   \n",
       "29292          NaN          NaN  ...                     225.0   \n",
       "29293          NaN          NaN  ...                      45.0   \n",
       "29294          NaN          NaN  ...                     127.0   \n",
       "29295          NaN          NaN  ...                       NaN   \n",
       "\n",
       "      total_fuel_cost_ferc1   total_mmbtu fuel_type_code_pudl  \\\n",
       "0              4.009889e+07  2.833470e+07                coal   \n",
       "1              1.094172e+08  2.329099e+07                 oil   \n",
       "2              1.942178e+07  3.071118e+06                 gas   \n",
       "3              0.000000e+00  0.000000e+00                       \n",
       "4              1.301322e+06  2.379874e+05                 oil   \n",
       "...                     ...           ...                 ...   \n",
       "29291          0.000000e+00  0.000000e+00                       \n",
       "29292          2.037197e+07  8.535292e+06                 gas   \n",
       "29293          7.568640e+04  8.409600e+03                 gas   \n",
       "29294          6.251420e+05  2.232650e+05                 gas   \n",
       "29295          0.000000e+00  0.000000e+00                       \n",
       "\n",
       "       fuel_cost_per_mmbtu  heat_rate_mmbtu_mwh plant_id_report_year  \\\n",
       "0                 1.415187            10.574106             283_2004   \n",
       "1                 4.697834            10.619719             216_2004   \n",
       "2                 6.324011            14.907543             491_2004   \n",
       "3                      NaN            -0.000000             406_2004   \n",
       "4                 5.468030            16.915726             154_2004   \n",
       "...                    ...                  ...                  ...   \n",
       "29291                  NaN             0.000000           14154_2019   \n",
       "29292             2.386792             9.902719            6112_2019   \n",
       "29293             9.000000            16.172308           15162_2019   \n",
       "29294             2.800000            28.165132           15161_2019   \n",
       "29295                  NaN             0.000000           14142_2019   \n",
       "\n",
       "      plant_id_report_year_util_id      _merge  report_date  \n",
       "0                     283_2004_109        both   2004-01-01  \n",
       "1                     216_2004_109        both   2004-01-01  \n",
       "2                     491_2004_109        both   2004-01-01  \n",
       "3                     406_2004_109        both   2004-01-01  \n",
       "4                     154_2004_109        both   2004-01-01  \n",
       "...                            ...         ...          ...  \n",
       "29291               14154_2019_171  right_only   2019-01-01  \n",
       "29292                6112_2019_582  right_only   2019-01-01  \n",
       "29293               15162_2019_582  right_only   2019-01-01  \n",
       "29294               15161_2019_582  right_only   2019-01-01  \n",
       "29295                14142_2019_69  right_only   2019-01-01  \n",
       "\n",
       "[19543 rows x 80 columns]"
      ]
     },
     "execution_count": 57,
     "metadata": {},
     "output_type": "execute_result"
    }
   ],
   "source": []
  },
  {
   "cell_type": "code",
   "execution_count": null,
   "id": "18af6c06-5e10-4e0d-ace7-e58bd7126aeb",
   "metadata": {},
   "outputs": [],
   "source": []
  }
 ],
 "metadata": {
  "kernelspec": {
   "display_name": "Python 3",
   "language": "python",
   "name": "python3"
  },
  "language_info": {
   "codemirror_mode": {
    "name": "ipython",
    "version": 3
   },
   "file_extension": ".py",
   "mimetype": "text/x-python",
   "name": "python",
   "nbconvert_exporter": "python",
   "pygments_lexer": "ipython3",
   "version": "3.9.4"
  }
 },
 "nbformat": 4,
 "nbformat_minor": 5
}
